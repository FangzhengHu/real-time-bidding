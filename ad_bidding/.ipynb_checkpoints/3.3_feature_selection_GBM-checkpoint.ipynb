{
 "cells": [
  {
   "cell_type": "code",
   "execution_count": 1,
   "metadata": {
    "collapsed": true
   },
   "outputs": [],
   "source": [
    "import pandas as pd\n",
    "import numpy as np\n",
    "import collections\n",
    "import random\n",
    "from collections import Counter\n",
    "\n",
    "import matplotlib.pyplot as plt\n",
    "\n",
    "from sklearn.ensemble import RandomForestClassifier\n",
    "from sklearn.metrics import roc_auc_score\n",
    "\n",
    "import lightgbm as lgb\n",
    "%matplotlib inline"
   ]
  },
  {
   "cell_type": "code",
   "execution_count": 185,
   "metadata": {
    "collapsed": true
   },
   "outputs": [],
   "source": [
    "train = pd.read_csv('./data/train.csv')\n",
    "valid = pd.read_csv('./data/validation.csv')\n",
    "test  = pd.read_csv('./data/test.csv')"
   ]
  },
  {
   "cell_type": "code",
   "execution_count": 186,
   "metadata": {},
   "outputs": [
    {
     "data": {
      "text/plain": [
       "(3038281, 24)"
      ]
     },
     "execution_count": 186,
     "metadata": {},
     "output_type": "execute_result"
    }
   ],
   "source": [
    "X_all = pd.concat([train.drop('click',axis=1), \n",
    "                   valid.drop('click', axis=1),\n",
    "                   test], axis=0)\n",
    "X_all.shape"
   ]
  },
  {
   "cell_type": "code",
   "execution_count": 203,
   "metadata": {},
   "outputs": [],
   "source": [
    "# drop useless columns\n",
    "drop_cols = ['bidprice','payprice', 'bidid', 'userid', 'url', 'urlid' ]\n",
    "\n",
    "train_data = train.drop(drop_cols, axis=1)\n",
    "valid_data = valid.drop(drop_cols, axis=1)\n",
    "\n",
    "# for simplification, drop many-value features \n",
    "smp_drop_cols = ['IP', 'domain', 'slotid', 'usertag']\n",
    "train_data = train_data.drop(smp_drop_cols, axis=1)\n",
    "valid_data = valid_data.drop(smp_drop_cols, axis=1)\n",
    "\n",
    "# for simplification, drop categorical features \n",
    "cat_feats = ['useragent', 'adexchange', 'slotvisibility', 'slotformat', 'creative', 'keypage']\n",
    "train_data = train_data.drop(cat_feats, axis=1)\n",
    "valid_data = valid_data.drop(cat_feats, axis=1)"
   ]
  },
  {
   "cell_type": "code",
   "execution_count": 82,
   "metadata": {
    "collapsed": true
   },
   "outputs": [],
   "source": []
  },
  {
   "cell_type": "code",
   "execution_count": 83,
   "metadata": {
    "collapsed": true
   },
   "outputs": [],
   "source": []
  },
  {
   "cell_type": "markdown",
   "metadata": {},
   "source": [
    "### deal with many-values features"
   ]
  },
  {
   "cell_type": "markdown",
   "metadata": {},
   "source": [
    "### usertage"
   ]
  },
  {
   "cell_type": "code",
   "execution_count": 60,
   "metadata": {
    "collapsed": true
   },
   "outputs": [],
   "source": [
    "usertag = X_all['usertag'].str.split(',')"
   ]
  },
  {
   "cell_type": "code",
   "execution_count": 69,
   "metadata": {},
   "outputs": [],
   "source": [
    "from sklearn.preprocessing import MultiLabelBinarizer"
   ]
  },
  {
   "cell_type": "code",
   "execution_count": 70,
   "metadata": {
    "collapsed": true
   },
   "outputs": [],
   "source": [
    "mlb = MultiLabelBinarizer()"
   ]
  },
  {
   "cell_type": "code",
   "execution_count": 73,
   "metadata": {},
   "outputs": [],
   "source": [
    "usertag_dm = mlb.fit_transform(usertag)"
   ]
  },
  {
   "cell_type": "code",
   "execution_count": 100,
   "metadata": {},
   "outputs": [
    {
     "data": {
      "text/plain": [
       "(3038281, 69)"
      ]
     },
     "execution_count": 100,
     "metadata": {},
     "output_type": "execute_result"
    }
   ],
   "source": [
    "usertag_dm.shape"
   ]
  },
  {
   "cell_type": "code",
   "execution_count": null,
   "metadata": {
    "collapsed": true
   },
   "outputs": [],
   "source": []
  },
  {
   "cell_type": "code",
   "execution_count": 29,
   "metadata": {},
   "outputs": [],
   "source": [
    "\n"
   ]
  },
  {
   "cell_type": "code",
   "execution_count": 188,
   "metadata": {
    "scrolled": true
   },
   "outputs": [],
   "source": [
    "def convt_cat(feat):\n",
    "    \"\"\"\n",
    "    convert string values of categorical feature to int\n",
    "    \n",
    "    input:\n",
    "    @feat(str): name of the feautre to be converted\n",
    "    return:\n",
    "    @feat_int(Series of int): integer representation of the categorical feature\n",
    "    \"\"\"\n",
    "#     feat = 'useragent'\n",
    "    \n",
    "    cat_series = pd.Series(X_all[feat], dtype='category', name=feat)\n",
    "    num_cat = len(set(X_all[feat]))\n",
    "    feat_int = cat_series.cat.rename_categories([x for x in range(num_cat)])\n",
    "    \n",
    "    return feat_int\n",
    "   "
   ]
  },
  {
   "cell_type": "code",
   "execution_count": 189,
   "metadata": {
    "collapsed": true
   },
   "outputs": [],
   "source": [
    "def lgb_data(train_data, valid_data):\n",
    "    \"\"\"\n",
    "    create dataset for lightgbm\n",
    "    \"\"\"\n",
    "    y_train = train_data['click'].values\n",
    "    y_valid = valid_data['click'].values\n",
    "    X_train = train_data.drop('click', axis=1)\n",
    "    X_valid = valid_data.drop('click', axis=1)\n",
    "\n",
    "#     lgb_train = lgb.Dataset(X_train, y_train, categorical_feature= cat_feats, free_raw_data=False) #  ,feature_name=X_train.columns\n",
    "#     lgb_valid = lgb.Dataset(X_valid, y_valid, reference=lgb_train, categorical_feature= cat_feats, free_raw_data=False)\n",
    "\n",
    "    lgb_train = lgb.Dataset(X_train, y_train, free_raw_data=False) #  ,feature_name=X_train.columns\n",
    "    lgb_valid = lgb.Dataset(X_valid, y_valid, reference=lgb_train, free_raw_data=False)\n",
    "    \n",
    "    return lgb_train, lgb_valid"
   ]
  },
  {
   "cell_type": "code",
   "execution_count": 190,
   "metadata": {
    "collapsed": true
   },
   "outputs": [],
   "source": [
    "# specify configurations as dict\n",
    "params = {\n",
    "    'task': 'train',\n",
    "    'boosting_type': 'gbdt', # ?\n",
    "    'objective': 'regression',\n",
    "    'metric': {'l2', 'auc'},\n",
    "    'num_leaves': 31,\n",
    "    'learning_rate': 0.05,\n",
    "    'feature_fraction': 0.9,\n",
    "    'bagging_fraction': 0.8,\n",
    "    'bagging_freq': 5,\n",
    "    'verbose': 0\n",
    "}"
   ]
  },
  {
   "cell_type": "markdown",
   "metadata": {},
   "source": [
    "### result for plain gbm"
   ]
  },
  {
   "cell_type": "code",
   "execution_count": 191,
   "metadata": {
    "collapsed": true
   },
   "outputs": [],
   "source": [
    "lgb_train, lgb_valid = lgb_data(train_data, valid_data)"
   ]
  },
  {
   "cell_type": "code",
   "execution_count": 192,
   "metadata": {
    "scrolled": false
   },
   "outputs": [
    {
     "name": "stdout",
     "output_type": "stream",
     "text": [
      "[1]\tvalid_0's auc: 0.596453\tvalid_0's l2: 0.000664171\n",
      "Training until validation scores don't improve for 5 rounds.\n",
      "[2]\tvalid_0's auc: 0.601192\tvalid_0's l2: 0.000664141\n",
      "[3]\tvalid_0's auc: 0.618365\tvalid_0's l2: 0.000664083\n",
      "[4]\tvalid_0's auc: 0.613268\tvalid_0's l2: 0.00066407\n",
      "[5]\tvalid_0's auc: 0.619763\tvalid_0's l2: 0.00066406\n",
      "[6]\tvalid_0's auc: 0.619762\tvalid_0's l2: 0.000664042\n",
      "[7]\tvalid_0's auc: 0.618835\tvalid_0's l2: 0.000664015\n",
      "[8]\tvalid_0's auc: 0.621834\tvalid_0's l2: 0.000663998\n",
      "[9]\tvalid_0's auc: 0.621852\tvalid_0's l2: 0.000663992\n",
      "[10]\tvalid_0's auc: 0.621792\tvalid_0's l2: 0.000663997\n",
      "[11]\tvalid_0's auc: 0.621805\tvalid_0's l2: 0.000664006\n",
      "[12]\tvalid_0's auc: 0.632818\tvalid_0's l2: 0.000664013\n",
      "[13]\tvalid_0's auc: 0.633355\tvalid_0's l2: 0.000664023\n",
      "[14]\tvalid_0's auc: 0.633712\tvalid_0's l2: 0.000664036\n",
      "Early stopping, best iteration is:\n",
      "[9]\tvalid_0's auc: 0.621852\tvalid_0's l2: 0.000663992\n"
     ]
    }
   ],
   "source": [
    "gbm = lgb.train(params, lgb_train, num_boost_round=20, valid_sets=lgb_valid, early_stopping_rounds=5)"
   ]
  },
  {
   "cell_type": "markdown",
   "metadata": {},
   "source": [
    "### result for plain gbm with basic categorical features"
   ]
  },
  {
   "cell_type": "code",
   "execution_count": 221,
   "metadata": {},
   "outputs": [],
   "source": [
    "# # simpliest df\n",
    "# basic_cat_feats = ['city']\n",
    "# for cat in basic_cat_feats:\n",
    "#     train_data[cat] = train_data[cat].astype('category')\n",
    "#     valid_data[cat] = valid_data[cat].astype('category')\n",
    "\n",
    "# # train_data.dtypes, valid_data.dtypes"
   ]
  },
  {
   "cell_type": "code",
   "execution_count": 26,
   "metadata": {
    "collapsed": true
   },
   "outputs": [
    {
     "name": "stderr",
     "output_type": "stream",
     "text": [
      "/Users/fangzhenghu/Documents/Tools/anaconda3/lib/python3.6/site-packages/lightgbm/basic.py:681: UserWarning: categorical_feature in param dict is overrided.\n",
      "  warnings.warn('categorical_feature in param dict is overrided.')\n"
     ]
    },
    {
     "name": "stdout",
     "output_type": "stream",
     "text": [
      "[1]\tvalid_0's auc: 0.50027\tvalid_0's l2: 0.000664198\n",
      "Training until validation scores don't improve for 5 rounds.\n",
      "[2]\tvalid_0's auc: 0.594934\tvalid_0's l2: 0.00066416\n",
      "[3]\tvalid_0's auc: 0.598325\tvalid_0's l2: 0.00066415\n",
      "[4]\tvalid_0's auc: 0.598211\tvalid_0's l2: 0.000664168\n",
      "[5]\tvalid_0's auc: 0.597553\tvalid_0's l2: 0.00066418\n",
      "[6]\tvalid_0's auc: 0.601807\tvalid_0's l2: 0.000664186\n",
      "[7]\tvalid_0's auc: 0.600082\tvalid_0's l2: 0.000664196\n",
      "[8]\tvalid_0's auc: 0.603028\tvalid_0's l2: 0.000664197\n",
      "Early stopping, best iteration is:\n",
      "[3]\tvalid_0's auc: 0.598325\tvalid_0's l2: 0.00066415\n"
     ]
    }
   ],
   "source": [
    "# # 0.598\n",
    "# lgb_train, lgb_valid = lgb_data(train_data, valid_data)\n",
    "# gbm = lgb.train(params, lgb_train, num_boost_round=20, valid_sets=lgb_valid, early_stopping_rounds=5)"
   ]
  },
  {
   "cell_type": "markdown",
   "metadata": {},
   "source": [
    "### add basic categorical features"
   ]
  },
  {
   "cell_type": "code",
   "execution_count": 204,
   "metadata": {},
   "outputs": [],
   "source": [
    "def add_cat(feat_names, train, valid, cat=True, evl=False):\n",
    "    \"\"\"\n",
    "    Adding extra categorical features accumulatively,\n",
    "    Also allows investigate how the performance change accordingly\n",
    "    input:\n",
    "    @feats(list): names of the feature to be investigated\n",
    "    @cat(bool): if or not set the additional feature as pandas.Series.category\n",
    "    @elv(bool): if or not evaluate the performance for each concated DF\n",
    "    output:\n",
    "    @train, valid(df): data after concating all investigated features \n",
    "    Print the performance\n",
    "    \"\"\"\n",
    "    for feat_name in feat_names:\n",
    "        print('Add feature: {}'.format(feat_name))\n",
    "        feat_int = convt_cat(feat_name)\n",
    "        # concat additional column\n",
    "        train = pd.concat([train, feat_int.rename(feat_name).iloc[:train.shape[0]]], axis=1)\n",
    "        valid = pd.concat([valid, feat_int.rename(feat_name).iloc[train.shape[0]:(train.shape[0]+valid.shape[0])]], axis=1)\n",
    "        \n",
    "        if not cat:\n",
    "            for col in train.columns:\n",
    "                train[col] = train[col].astype(int)\n",
    "                valid[col] = valid[col].astype(int)\n",
    "        \n",
    "        if evl:\n",
    "            lgb_train, lgb_valid = lgb_data(train, valid)\n",
    "\n",
    "            gbm = lgb.train(params,\n",
    "                    lgb_train,\n",
    "                    num_boost_round=20,\n",
    "                    valid_sets=lgb_valid,\n",
    "                    early_stopping_rounds=5)\n",
    "    \n",
    "    return train, valid\n",
    "    "
   ]
  },
  {
   "cell_type": "code",
   "execution_count": 182,
   "metadata": {
    "collapsed": true
   },
   "outputs": [],
   "source": [
    "# # useful cat_feats: # 0.714\n",
    "# # adexchange is disposable\n",
    "# cat_feats = ['useragent', 'slotvisibility', 'slotformat', 'creative', 'keypage']\n",
    "# # cat_feats = ['useragent', 'adexchange', 'slotvisibility', 'slotformat', 'creative', 'keypage']\n",
    "# train_concated, v_contated = add_cat(cat_feats, train_data, valid_data)"
   ]
  },
  {
   "cell_type": "code",
   "execution_count": 205,
   "metadata": {},
   "outputs": [
    {
     "name": "stdout",
     "output_type": "stream",
     "text": [
      "Add feature: useragent\n",
      "Add feature: adexchange\n",
      "Add feature: slotvisibility\n",
      "Add feature: slotformat\n",
      "Add feature: creative\n",
      "Add feature: keypage\n"
     ]
    }
   ],
   "source": [
    "### all cat_feats # 0.712\n",
    "cat_feats = ['useragent', 'adexchange', 'slotvisibility', 'slotformat', 'creative', 'keypage']\n",
    "\n",
    "train_data, valid_data = add_cat(cat_feats, train_data, valid_data, evl=False)"
   ]
  },
  {
   "cell_type": "code",
   "execution_count": 53,
   "metadata": {
    "collapsed": true
   },
   "outputs": [
    {
     "name": "stdout",
     "output_type": "stream",
     "text": [
      "Add feature: useragent\n",
      "[1]\tvalid_0's auc: 0.684079\tvalid_0's l2: 0.000664095\n",
      "Training until validation scores don't improve for 5 rounds.\n",
      "[2]\tvalid_0's auc: 0.683772\tvalid_0's l2: 0.000664024\n",
      "[3]\tvalid_0's auc: 0.683711\tvalid_0's l2: 0.000663947\n",
      "[4]\tvalid_0's auc: 0.683674\tvalid_0's l2: 0.000663901\n",
      "[5]\tvalid_0's auc: 0.683266\tvalid_0's l2: 0.000663864\n",
      "[6]\tvalid_0's auc: 0.683416\tvalid_0's l2: 0.000663836\n",
      "Early stopping, best iteration is:\n",
      "[1]\tvalid_0's auc: 0.684079\tvalid_0's l2: 0.000664095\n",
      "Add feature: adexchange\n",
      "[1]\tvalid_0's auc: 0.668821\tvalid_0's l2: 0.000664121\n",
      "Training until validation scores don't improve for 5 rounds.\n",
      "[2]\tvalid_0's auc: 0.668645\tvalid_0's l2: 0.000664055\n",
      "[3]\tvalid_0's auc: 0.682695\tvalid_0's l2: 0.000663976\n",
      "[4]\tvalid_0's auc: 0.682698\tvalid_0's l2: 0.000663927\n",
      "[5]\tvalid_0's auc: 0.682872\tvalid_0's l2: 0.000663884\n",
      "[6]\tvalid_0's auc: 0.682431\tvalid_0's l2: 0.000663879\n",
      "[7]\tvalid_0's auc: 0.682593\tvalid_0's l2: 0.000663819\n",
      "[8]\tvalid_0's auc: 0.682891\tvalid_0's l2: 0.000663793\n",
      "[9]\tvalid_0's auc: 0.667423\tvalid_0's l2: 0.000663788\n",
      "[10]\tvalid_0's auc: 0.66729\tvalid_0's l2: 0.00066378\n",
      "[11]\tvalid_0's auc: 0.667185\tvalid_0's l2: 0.00066376\n",
      "[12]\tvalid_0's auc: 0.667529\tvalid_0's l2: 0.000663734\n",
      "[13]\tvalid_0's auc: 0.667583\tvalid_0's l2: 0.000663719\n",
      "Early stopping, best iteration is:\n",
      "[8]\tvalid_0's auc: 0.682891\tvalid_0's l2: 0.000663793\n",
      "Add feature: slotvisibility\n",
      "[1]\tvalid_0's auc: 0.673547\tvalid_0's l2: 0.000664111\n",
      "Training until validation scores don't improve for 5 rounds.\n",
      "[2]\tvalid_0's auc: 0.678211\tvalid_0's l2: 0.000664057\n",
      "[3]\tvalid_0's auc: 0.678165\tvalid_0's l2: 0.000663999\n",
      "[4]\tvalid_0's auc: 0.678173\tvalid_0's l2: 0.000663945\n",
      "[5]\tvalid_0's auc: 0.678185\tvalid_0's l2: 0.000663925\n",
      "[6]\tvalid_0's auc: 0.678331\tvalid_0's l2: 0.000663888\n",
      "[7]\tvalid_0's auc: 0.678313\tvalid_0's l2: 0.00066382\n",
      "[8]\tvalid_0's auc: 0.662559\tvalid_0's l2: 0.000663805\n",
      "[9]\tvalid_0's auc: 0.677919\tvalid_0's l2: 0.000663779\n",
      "[10]\tvalid_0's auc: 0.677934\tvalid_0's l2: 0.000663692\n",
      "[11]\tvalid_0's auc: 0.677935\tvalid_0's l2: 0.000663665\n",
      "Early stopping, best iteration is:\n",
      "[6]\tvalid_0's auc: 0.678331\tvalid_0's l2: 0.000663888\n",
      "Add feature: slotformat\n",
      "[1]\tvalid_0's auc: 0.672666\tvalid_0's l2: 0.000663997\n",
      "Training until validation scores don't improve for 5 rounds.\n",
      "[2]\tvalid_0's auc: 0.67263\tvalid_0's l2: 0.000663883\n",
      "[3]\tvalid_0's auc: 0.69304\tvalid_0's l2: 0.00066384\n",
      "[4]\tvalid_0's auc: 0.694938\tvalid_0's l2: 0.000663724\n",
      "[5]\tvalid_0's auc: 0.695072\tvalid_0's l2: 0.000663624\n",
      "[6]\tvalid_0's auc: 0.695414\tvalid_0's l2: 0.000663528\n",
      "[7]\tvalid_0's auc: 0.695562\tvalid_0's l2: 0.000663514\n",
      "[8]\tvalid_0's auc: 0.695634\tvalid_0's l2: 0.000663374\n",
      "[9]\tvalid_0's auc: 0.696202\tvalid_0's l2: 0.000663309\n",
      "[10]\tvalid_0's auc: 0.700198\tvalid_0's l2: 0.0006633\n",
      "[11]\tvalid_0's auc: 0.700217\tvalid_0's l2: 0.000663268\n",
      "[12]\tvalid_0's auc: 0.696261\tvalid_0's l2: 0.000663257\n",
      "[13]\tvalid_0's auc: 0.696267\tvalid_0's l2: 0.000663246\n",
      "[14]\tvalid_0's auc: 0.696154\tvalid_0's l2: 0.000663237\n",
      "[15]\tvalid_0's auc: 0.696256\tvalid_0's l2: 0.000663276\n",
      "[16]\tvalid_0's auc: 0.696337\tvalid_0's l2: 0.000663256\n",
      "Early stopping, best iteration is:\n",
      "[11]\tvalid_0's auc: 0.700217\tvalid_0's l2: 0.000663268\n",
      "Add feature: creative\n",
      "[1]\tvalid_0's auc: 0.669542\tvalid_0's l2: 0.000663982\n",
      "Training until validation scores don't improve for 5 rounds.\n",
      "[2]\tvalid_0's auc: 0.674365\tvalid_0's l2: 0.00066376\n",
      "[3]\tvalid_0's auc: 0.686351\tvalid_0's l2: 0.000663673\n",
      "[4]\tvalid_0's auc: 0.675551\tvalid_0's l2: 0.000663618\n",
      "[5]\tvalid_0's auc: 0.69611\tvalid_0's l2: 0.000663583\n",
      "[6]\tvalid_0's auc: 0.693542\tvalid_0's l2: 0.00066357\n",
      "[7]\tvalid_0's auc: 0.696096\tvalid_0's l2: 0.000663477\n",
      "[8]\tvalid_0's auc: 0.696774\tvalid_0's l2: 0.000663356\n",
      "[9]\tvalid_0's auc: 0.696391\tvalid_0's l2: 0.00066334\n",
      "[10]\tvalid_0's auc: 0.696193\tvalid_0's l2: 0.000663272\n",
      "[11]\tvalid_0's auc: 0.696325\tvalid_0's l2: 0.000663263\n",
      "[12]\tvalid_0's auc: 0.696347\tvalid_0's l2: 0.000663277\n",
      "[13]\tvalid_0's auc: 0.69915\tvalid_0's l2: 0.000663266\n",
      "[14]\tvalid_0's auc: 0.697478\tvalid_0's l2: 0.00066326\n",
      "[15]\tvalid_0's auc: 0.697451\tvalid_0's l2: 0.000663262\n",
      "[16]\tvalid_0's auc: 0.710242\tvalid_0's l2: 0.000663257\n",
      "[17]\tvalid_0's auc: 0.709131\tvalid_0's l2: 0.000663224\n",
      "[18]\tvalid_0's auc: 0.709027\tvalid_0's l2: 0.000663215\n",
      "[19]\tvalid_0's auc: 0.708963\tvalid_0's l2: 0.000663235\n",
      "[20]\tvalid_0's auc: 0.705088\tvalid_0's l2: 0.000663274\n",
      "Did not meet early stopping. Best iteration is:\n",
      "[16]\tvalid_0's auc: 0.710242\tvalid_0's l2: 0.000663257\n",
      "Add feature: keypage\n",
      "[1]\tvalid_0's auc: 0.663687\tvalid_0's l2: 0.00066412\n",
      "Training until validation scores don't improve for 5 rounds.\n",
      "[2]\tvalid_0's auc: 0.658578\tvalid_0's l2: 0.000664061\n",
      "[3]\tvalid_0's auc: 0.686267\tvalid_0's l2: 0.000664021\n",
      "[4]\tvalid_0's auc: 0.682759\tvalid_0's l2: 0.000663914\n",
      "[5]\tvalid_0's auc: 0.686145\tvalid_0's l2: 0.000663868\n",
      "[6]\tvalid_0's auc: 0.699135\tvalid_0's l2: 0.000663795\n",
      "[7]\tvalid_0's auc: 0.703579\tvalid_0's l2: 0.00066377\n",
      "[8]\tvalid_0's auc: 0.704938\tvalid_0's l2: 0.000663743\n",
      "[9]\tvalid_0's auc: 0.699446\tvalid_0's l2: 0.000663729\n",
      "[10]\tvalid_0's auc: 0.699294\tvalid_0's l2: 0.00066371\n",
      "[11]\tvalid_0's auc: 0.699977\tvalid_0's l2: 0.000663656\n",
      "[12]\tvalid_0's auc: 0.707662\tvalid_0's l2: 0.000663611\n",
      "[13]\tvalid_0's auc: 0.707627\tvalid_0's l2: 0.000663604\n",
      "[14]\tvalid_0's auc: 0.707651\tvalid_0's l2: 0.000663609\n",
      "[15]\tvalid_0's auc: 0.707692\tvalid_0's l2: 0.000663602\n",
      "[16]\tvalid_0's auc: 0.706564\tvalid_0's l2: 0.000663604\n",
      "[17]\tvalid_0's auc: 0.706565\tvalid_0's l2: 0.000663624\n",
      "[18]\tvalid_0's auc: 0.707991\tvalid_0's l2: 0.00066366\n",
      "[19]\tvalid_0's auc: 0.712163\tvalid_0's l2: 0.00066369\n",
      "[20]\tvalid_0's auc: 0.712106\tvalid_0's l2: 0.000663744\n",
      "Did not meet early stopping. Best iteration is:\n",
      "[19]\tvalid_0's auc: 0.712163\tvalid_0's l2: 0.00066369\n"
     ]
    }
   ],
   "source": [
    "# # experiment: set cat as int 0.712\n",
    "# # ??? why there is no significant change regarding performance?\n",
    "# cat_feats = ['useragent', 'adexchange', 'slotvisibility', 'slotformat', 'creative', 'keypage']\n",
    "\n",
    "# train_concated, v_contated = add_cat(cat_feats, train_data, valid_data, cat=False)"
   ]
  },
  {
   "cell_type": "markdown",
   "metadata": {},
   "source": [
    "### add usertag"
   ]
  },
  {
   "cell_type": "code",
   "execution_count": 206,
   "metadata": {
    "collapsed": true
   },
   "outputs": [],
   "source": [
    "usertag_train = usertag_df.iloc[:train.shape[0]]\n",
    "usertag_valid = usertag_df.iloc[train.shape[0]: train.shape[0] + valid.shape[0]].reset_index(drop=True)"
   ]
  },
  {
   "cell_type": "code",
   "execution_count": 207,
   "metadata": {
    "collapsed": true
   },
   "outputs": [],
   "source": [
    "train_data = pd.concat([train_data, usertag_train], 1)\n",
    "valid_data = pd.concat([valid_data, usertag_valid], 1)"
   ]
  },
  {
   "cell_type": "code",
   "execution_count": 208,
   "metadata": {},
   "outputs": [
    {
     "data": {
      "text/plain": [
       "((2430981, 84), (303925, 84))"
      ]
     },
     "execution_count": 208,
     "metadata": {},
     "output_type": "execute_result"
    }
   ],
   "source": [
    "train_data.shape, valid_data.shape"
   ]
  },
  {
   "cell_type": "code",
   "execution_count": 209,
   "metadata": {
    "scrolled": true
   },
   "outputs": [
    {
     "name": "stderr",
     "output_type": "stream",
     "text": [
      "/Users/fangzhenghu/Documents/Tools/anaconda3/lib/python3.6/site-packages/lightgbm/basic.py:681: UserWarning: categorical_feature in param dict is overrided.\n",
      "  warnings.warn('categorical_feature in param dict is overrided.')\n"
     ]
    },
    {
     "name": "stdout",
     "output_type": "stream",
     "text": [
      "[1]\tvalid_0's auc: 0.690401\tvalid_0's l2: 0.000658959\n",
      "Training until validation scores don't improve for 5 rounds.\n",
      "[2]\tvalid_0's auc: 0.765204\tvalid_0's l2: 0.000653869\n",
      "[3]\tvalid_0's auc: 0.765207\tvalid_0's l2: 0.000649685\n",
      "[4]\tvalid_0's auc: 0.76668\tvalid_0's l2: 0.000649383\n",
      "[5]\tvalid_0's auc: 0.765719\tvalid_0's l2: 0.000645757\n",
      "[6]\tvalid_0's auc: 0.766045\tvalid_0's l2: 0.00064172\n",
      "[7]\tvalid_0's auc: 0.766303\tvalid_0's l2: 0.000638934\n",
      "[8]\tvalid_0's auc: 0.766314\tvalid_0's l2: 0.000634889\n",
      "[9]\tvalid_0's auc: 0.766333\tvalid_0's l2: 0.000631425\n",
      "Early stopping, best iteration is:\n",
      "[4]\tvalid_0's auc: 0.76668\tvalid_0's l2: 0.000649383\n"
     ]
    }
   ],
   "source": [
    "lgb_train, lgb_valid = lgb_data(train_data, valid_data)\n",
    "gbm = lgb.train(params, lgb_train, num_boost_round=20, valid_sets=lgb_valid, early_stopping_rounds=5)"
   ]
  },
  {
   "cell_type": "markdown",
   "metadata": {},
   "source": [
    "### add domain"
   ]
  },
  {
   "cell_type": "markdown",
   "metadata": {},
   "source": [
    "add sparse domain -> 0.70"
   ]
  },
  {
   "cell_type": "code",
   "execution_count": 148,
   "metadata": {
    "collapsed": true
   },
   "outputs": [],
   "source": [
    "domain_int = convt_cat('domain')"
   ]
  },
  {
   "cell_type": "code",
   "execution_count": 210,
   "metadata": {},
   "outputs": [],
   "source": [
    "train_tmp = pd.concat([train_data, domain_int.rename('domain')[:train.shape[0]]], 1)\n",
    "valid_tmp = pd.concat([valid_data, domain_int.rename('domain')[train.shape[0]:train.shape[0]+valid.shape[0]]], 1)"
   ]
  },
  {
   "cell_type": "code",
   "execution_count": 212,
   "metadata": {
    "scrolled": true
   },
   "outputs": [
    {
     "name": "stderr",
     "output_type": "stream",
     "text": [
      "/Users/fangzhenghu/Documents/Tools/anaconda3/lib/python3.6/site-packages/lightgbm/basic.py:681: UserWarning: categorical_feature in param dict is overrided.\n",
      "  warnings.warn('categorical_feature in param dict is overrided.')\n"
     ]
    },
    {
     "name": "stdout",
     "output_type": "stream",
     "text": [
      "[1]\tvalid_0's auc: 0.700645\tvalid_0's l2: 0.000658923\n",
      "Training until validation scores don't improve for 5 rounds.\n",
      "[2]\tvalid_0's auc: 0.701611\tvalid_0's l2: 0.000654044\n",
      "[3]\tvalid_0's auc: 0.701606\tvalid_0's l2: 0.000649627\n",
      "[4]\tvalid_0's auc: 0.701442\tvalid_0's l2: 0.000645991\n",
      "[5]\tvalid_0's auc: 0.700951\tvalid_0's l2: 0.000642251\n",
      "[6]\tvalid_0's auc: 0.700933\tvalid_0's l2: 0.000639166\n",
      "[7]\tvalid_0's auc: 0.700822\tvalid_0's l2: 0.000636072\n",
      "Early stopping, best iteration is:\n",
      "[2]\tvalid_0's auc: 0.701611\tvalid_0's l2: 0.000654044\n"
     ]
    }
   ],
   "source": [
    "lgb_train, lgb_valid = lgb_data(train_tmp, valid_tmp)\n",
    "gbm = lgb.train(params, lgb_train, num_boost_round=20, valid_sets=lgb_valid, early_stopping_rounds=5)"
   ]
  },
  {
   "cell_type": "code",
   "execution_count": null,
   "metadata": {
    "collapsed": true
   },
   "outputs": [],
   "source": []
  },
  {
   "cell_type": "markdown",
   "metadata": {},
   "source": [
    "### CTR contest"
   ]
  },
  {
   "cell_type": "code",
   "execution_count": 174,
   "metadata": {
    "collapsed": true
   },
   "outputs": [],
   "source": [
    "ctr_test = pd.read_csv('./data/test_feature_03-21.csv')"
   ]
  },
  {
   "cell_type": "code",
   "execution_count": 175,
   "metadata": {},
   "outputs": [
    {
     "data": {
      "text/plain": [
       "(18371, 29955)"
      ]
     },
     "execution_count": 175,
     "metadata": {},
     "output_type": "execute_result"
    }
   ],
   "source": [
    "ctr_test.shape"
   ]
  },
  {
   "cell_type": "code",
   "execution_count": 176,
   "metadata": {
    "collapsed": true
   },
   "outputs": [],
   "source": [
    "from sklearn.model_selection import train_test_split"
   ]
  },
  {
   "cell_type": "code",
   "execution_count": 178,
   "metadata": {},
   "outputs": [
    {
     "data": {
      "text/plain": [
       "((13778, 29955), (4593, 29955))"
      ]
     },
     "execution_count": 178,
     "metadata": {},
     "output_type": "execute_result"
    }
   ],
   "source": [
    "X_train_ctr, X_valid_ctr = train_test_split(ctr_test)\n",
    "X_train_ctr.shape, X_valid_ctr.shape"
   ]
  },
  {
   "cell_type": "code",
   "execution_count": 180,
   "metadata": {},
   "outputs": [],
   "source": [
    "y_train_ctr = np.zeros(X_train_ctr.shape[0], dtype=np.int)\n",
    "y_valid_ctr = np.zeros(X_valid_ctr.shape[0], dtype=np.int)"
   ]
  },
  {
   "cell_type": "code",
   "execution_count": 181,
   "metadata": {
    "collapsed": true
   },
   "outputs": [],
   "source": [
    "lgb_train_ctr = lgb.Dataset(X_train_ctr, y_train_ctr, free_raw_data=False) #  ,feature_name=X_train.columns\n",
    "lgb_valid_ctr = lgb.Dataset(X_valid_ctr, y_valid_ctr, reference=lgb_train, free_raw_data=False)"
   ]
  },
  {
   "cell_type": "code",
   "execution_count": 182,
   "metadata": {},
   "outputs": [
    {
     "name": "stdout",
     "output_type": "stream",
     "text": [
      "[1]\tvalid_0's auc: 1\tvalid_0's l2: 0\n",
      "Training until validation scores don't improve for 5 rounds.\n",
      "[2]\tvalid_0's auc: 1\tvalid_0's l2: 0\n",
      "[3]\tvalid_0's auc: 1\tvalid_0's l2: 0\n",
      "[4]\tvalid_0's auc: 1\tvalid_0's l2: 0\n",
      "[5]\tvalid_0's auc: 1\tvalid_0's l2: 0\n",
      "[6]\tvalid_0's auc: 1\tvalid_0's l2: 0\n",
      "Early stopping, best iteration is:\n",
      "[1]\tvalid_0's auc: 1\tvalid_0's l2: 0\n"
     ]
    }
   ],
   "source": [
    "# %%time\n",
    "# train\n",
    "gbm = lgb.train(params,\n",
    "                lgb_train_ctr,\n",
    "#                 num_boost_round=20,\n",
    "                num_boost_round=10,\n",
    "                valid_sets=lgb_valid_ctr,\n",
    "                early_stopping_rounds=5)"
   ]
  },
  {
   "cell_type": "code",
   "execution_count": null,
   "metadata": {
    "collapsed": true
   },
   "outputs": [],
   "source": []
  }
 ],
 "metadata": {
  "kernelspec": {
   "display_name": "Python 3",
   "language": "python",
   "name": "python3"
  },
  "language_info": {
   "codemirror_mode": {
    "name": "ipython",
    "version": 3
   },
   "file_extension": ".py",
   "mimetype": "text/x-python",
   "name": "python",
   "nbconvert_exporter": "python",
   "pygments_lexer": "ipython3",
   "version": "3.6.3"
  }
 },
 "nbformat": 4,
 "nbformat_minor": 2
}
