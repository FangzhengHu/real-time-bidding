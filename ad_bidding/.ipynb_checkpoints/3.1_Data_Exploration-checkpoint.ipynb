{
 "cells": [
  {
   "cell_type": "code",
   "execution_count": 1,
   "metadata": {
    "collapsed": true
   },
   "outputs": [],
   "source": [
    "import pandas as pd\n",
    "import numpy as np\n",
    "\n",
    "import matplotlib.pyplot as plt\n",
    "%matplotlib inline"
   ]
  },
  {
   "cell_type": "code",
   "execution_count": 2,
   "metadata": {
    "collapsed": true
   },
   "outputs": [],
   "source": [
    "train = pd.read_csv('./data/train.csv')\n",
    "valid = pd.read_csv('./data/validation.csv')\n",
    "test  = pd.read_csv('./data/test.csv')"
   ]
  },
  {
   "cell_type": "code",
   "execution_count": 4,
   "metadata": {},
   "outputs": [
    {
     "data": {
      "text/plain": [
       "((2430981, 25), (303925, 25), (303375, 22))"
      ]
     },
     "execution_count": 4,
     "metadata": {},
     "output_type": "execute_result"
    }
   ],
   "source": [
    "train.shape, valid.shape, test.shape"
   ]
  },
  {
   "cell_type": "code",
   "execution_count": 9,
   "metadata": {},
   "outputs": [
    {
     "data": {
      "text/plain": [
       "{'bidprice', 'click', 'payprice'}"
      ]
     },
     "execution_count": 9,
     "metadata": {},
     "output_type": "execute_result"
    }
   ],
   "source": [
    "# difference in columns between train and test data\n",
    "set(train.columns) - set(train.columns).intersection(set(test.columns))"
   ]
  },
  {
   "cell_type": "markdown",
   "metadata": {},
   "source": [
    "## Data Preprocessing"
   ]
  },
  {
   "cell_type": "code",
   "execution_count": 12,
   "metadata": {
    "collapsed": true
   },
   "outputs": [],
   "source": [
    "t = train.drop(['bidprice','click','payprice'], axis=1)"
   ]
  },
  {
   "cell_type": "code",
   "execution_count": 14,
   "metadata": {
    "collapsed": true
   },
   "outputs": [],
   "source": [
    "v = valid.drop(['bidprice','click','payprice'], axis=1)"
   ]
  },
  {
   "cell_type": "code",
   "execution_count": 15,
   "metadata": {},
   "outputs": [
    {
     "data": {
      "text/plain": [
       "((2430981, 22), (303925, 22))"
      ]
     },
     "execution_count": 15,
     "metadata": {},
     "output_type": "execute_result"
    }
   ],
   "source": [
    "t.shape, v.shape"
   ]
  },
  {
   "cell_type": "code",
   "execution_count": 16,
   "metadata": {
    "collapsed": true
   },
   "outputs": [],
   "source": [
    "data = pd.concat([t, v, test], axis=0)"
   ]
  },
  {
   "cell_type": "code",
   "execution_count": 17,
   "metadata": {},
   "outputs": [
    {
     "data": {
      "text/plain": [
       "(3038281, 22)"
      ]
     },
     "execution_count": 17,
     "metadata": {},
     "output_type": "execute_result"
    }
   ],
   "source": [
    "data.shape"
   ]
  },
  {
   "cell_type": "code",
   "execution_count": 18,
   "metadata": {},
   "outputs": [
    {
     "data": {
      "text/plain": [
       "weekday                                                  5\n",
       "hour                                                    22\n",
       "bidid             b7bea80521fdecd95d2d761a38c91c3f09618066\n",
       "userid            2e880fb7d690cf7377b2e42e701728e3f3c0e4c1\n",
       "useragent                                       windows_ie\n",
       "IP                                            125.37.175.*\n",
       "region                                                   2\n",
       "city                                                     2\n",
       "adexchange                                               2\n",
       "domain                                trqRTvKaXTKfgg24JKTI\n",
       "url                       6447a7dfa30fe6eb410c91860e7c9b45\n",
       "urlid                                                 null\n",
       "slotid                                          2015392487\n",
       "slotwidth                                              200\n",
       "slotheight                                             200\n",
       "slotvisibility                                           2\n",
       "slotformat                                               0\n",
       "slotprice                                                5\n",
       "creative                  a4f763f78ef3eedfe614263b94a8924e\n",
       "keypage                   0f951a030abdaedd733ee8d114ce2944\n",
       "advertiser                                            3427\n",
       "usertag                                               null\n",
       "Name: 0, dtype: object"
      ]
     },
     "execution_count": 18,
     "metadata": {},
     "output_type": "execute_result"
    }
   ],
   "source": [
    "data.iloc[0]"
   ]
  },
  {
   "cell_type": "code",
   "execution_count": 19,
   "metadata": {},
   "outputs": [
    {
     "data": {
      "text/plain": [
       "weekday                 7\n",
       "hour                   24\n",
       "bidid             3038281\n",
       "userid            2904131\n",
       "useragent              38\n",
       "IP                 528935\n",
       "region                 35\n",
       "city                  370\n",
       "adexchange              5\n",
       "domain              25321\n",
       "url                914883\n",
       "urlid                   1\n",
       "slotid              60098\n",
       "slotwidth              21\n",
       "slotheight             14\n",
       "slotvisibility         11\n",
       "slotformat              4\n",
       "slotprice             287\n",
       "creative              131\n",
       "keypage                19\n",
       "advertiser              9\n",
       "usertag            903635\n",
       "dtype: int64"
      ]
     },
     "execution_count": 19,
     "metadata": {},
     "output_type": "execute_result"
    }
   ],
   "source": [
    "data.nunique()"
   ]
  },
  {
   "cell_type": "code",
   "execution_count": null,
   "metadata": {
    "collapsed": true
   },
   "outputs": [],
   "source": []
  }
 ],
 "metadata": {
  "kernelspec": {
   "display_name": "Python 3",
   "language": "python",
   "name": "python3"
  },
  "language_info": {
   "codemirror_mode": {
    "name": "ipython",
    "version": 3
   },
   "file_extension": ".py",
   "mimetype": "text/x-python",
   "name": "python",
   "nbconvert_exporter": "python",
   "pygments_lexer": "ipython3",
   "version": "3.6.3"
  }
 },
 "nbformat": 4,
 "nbformat_minor": 2
}
