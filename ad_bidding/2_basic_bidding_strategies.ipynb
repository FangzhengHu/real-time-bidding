{
 "cells": [
  {
   "cell_type": "code",
   "execution_count": 1,
   "metadata": {
    "collapsed": true
   },
   "outputs": [],
   "source": [
    "import pandas as pd\n",
    "import numpy as np\n",
    "\n",
    "import matplotlib.pyplot as plt\n",
    "%matplotlib inline"
   ]
  },
  {
   "cell_type": "code",
   "execution_count": 2,
   "metadata": {
    "collapsed": true
   },
   "outputs": [],
   "source": [
    "train = pd.read_csv('./data/train.csv')"
   ]
  },
  {
   "cell_type": "code",
   "execution_count": 3,
   "metadata": {
    "collapsed": true
   },
   "outputs": [],
   "source": [
    "valid = pd.read_csv('./data/validation.csv')"
   ]
  },
  {
   "cell_type": "code",
   "execution_count": 4,
   "metadata": {},
   "outputs": [
    {
     "data": {
      "text/plain": [
       "(2430981, 25)"
      ]
     },
     "execution_count": 4,
     "metadata": {},
     "output_type": "execute_result"
    }
   ],
   "source": [
    "train.shape"
   ]
  },
  {
   "cell_type": "markdown",
   "metadata": {},
   "source": [
    "## Constant Bidding"
   ]
  },
  {
   "cell_type": "code",
   "execution_count": 4,
   "metadata": {},
   "outputs": [
    {
     "data": {
      "text/plain": [
       "300"
      ]
     },
     "execution_count": 4,
     "metadata": {},
     "output_type": "execute_result"
    }
   ],
   "source": [
    "max(train.payprice)"
   ]
  },
  {
   "cell_type": "code",
   "execution_count": 5,
   "metadata": {},
   "outputs": [
    {
     "data": {
      "text/plain": [
       "0"
      ]
     },
     "execution_count": 5,
     "metadata": {},
     "output_type": "execute_result"
    }
   ],
   "source": [
    "min(train.payprice)"
   ]
  },
  {
   "cell_type": "code",
   "execution_count": 8,
   "metadata": {},
   "outputs": [
    {
     "data": {
      "text/plain": [
       "(array([517133., 593656., 651231., 190292., 141824., 127824.,  90231.,\n",
       "         66132.,  30010.,  22648.]),\n",
       " array([  0.,  30.,  60.,  90., 120., 150., 180., 210., 240., 270., 300.]),\n",
       " <a list of 10 Patch objects>)"
      ]
     },
     "execution_count": 8,
     "metadata": {},
     "output_type": "execute_result"
    },
    {
     "data": {
      "image/png": "[encoded data removed]",
      "text/plain": [
       "<matplotlib.figure.Figure at 0x11431a630>"
      ]
     },
     "metadata": {},
     "output_type": "display_data"
    }
   ],
   "source": [
    "plt.hist(train.payprice)"
   ]
  },
  {
   "cell_type": "code",
   "execution_count": 11,
   "metadata": {
    "scrolled": true
   },
   "outputs": [
    {
     "data": {
      "text/plain": [
       "click                                                    0\n",
       "weekday                                                  3\n",
       "hour                                                    17\n",
       "bidid             c3f2ee2b48e4d9752d6dffa82e2d0c8162e938bb\n",
       "userid            d4c8e8401f4fecffda48a67d80a7ce605efeda7f\n",
       "useragent                                       mac_safari\n",
       "IP                                            121.225.93.*\n",
       "region                                                  80\n",
       "city                                                    80\n",
       "adexchange                                               3\n",
       "domain                    e96dd4d612a79976fd4155437b0be59a\n",
       "url                       2ac390e11915b8157dbb29788830f002\n",
       "urlid                                                 null\n",
       "slotid                          QQlive_SP_dsj_bottom_Width\n",
       "slotwidth                                              980\n",
       "slotheight                                              90\n",
       "slotvisibility                                          Na\n",
       "slotformat                                              Na\n",
       "slotprice                                                0\n",
       "creative                                             12632\n",
       "bidprice                                               294\n",
       "payprice                                                 0\n",
       "keypage                                               null\n",
       "advertiser                                            2261\n",
       "usertag                                               null\n",
       "Name: 7526, dtype: object"
      ]
     },
     "execution_count": 11,
     "metadata": {},
     "output_type": "execute_result"
    }
   ],
   "source": [
    "train[train.payprice==0].iloc[0]"
   ]
  },
  {
   "cell_type": "code",
   "execution_count": 8,
   "metadata": {},
   "outputs": [
    {
     "data": {
      "text/plain": [
       "(0, 300, 78.15141623895867)"
      ]
     },
     "execution_count": 8,
     "metadata": {},
     "output_type": "execute_result"
    }
   ],
   "source": [
    "min(train.payprice), max(train.payprice), np.mean(train.payprice)"
   ]
  },
  {
   "cell_type": "markdown",
   "metadata": {},
   "source": [
    "By using an iterative searching approach, we find the optimal constant 77 and 79, which yield maximum click number 68. The general process is:\n",
    "1. Choose evently spaced contant from the searching interval and compute the corresponding click number\n",
    "2. Narrow down and update the seaching interval based the performance of choosen constants. The condition of using all budget is also taken into consideration when update searching interval\n",
    "\n",
    "Firstly, the optimal constant value must be between the minimum and maximum value of payprice, which is 0 and 300 respectively. In order to find the optimal value, we choose 11 evently spaced points from the interval [0,300], and then narrow down the interval iteratively based on the performance of the chosen points.\n",
    "\n",
    "\n",
    "??? Does the outcome of bidding depend on bidprice or payprice ?"
   ]
  },
  {
   "cell_type": "code",
   "execution_count": 5,
   "metadata": {
    "collapsed": true
   },
   "outputs": [],
   "source": [
    "def const_bid(df, const, train_budget=True):\n",
    "    print('const = ', const)\n",
    "    budget = 6250 * 1000\n",
    "    num_ad = 0\n",
    "    num_click = 0\n",
    "    iter_pct = 1.00\n",
    "    for idx, row in df.iterrows():\n",
    "#         if const >= row.payprice and budget >= row.payprice:\n",
    "        if const >= row.payprice and budget >= const:\n",
    "            budget -= row.payprice\n",
    "            num_ad += 1\n",
    "            num_click += row.click\n",
    "        # early stopping\n",
    "        if budget < const:\n",
    "            iter_pct = idx / df.shape[0]\n",
    "            return num_click, num_ad, iter_pct, budget\n",
    "        \n",
    "    return num_click, num_ad, iter_pct, budget\n",
    "        "
   ]
  },
  {
   "cell_type": "code",
   "execution_count": 6,
   "metadata": {
    "collapsed": true,
    "scrolled": false
   },
   "outputs": [],
   "source": [
    "def try_consts(df, linspace):\n",
    "    num_clicks = []\n",
    "    num_ads = []\n",
    "    iter_pcts = []\n",
    "    budgets = []\n",
    "    # for x in np.linspace(0,300,11):\n",
    "    for x in linspace:\n",
    "        num_click, num_ad, iter_pct, budget = const_bid(df, x)\n",
    "        num_clicks.append(num_click)\n",
    "        num_ads.append(num_ad)\n",
    "        iter_pcts.append(iter_pct)\n",
    "        budgets.append(budget)\n",
    "    \n",
    "    return num_clicks, num_ads, iter_pcts, budgets\n",
    "    "
   ]
  },
  {
   "cell_type": "markdown",
   "metadata": {},
   "source": [
    "## First iteration on validation set"
   ]
  },
  {
   "cell_type": "code",
   "execution_count": 7,
   "metadata": {},
   "outputs": [
    {
     "data": {
      "text/plain": [
       "array([  0.,  30.,  60.,  90., 120., 150., 180., 210., 240., 270., 300.])"
      ]
     },
     "execution_count": 7,
     "metadata": {},
     "output_type": "execute_result"
    }
   ],
   "source": [
    "np.linspace(0, 300, 11)"
   ]
  },
  {
   "cell_type": "code",
   "execution_count": 17,
   "metadata": {
    "scrolled": true
   },
   "outputs": [
    {
     "name": "stdout",
     "output_type": "stream",
     "text": [
      "const =  0.0\n",
      "const =  30.0\n",
      "const =  60.0\n",
      "const =  90.0\n",
      "const =  120.0\n",
      "const =  150.0\n",
      "const =  180.0\n",
      "const =  210.0\n",
      "const =  240.0\n",
      "const =  270.0\n",
      "const =  300.0\n"
     ]
    }
   ],
   "source": [
    "valid_linspace_1 = np.linspace(0, 300, 11)\n",
    "num_clicks_1, num_ads_1, iter_pcts_1, budgets_1 = try_consts(valid, valid_linspace_1)"
   ]
  },
  {
   "cell_type": "code",
   "execution_count": 9,
   "metadata": {},
   "outputs": [
    {
     "name": "stdout",
     "output_type": "stream",
     "text": [
      "const =  98\n"
     ]
    }
   ],
   "source": [
    "num_clicks_1, num_ads_1, iter_pcts_1, budgets_1 = try_consts(valid, [98])\n",
    "num_clicks_1"
   ]
  },
  {
   "cell_type": "code",
   "execution_count": 10,
   "metadata": {},
   "outputs": [
    {
     "data": {
      "text/plain": [
       "[63]"
      ]
     },
     "execution_count": 10,
     "metadata": {},
     "output_type": "execute_result"
    }
   ],
   "source": [
    "num_clicks_1, num_ads_1, iter_pcts_1, budgets_1 = try_consts(valid, [98])\n",
    "num_clicks_1"
   ]
  },
  {
   "cell_type": "code",
   "execution_count": 52,
   "metadata": {},
   "outputs": [
    {
     "data": {
      "text/plain": [
       "Text(0,0.5,'number of clicks gained')"
      ]
     },
     "execution_count": 52,
     "metadata": {},
     "output_type": "execute_result"
    },
    {
     "data": {
      "image/png": "[encoded data removed]",
      "text/plain": [
       "<matplotlib.figure.Figure at 0x115b72eb8>"
      ]
     },
     "metadata": {},
     "output_type": "display_data"
    }
   ],
   "source": [
    "plt.plot(valid_linspace_1, num_clicks_1)\n",
    "plt.axvline(x=valid_linspace_1[2], color='r')\n",
    "plt.axvline(x=valid_linspace_1[4], color='r')\n",
    "plt.xlabel('constant value')\n",
    "plt.ylabel('number of clicks gained')"
   ]
  },
  {
   "cell_type": "code",
   "execution_count": 53,
   "metadata": {
    "scrolled": true
   },
   "outputs": [
    {
     "data": {
      "text/plain": [
       "Text(0,0.5,'iterated percentation before termination')"
      ]
     },
     "execution_count": 53,
     "metadata": {},
     "output_type": "execute_result"
    },
    {
     "data": {
      "image/png": "[encoded data removed]",
      "text/plain": [
       "<matplotlib.figure.Figure at 0x1115fbef0>"
      ]
     },
     "metadata": {},
     "output_type": "display_data"
    }
   ],
   "source": [
    "plt.plot(valid_linspace_1, iter_pcts_1)\n",
    "plt.axvline(x=valid_linspace_1[2], color='r')\n",
    "plt.axvline(x=valid_linspace_1[4], color='r')\n",
    "plt.xlabel('constant value')\n",
    "plt.ylabel('iterated percentation before termination')"
   ]
  },
  {
   "cell_type": "markdown",
   "metadata": {},
   "source": [
    "## Second iteration"
   ]
  },
  {
   "cell_type": "code",
   "execution_count": 31,
   "metadata": {},
   "outputs": [
    {
     "data": {
      "text/plain": [
       "(60.0, 120.0)"
      ]
     },
     "execution_count": 31,
     "metadata": {},
     "output_type": "execute_result"
    }
   ],
   "source": [
    "valid_linspace_1[2], valid_linspace_1[4]"
   ]
  },
  {
   "cell_type": "code",
   "execution_count": 34,
   "metadata": {
    "collapsed": true
   },
   "outputs": [],
   "source": [
    "valid_linspace_2 = np.linspace(valid_linspace_1[2], valid_linspace_1[4], 11)"
   ]
  },
  {
   "cell_type": "code",
   "execution_count": 35,
   "metadata": {},
   "outputs": [
    {
     "data": {
      "text/plain": [
       "array([ 60.,  66.,  72.,  78.,  84.,  90.,  96., 102., 108., 114., 120.])"
      ]
     },
     "execution_count": 35,
     "metadata": {},
     "output_type": "execute_result"
    }
   ],
   "source": [
    "valid_linspace_2"
   ]
  },
  {
   "cell_type": "code",
   "execution_count": 36,
   "metadata": {
    "scrolled": true
   },
   "outputs": [
    {
     "name": "stdout",
     "output_type": "stream",
     "text": [
      "const =  60.0\n",
      "const =  66.0\n",
      "const =  72.0\n",
      "const =  78.0\n",
      "const =  84.0\n",
      "const =  90.0\n",
      "const =  96.0\n",
      "const =  102.0\n",
      "const =  108.0\n",
      "const =  114.0\n",
      "const =  120.0\n"
     ]
    }
   ],
   "source": [
    "num_clicks_2, num_ads_2, iter_pcts_2, budgets_2 = try_consts(valid, valid_linspace_2)"
   ]
  },
  {
   "cell_type": "code",
   "execution_count": 54,
   "metadata": {
    "scrolled": true
   },
   "outputs": [
    {
     "data": {
      "text/plain": [
       "Text(0,0.5,'number of clicks gained')"
      ]
     },
     "execution_count": 54,
     "metadata": {},
     "output_type": "execute_result"
    },
    {
     "data": {
      "image/png": "[encoded data removed]",
      "text/plain": [
       "<matplotlib.figure.Figure at 0x1126145c0>"
      ]
     },
     "metadata": {},
     "output_type": "display_data"
    }
   ],
   "source": [
    "plt.plot(valid_linspace_2, num_clicks_2)\n",
    "plt.axvline(x=valid_linspace_2[2], color='r')\n",
    "plt.axvline(x=valid_linspace_2[4], color='r')\n",
    "plt.xlabel('constant value')\n",
    "plt.ylabel('number of clicks gained')"
   ]
  },
  {
   "cell_type": "code",
   "execution_count": 55,
   "metadata": {
    "scrolled": true
   },
   "outputs": [
    {
     "data": {
      "text/plain": [
       "Text(0,0.5,'iterated percentation before termination')"
      ]
     },
     "execution_count": 55,
     "metadata": {},
     "output_type": "execute_result"
    },
    {
     "data": {
      "image/png": "[encoded data removed]",
      "text/plain": [
       "<matplotlib.figure.Figure at 0x1156de780>"
      ]
     },
     "metadata": {},
     "output_type": "display_data"
    }
   ],
   "source": [
    "plt.plot(valid_linspace_2, iter_pcts)\n",
    "plt.axvline(x=valid_linspace_2[2], color='r')\n",
    "plt.axvline(x=valid_linspace_2[4], color='r')\n",
    "plt.xlabel('constant value')\n",
    "plt.ylabel('iterated percentation before termination')"
   ]
  },
  {
   "cell_type": "markdown",
   "metadata": {},
   "source": [
    "## Third Iteration"
   ]
  },
  {
   "cell_type": "code",
   "execution_count": 40,
   "metadata": {},
   "outputs": [
    {
     "data": {
      "text/plain": [
       "(72.0, 84.0)"
      ]
     },
     "execution_count": 40,
     "metadata": {},
     "output_type": "execute_result"
    }
   ],
   "source": [
    "valid_linspace_2[2], valid_linspace_2[4]"
   ]
  },
  {
   "cell_type": "code",
   "execution_count": 60,
   "metadata": {
    "collapsed": true
   },
   "outputs": [],
   "source": [
    "valid_linspace_3 = np.linspace(valid_linspace_2[2], valid_linspace_2[4], 13)"
   ]
  },
  {
   "cell_type": "code",
   "execution_count": 61,
   "metadata": {},
   "outputs": [
    {
     "data": {
      "text/plain": [
       "array([72., 73., 74., 75., 76., 77., 78., 79., 80., 81., 82., 83., 84.])"
      ]
     },
     "execution_count": 61,
     "metadata": {},
     "output_type": "execute_result"
    }
   ],
   "source": [
    "valid_linspace_3"
   ]
  },
  {
   "cell_type": "code",
   "execution_count": 62,
   "metadata": {},
   "outputs": [
    {
     "name": "stdout",
     "output_type": "stream",
     "text": [
      "const =  72.0\n",
      "const =  73.0\n",
      "const =  74.0\n",
      "const =  75.0\n",
      "const =  76.0\n",
      "const =  77.0\n",
      "const =  78.0\n",
      "const =  79.0\n",
      "const =  80.0\n",
      "const =  81.0\n",
      "const =  82.0\n",
      "const =  83.0\n",
      "const =  84.0\n"
     ]
    }
   ],
   "source": [
    "num_clicks_3, num_ads_3, iter_pcts_3, budgets_3 = try_consts(valid, valid_linspace_3)"
   ]
  },
  {
   "cell_type": "code",
   "execution_count": 85,
   "metadata": {
    "scrolled": true
   },
   "outputs": [
    {
     "data": {
      "text/plain": [
       "Text(0,0.5,'number of clicks gained')"
      ]
     },
     "execution_count": 85,
     "metadata": {},
     "output_type": "execute_result"
    },
    {
     "data": {
      "image/png": "[encoded data removed]",
      "text/plain": [
       "<matplotlib.figure.Figure at 0x128939208>"
      ]
     },
     "metadata": {},
     "output_type": "display_data"
    }
   ],
   "source": [
    "plt.plot(valid_linspace_3, num_clicks_3)\n",
    "plt.axvline(x=77, color='r')\n",
    "plt.axvline(x=79, color='r')\n",
    "plt.xlabel('constant value')\n",
    "plt.ylabel('number of clicks gained')"
   ]
  },
  {
   "cell_type": "markdown",
   "metadata": {},
   "source": [
    "## Additional iteration"
   ]
  },
  {
   "cell_type": "code",
   "execution_count": 76,
   "metadata": {},
   "outputs": [
    {
     "data": {
      "text/plain": [
       "(84.0, 90.0)"
      ]
     },
     "execution_count": 76,
     "metadata": {},
     "output_type": "execute_result"
    }
   ],
   "source": [
    "valid_linspace_2[4], valid_linspace_2[5]"
   ]
  },
  {
   "cell_type": "code",
   "execution_count": 78,
   "metadata": {
    "collapsed": true
   },
   "outputs": [],
   "source": [
    "valid_linspace_add = np.linspace(valid_linspace_2[4], valid_linspace_2[5], 7)"
   ]
  },
  {
   "cell_type": "code",
   "execution_count": 79,
   "metadata": {},
   "outputs": [
    {
     "name": "stdout",
     "output_type": "stream",
     "text": [
      "const =  84.0\n",
      "const =  85.0\n",
      "const =  86.0\n",
      "const =  87.0\n",
      "const =  88.0\n",
      "const =  89.0\n",
      "const =  90.0\n"
     ]
    }
   ],
   "source": [
    "num_clicks_add, num_ads_add, iter_pcts_add, budgets_add = try_consts(valid, valid_linspace_add)"
   ]
  },
  {
   "cell_type": "code",
   "execution_count": 81,
   "metadata": {},
   "outputs": [
    {
     "data": {
      "text/plain": [
       "[<matplotlib.lines.Line2D at 0x116d12e48>]"
      ]
     },
     "execution_count": 81,
     "metadata": {},
     "output_type": "execute_result"
    },
    {
     "data": {
      "image/png": "[encoded data removed]",
      "text/plain": [
       "<matplotlib.figure.Figure at 0x129e3d5f8>"
      ]
     },
     "metadata": {},
     "output_type": "display_data"
    }
   ],
   "source": [
    "plt.plot(valid_linspace_add, num_clicks_add)"
   ]
  },
  {
   "cell_type": "code",
   "execution_count": 66,
   "metadata": {
    "scrolled": false
   },
   "outputs": [
    {
     "data": {
      "text/plain": [
       "[<matplotlib.lines.Line2D at 0x11c6cac88>]"
      ]
     },
     "execution_count": 66,
     "metadata": {},
     "output_type": "execute_result"
    },
    {
     "data": {
      "image/png": "[encoded data removed]",
      "text/plain": [
       "<matplotlib.figure.Figure at 0x1149b0b38>"
      ]
     },
     "metadata": {},
     "output_type": "display_data"
    }
   ],
   "source": [
    "plt.plot(valid_linspace_3, iter_pcts_3)"
   ]
  },
  {
   "cell_type": "markdown",
   "metadata": {},
   "source": [
    "## Forth Iteration"
   ]
  },
  {
   "cell_type": "code",
   "execution_count": 13,
   "metadata": {
    "collapsed": true
   },
   "outputs": [],
   "source": [
    "valid_linspace_4 = np.linspace(77,81,10)"
   ]
  },
  {
   "cell_type": "code",
   "execution_count": 14,
   "metadata": {
    "scrolled": true
   },
   "outputs": [
    {
     "name": "stdout",
     "output_type": "stream",
     "text": [
      "const =  77.0\n",
      "const =  77.44444444444444\n",
      "const =  77.88888888888889\n",
      "const =  78.33333333333333\n",
      "const =  78.77777777777777\n",
      "const =  79.22222222222223\n",
      "const =  79.66666666666667\n",
      "const =  80.11111111111111\n",
      "const =  80.55555555555556\n",
      "const =  81.0\n"
     ]
    }
   ],
   "source": [
    "num_clicks_4, num_ads_4, iter_pcts_4, budgets_4 = try_consts(valid, valid_linspace_4)"
   ]
  },
  {
   "cell_type": "code",
   "execution_count": 15,
   "metadata": {
    "scrolled": true
   },
   "outputs": [
    {
     "data": {
      "text/plain": [
       "[<matplotlib.lines.Line2D at 0x11e5fd358>]"
      ]
     },
     "execution_count": 15,
     "metadata": {},
     "output_type": "execute_result"
    },
    {
     "data": {
      "image/png": "[encoded data removed]",
      "text/plain": [
       "<matplotlib.figure.Figure at 0x11f3449e8>"
      ]
     },
     "metadata": {},
     "output_type": "display_data"
    }
   ],
   "source": [
    "# plt.plot(valid_linspace_4, num_clicks_4)"
   ]
  },
  {
   "cell_type": "code",
   "execution_count": 16,
   "metadata": {},
   "outputs": [
    {
     "data": {
      "text/plain": [
       "[68, 68, 68, 67, 67, 68, 68, 66, 66, 67]"
      ]
     },
     "execution_count": 16,
     "metadata": {},
     "output_type": "execute_result"
    }
   ],
   "source": [
    "num_clicks_4"
   ]
  },
  {
   "cell_type": "markdown",
   "metadata": {},
   "source": [
    "## Random Bidding"
   ]
  },
  {
   "cell_type": "markdown",
   "metadata": {},
   "source": [
    "While random bidding strategy could yield different result, we execute it 5 times and take the mean of these results as final result.\n",
    "\n",
    "Based on the optimal constants found in the previous part, we set our initial bidding interval as [77, 79]"
   ]
  },
  {
   "cell_type": "code",
   "execution_count": null,
   "metadata": {
    "collapsed": true
   },
   "outputs": [],
   "source": []
  },
  {
   "cell_type": "markdown",
   "metadata": {},
   "source": [
    "The interval for picking the bid value randomly is selected to be [77, 87). Since every integer value from this interval yields a clicks number which is no less than 66."
   ]
  },
  {
   "cell_type": "code",
   "execution_count": 9,
   "metadata": {
    "collapsed": true
   },
   "outputs": [],
   "source": [
    "from random import uniform"
   ]
  },
  {
   "cell_type": "code",
   "execution_count": 32,
   "metadata": {
    "collapsed": true
   },
   "outputs": [],
   "source": [
    "def random_bid(df, low, high):\n",
    "#     print('low = ', low, 'high = ', high)\n",
    "    budget = 6250 * 1000\n",
    "    num_ad = 0\n",
    "    num_click = 0\n",
    "    iter_pct = 1.00\n",
    "    for idx, row in df.iterrows():\n",
    "        bid_price = uniform(low, high)\n",
    "        if bid_price >= row.payprice and budget >= bid_price:\n",
    "            budget -= row.payprice\n",
    "            num_ad += 1\n",
    "            num_click += row.click\n",
    "            \n",
    "        # early stopping\n",
    "        if budget < low:\n",
    "            iter_pct = idx / df.shape[0]\n",
    "            return num_click, num_ad, iter_pct, budget\n",
    "        \n",
    "    return num_click, num_ad, iter_pct, budget"
   ]
  },
  {
   "cell_type": "code",
   "execution_count": 37,
   "metadata": {},
   "outputs": [],
   "source": [
    "# fix original lower bound, check larger upper bound\n",
    "# upper_bounds = np.linspace(80, 200, 31)\n",
    "upper_bounds = np.linspace(80, 200, 31)\n",
    "\n",
    "num_clicks = []\n",
    "\n",
    "for high in upper_bounds:\n",
    "    num_click, _, _, _ = random_bid(valid, 77, high)\n",
    "    num_clicks.append(num_click)"
   ]
  },
  {
   "cell_type": "code",
   "execution_count": 42,
   "metadata": {
    "scrolled": true
   },
   "outputs": [
    {
     "data": {
      "text/plain": [
       "[<matplotlib.lines.Line2D at 0x10ef7c550>]"
      ]
     },
     "execution_count": 42,
     "metadata": {},
     "output_type": "execute_result"
    },
    {
     "data": {
      "image/png": "[encoded data removed]",
      "text/plain": [
       "<matplotlib.figure.Figure at 0x12954fa58>"
      ]
     },
     "metadata": {},
     "output_type": "display_data"
    }
   ],
   "source": [
    "plt.plot(upper_bounds, num_clicks)"
   ]
  },
  {
   "cell_type": "code",
   "execution_count": 40,
   "metadata": {},
   "outputs": [],
   "source": [
    "# fix original upper bound, check smaller lower bound\n",
    "lower_bounds = np.linspace(77, 37, 21)\n",
    "\n",
    "num_clicks_lower = []\n",
    "\n",
    "for low in lower_bounds:\n",
    "    num_click, _, _, _ = random_bid(valid, low=low, high=79)\n",
    "    num_clicks_lower.append(num_click)"
   ]
  },
  {
   "cell_type": "code",
   "execution_count": 43,
   "metadata": {
    "scrolled": true
   },
   "outputs": [
    {
     "data": {
      "text/plain": [
       "[<matplotlib.lines.Line2D at 0x10eda6550>]"
      ]
     },
     "execution_count": 43,
     "metadata": {},
     "output_type": "execute_result"
    },
    {
     "data": {
      "image/png": "[encoded data removed]",
      "text/plain": [
       "<matplotlib.figure.Figure at 0x10ee7c518>"
      ]
     },
     "metadata": {},
     "output_type": "display_data"
    }
   ],
   "source": [
    "plt.plot(lower_bounds, num_clicks_lower)"
   ]
  },
  {
   "cell_type": "code",
   "execution_count": 45,
   "metadata": {
    "collapsed": true
   },
   "outputs": [],
   "source": [
    "# expand the interval for both directions:\n",
    "low = 77\n",
    "high = 79\n",
    "num_clicks_expd = []\n",
    "for x in range(10):\n",
    "    low -= 2\n",
    "    high += 2\n",
    "    num_click, _, _, _ = random_bid(valid, low=low, high=high)\n",
    "    num_clicks_expd.append(num_click)"
   ]
  },
  {
   "cell_type": "code",
   "execution_count": 46,
   "metadata": {},
   "outputs": [
    {
     "data": {
      "text/plain": [
       "[68, 62, 64, 69, 68, 65, 64, 67, 62, 65]"
      ]
     },
     "execution_count": 46,
     "metadata": {},
     "output_type": "execute_result"
    }
   ],
   "source": [
    "num_clicks_expd"
   ]
  },
  {
   "cell_type": "code",
   "execution_count": 16,
   "metadata": {},
   "outputs": [
    {
     "data": {
      "text/plain": [
       "0.6023490105434802"
      ]
     },
     "execution_count": 16,
     "metadata": {},
     "output_type": "execute_result"
    }
   ],
   "source": [
    "np.sum(train.payprice < 77) / train.shape[0]"
   ]
  },
  {
   "cell_type": "code",
   "execution_count": 13,
   "metadata": {},
   "outputs": [
    {
     "data": {
      "text/plain": [
       "67"
      ]
     },
     "execution_count": 13,
     "metadata": {},
     "output_type": "execute_result"
    }
   ],
   "source": [
    "num_click"
   ]
  },
  {
   "cell_type": "code",
   "execution_count": 130,
   "metadata": {},
   "outputs": [
    {
     "data": {
      "text/plain": [
       "0.6903282059718681"
      ]
     },
     "execution_count": 130,
     "metadata": {},
     "output_type": "execute_result"
    }
   ],
   "source": [
    "iter_pct"
   ]
  },
  {
   "cell_type": "code",
   "execution_count": 86,
   "metadata": {
    "collapsed": true
   },
   "outputs": [],
   "source": [
    "rand_inteval = [77, 86]"
   ]
  },
  {
   "cell_type": "code",
   "execution_count": 26,
   "metadata": {
    "collapsed": true,
    "scrolled": true
   },
   "outputs": [],
   "source": [
    "# plt.plot(num_ads)"
   ]
  },
  {
   "cell_type": "markdown",
   "metadata": {},
   "source": [
    "## *First Iteration on training data"
   ]
  },
  {
   "cell_type": "code",
   "execution_count": 80,
   "metadata": {},
   "outputs": [
    {
     "data": {
      "text/plain": [
       "array([  0.,  30.,  60.,  90., 120., 150., 180., 210., 240., 270., 300.])"
      ]
     },
     "execution_count": 80,
     "metadata": {},
     "output_type": "execute_result"
    }
   ],
   "source": [
    "np.linspace(0,300,11)"
   ]
  },
  {
   "cell_type": "code",
   "execution_count": 70,
   "metadata": {},
   "outputs": [
    {
     "data": {
      "text/plain": [
       "[<matplotlib.lines.Line2D at 0x17afa6198>]"
      ]
     },
     "execution_count": 70,
     "metadata": {},
     "output_type": "execute_result"
    },
    {
     "data": {
      "image/png": "[encoded data removed]",
      "text/plain": [
       "<matplotlib.figure.Figure at 0x16f65cf60>"
      ]
     },
     "metadata": {},
     "output_type": "display_data"
    }
   ],
   "source": [
    "plt.plot(num_clicks)"
   ]
  },
  {
   "cell_type": "code",
   "execution_count": 71,
   "metadata": {},
   "outputs": [
    {
     "data": {
      "text/plain": [
       "[<matplotlib.lines.Line2D at 0x17b01b630>]"
      ]
     },
     "execution_count": 71,
     "metadata": {},
     "output_type": "execute_result"
    },
    {
     "data": {
      "image/png": "[encoded data removed]",
      "text/plain": [
       "<matplotlib.figure.Figure at 0x16f65cc18>"
      ]
     },
     "metadata": {},
     "output_type": "display_data"
    }
   ],
   "source": [
    "plt.plot(num_ads)"
   ]
  },
  {
   "cell_type": "code",
   "execution_count": 72,
   "metadata": {},
   "outputs": [
    {
     "data": {
      "text/plain": [
       "[<matplotlib.lines.Line2D at 0x17b06f1d0>]"
      ]
     },
     "execution_count": 72,
     "metadata": {},
     "output_type": "execute_result"
    },
    {
     "data": {
      "image/png": "[encoded data removed]",
      "text/plain": [
       "<matplotlib.figure.Figure at 0x17b044ac8>"
      ]
     },
     "metadata": {},
     "output_type": "display_data"
    }
   ],
   "source": [
    "plt.plot(iter_pcts)"
   ]
  },
  {
   "cell_type": "code",
   "execution_count": 74,
   "metadata": {
    "scrolled": false
   },
   "outputs": [
    {
     "data": {
      "text/plain": [
       "[<matplotlib.lines.Line2D at 0x17b0d8828>]"
      ]
     },
     "execution_count": 74,
     "metadata": {},
     "output_type": "execute_result"
    },
    {
     "data": {
      "image/png": "[encoded data removed]",
      "text/plain": [
       "<matplotlib.figure.Figure at 0x17b0844a8>"
      ]
     },
     "metadata": {},
     "output_type": "display_data"
    }
   ],
   "source": [
    "plt.plot(budgets)"
   ]
  },
  {
   "cell_type": "code",
   "execution_count": null,
   "metadata": {
    "collapsed": true
   },
   "outputs": [],
   "source": []
  },
  {
   "cell_type": "markdown",
   "metadata": {},
   "source": [
    "## Validation"
   ]
  },
  {
   "cell_type": "code",
   "execution_count": 12,
   "metadata": {
    "collapsed": true
   },
   "outputs": [],
   "source": [
    "vald = pd.read_csv('./data/validation.csv')"
   ]
  },
  {
   "cell_type": "code",
   "execution_count": 63,
   "metadata": {},
   "outputs": [
    {
     "data": {
      "text/plain": [
       "(303925, 25)"
      ]
     },
     "execution_count": 63,
     "metadata": {},
     "output_type": "execute_result"
    }
   ],
   "source": [
    "vald.shape"
   ]
  },
  {
   "cell_type": "code",
   "execution_count": 64,
   "metadata": {
    "collapsed": true
   },
   "outputs": [],
   "source": [
    "test = pd.read_csv('./data/test.csv')"
   ]
  },
  {
   "cell_type": "code",
   "execution_count": 65,
   "metadata": {},
   "outputs": [
    {
     "data": {
      "text/plain": [
       "(303375, 22)"
      ]
     },
     "execution_count": 65,
     "metadata": {},
     "output_type": "execute_result"
    }
   ],
   "source": [
    "test.shape"
   ]
  },
  {
   "cell_type": "code",
   "execution_count": 13,
   "metadata": {},
   "outputs": [
    {
     "data": {
      "text/plain": [
       "click                                                    0\n",
       "weekday                                                  4\n",
       "hour                                                    20\n",
       "bidid             bbcb813b6166538503d8b33a5602d7d72f6019dc\n",
       "userid            663169f66491c98c69f1f94a5c48fa34aa9fe06f\n",
       "useragent                                       windows_ie\n",
       "IP                                           211.144.203.*\n",
       "region                                                  79\n",
       "city                                                    79\n",
       "adexchange                                               1\n",
       "domain                                      trqRTvFRLpscFU\n",
       "url                       5ede68cc7542a34777fb8a1574856b6f\n",
       "urlid                                                 null\n",
       "slotid                         mm_10027070_2459574_9659312\n",
       "slotwidth                                              160\n",
       "slotheight                                             600\n",
       "slotvisibility                                           2\n",
       "slotformat                                               1\n",
       "slotprice                                                0\n",
       "creative                  cb7c76e7784031272e37af8e7e9b062c\n",
       "bidprice                                               300\n",
       "payprice                                                23\n",
       "keypage                   bebefa5efe83beee17a3d245e7c5085b\n",
       "advertiser                                            1458\n",
       "usertag                                        13866,10111\n",
       "Name: 0, dtype: object"
      ]
     },
     "execution_count": 13,
     "metadata": {},
     "output_type": "execute_result"
    }
   ],
   "source": [
    "vald.iloc[0]"
   ]
  },
  {
   "cell_type": "code",
   "execution_count": null,
   "metadata": {
    "collapsed": true
   },
   "outputs": [],
   "source": []
  },
  {
   "cell_type": "code",
   "execution_count": null,
   "metadata": {
    "collapsed": true
   },
   "outputs": [],
   "source": []
  },
  {
   "cell_type": "markdown",
   "metadata": {},
   "source": [
    "- "
   ]
  },
  {
   "cell_type": "markdown",
   "metadata": {},
   "source": [
    "- how to evaluate"
   ]
  }
 ],
 "metadata": {
  "kernelspec": {
   "display_name": "Python 3",
   "language": "python",
   "name": "python3"
  },
  "language_info": {
   "codemirror_mode": {
    "name": "ipython",
    "version": 3
   },
   "file_extension": ".py",
   "mimetype": "text/x-python",
   "name": "python",
   "nbconvert_exporter": "python",
   "pygments_lexer": "ipython3",
   "version": "3.6.3"
  }
 },
 "nbformat": 4,
 "nbformat_minor": 2
}
