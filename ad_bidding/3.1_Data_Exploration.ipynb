{
 "cells": [
  {
   "cell_type": "code",
   "execution_count": 2,
   "metadata": {
    "collapsed": true
   },
   "outputs": [],
   "source": [
    "import pandas as pd\n",
    "import numpy as np\n",
    "import collections\n",
    "from collections import Counter\n",
    "\n",
    "import matplotlib.pyplot as plt\n",
    "%matplotlib inline"
   ]
  },
  {
   "cell_type": "code",
   "execution_count": 3,
   "metadata": {
    "collapsed": true
   },
   "outputs": [],
   "source": [
    "train = pd.read_csv('./data/train.csv')\n",
    "valid = pd.read_csv('./data/validation.csv')\n",
    "test  = pd.read_csv('./data/test.csv')"
   ]
  },
  {
   "cell_type": "code",
   "execution_count": 12,
   "metadata": {},
   "outputs": [
    {
     "data": {
      "text/plain": [
       "((2430981, 25), (303925, 25), (303375, 22))"
      ]
     },
     "execution_count": 12,
     "metadata": {},
     "output_type": "execute_result"
    }
   ],
   "source": [
    "train.shape, valid.shape, test.shape"
   ]
  },
  {
   "cell_type": "code",
   "execution_count": 13,
   "metadata": {},
   "outputs": [
    {
     "data": {
      "text/plain": [
       "{'bidprice', 'click', 'payprice'}"
      ]
     },
     "execution_count": 13,
     "metadata": {},
     "output_type": "execute_result"
    }
   ],
   "source": [
    "# difference in columns between train and test data\n",
    "set(train.columns) - set(train.columns).intersection(set(test.columns))"
   ]
  },
  {
   "cell_type": "code",
   "execution_count": 3,
   "metadata": {
    "collapsed": true
   },
   "outputs": [],
   "source": [
    "t = train.drop(['bidprice','click','payprice'], axis=1)"
   ]
  },
  {
   "cell_type": "code",
   "execution_count": 4,
   "metadata": {
    "collapsed": true
   },
   "outputs": [],
   "source": [
    "v = valid.drop(['bidprice','click','payprice'], axis=1)"
   ]
  },
  {
   "cell_type": "markdown",
   "metadata": {},
   "source": [
    "# 1.1 basic statistics"
   ]
  },
  {
   "cell_type": "code",
   "execution_count": 11,
   "metadata": {},
   "outputs": [
    {
     "data": {
      "text/plain": [
       "2430981"
      ]
     },
     "execution_count": 11,
     "metadata": {},
     "output_type": "execute_result"
    }
   ],
   "source": [
    "# numImps\n",
    "numImps = train.shape[0]\n",
    "numImps"
   ]
  },
  {
   "cell_type": "code",
   "execution_count": 8,
   "metadata": {},
   "outputs": [
    {
     "data": {
      "text/plain": [
       "1793"
      ]
     },
     "execution_count": 8,
     "metadata": {},
     "output_type": "execute_result"
    }
   ],
   "source": [
    "numClicks = train['click'].sum()\n",
    "numClicks"
   ]
  },
  {
   "cell_type": "code",
   "execution_count": 9,
   "metadata": {},
   "outputs": [
    {
     "data": {
      "text/plain": [
       "189984608"
      ]
     },
     "execution_count": 9,
     "metadata": {},
     "output_type": "execute_result"
    }
   ],
   "source": [
    "Cost = train['payprice'].sum()\n",
    "Cost"
   ]
  },
  {
   "cell_type": "code",
   "execution_count": 12,
   "metadata": {},
   "outputs": [
    {
     "data": {
      "text/plain": [
       "0.0007375623256619447"
      ]
     },
     "execution_count": 12,
     "metadata": {},
     "output_type": "execute_result"
    }
   ],
   "source": [
    "CTR = numClicks / numImps\n",
    "CTR"
   ]
  },
  {
   "cell_type": "code",
   "execution_count": 14,
   "metadata": {},
   "outputs": [
    {
     "data": {
      "text/plain": [
       "78.15141623895867"
      ]
     },
     "execution_count": 14,
     "metadata": {},
     "output_type": "execute_result"
    }
   ],
   "source": [
    "avgCPM = Cost / numImps  \n",
    "avgCPM"
   ]
  },
  {
   "cell_type": "code",
   "execution_count": 15,
   "metadata": {},
   "outputs": [
    {
     "data": {
      "text/plain": [
       "105959.06748466258"
      ]
     },
     "execution_count": 15,
     "metadata": {},
     "output_type": "execute_result"
    }
   ],
   "source": [
    "avgCPC = Cost / numClicks\n",
    "avgCPC"
   ]
  },
  {
   "cell_type": "code",
   "execution_count": 19,
   "metadata": {
    "scrolled": true
   },
   "outputs": [
    {
     "data": {
      "text/html": [
       "<div>\n",
       "<style>\n",
       "    .dataframe thead tr:only-child th {\n",
       "        text-align: right;\n",
       "    }\n",
       "\n",
       "    .dataframe thead th {\n",
       "        text-align: left;\n",
       "    }\n",
       "\n",
       "    .dataframe tbody tr th {\n",
       "        vertical-align: top;\n",
       "    }\n",
       "</style>\n",
       "<table border=\"1\" class=\"dataframe\">\n",
       "  <thead>\n",
       "    <tr style=\"text-align: right;\">\n",
       "      <th></th>\n",
       "      <th>count</th>\n",
       "      <th>mean</th>\n",
       "      <th>std</th>\n",
       "      <th>min</th>\n",
       "      <th>25%</th>\n",
       "      <th>50%</th>\n",
       "      <th>75%</th>\n",
       "      <th>max</th>\n",
       "    </tr>\n",
       "  </thead>\n",
       "  <tbody>\n",
       "    <tr>\n",
       "      <th>click</th>\n",
       "      <td>2430981.0</td>\n",
       "      <td>0.000738</td>\n",
       "      <td>0.027148</td>\n",
       "      <td>0.0</td>\n",
       "      <td>0.0</td>\n",
       "      <td>0.0</td>\n",
       "      <td>0.0</td>\n",
       "      <td>1.0</td>\n",
       "    </tr>\n",
       "    <tr>\n",
       "      <th>bidprice</th>\n",
       "      <td>2430981.0</td>\n",
       "      <td>272.962046</td>\n",
       "      <td>28.911533</td>\n",
       "      <td>227.0</td>\n",
       "      <td>241.0</td>\n",
       "      <td>294.0</td>\n",
       "      <td>300.0</td>\n",
       "      <td>300.0</td>\n",
       "    </tr>\n",
       "    <tr>\n",
       "      <th>slotprice</th>\n",
       "      <td>2430981.0</td>\n",
       "      <td>26.717825</td>\n",
       "      <td>37.044439</td>\n",
       "      <td>0.0</td>\n",
       "      <td>0.0</td>\n",
       "      <td>5.0</td>\n",
       "      <td>50.0</td>\n",
       "      <td>300.0</td>\n",
       "    </tr>\n",
       "    <tr>\n",
       "      <th>slotwidth</th>\n",
       "      <td>2430981.0</td>\n",
       "      <td>577.421826</td>\n",
       "      <td>321.673791</td>\n",
       "      <td>120.0</td>\n",
       "      <td>300.0</td>\n",
       "      <td>336.0</td>\n",
       "      <td>960.0</td>\n",
       "      <td>1000.0</td>\n",
       "    </tr>\n",
       "    <tr>\n",
       "      <th>slotheight</th>\n",
       "      <td>2430981.0</td>\n",
       "      <td>188.572264</td>\n",
       "      <td>131.494564</td>\n",
       "      <td>50.0</td>\n",
       "      <td>90.0</td>\n",
       "      <td>90.0</td>\n",
       "      <td>250.0</td>\n",
       "      <td>600.0</td>\n",
       "    </tr>\n",
       "  </tbody>\n",
       "</table>\n",
       "</div>"
      ],
      "text/plain": [
       "                count        mean         std    min    25%    50%    75%  \\\n",
       "click       2430981.0    0.000738    0.027148    0.0    0.0    0.0    0.0   \n",
       "bidprice    2430981.0  272.962046   28.911533  227.0  241.0  294.0  300.0   \n",
       "slotprice   2430981.0   26.717825   37.044439    0.0    0.0    5.0   50.0   \n",
       "slotwidth   2430981.0  577.421826  321.673791  120.0  300.0  336.0  960.0   \n",
       "slotheight  2430981.0  188.572264  131.494564   50.0   90.0   90.0  250.0   \n",
       "\n",
       "               max  \n",
       "click          1.0  \n",
       "bidprice     300.0  \n",
       "slotprice    300.0  \n",
       "slotwidth   1000.0  \n",
       "slotheight   600.0  "
      ]
     },
     "execution_count": 19,
     "metadata": {},
     "output_type": "execute_result"
    }
   ],
   "source": [
    "# statistics of continuous variables\n",
    "train[['click','bidprice', 'slotprice','slotwidth', 'slotheight']].describe().transpose()"
   ]
  },
  {
   "cell_type": "code",
   "execution_count": 21,
   "metadata": {
    "scrolled": false
   },
   "outputs": [
    {
     "data": {
      "text/plain": [
       "click                   2\n",
       "weekday                 7\n",
       "hour                   24\n",
       "bidid             2430981\n",
       "userid            2342677\n",
       "useragent              38\n",
       "IP                 503975\n",
       "region                 35\n",
       "city                  370\n",
       "adexchange              5\n",
       "domain              23013\n",
       "url                763961\n",
       "urlid                   1\n",
       "slotid              52283\n",
       "slotwidth              21\n",
       "slotheight             14\n",
       "slotvisibility         11\n",
       "slotformat              4\n",
       "slotprice             286\n",
       "creative              131\n",
       "bidprice                8\n",
       "payprice              301\n",
       "keypage                19\n",
       "advertiser              9\n",
       "usertag            744036\n",
       "dtype: int64"
      ]
     },
     "execution_count": 21,
     "metadata": {},
     "output_type": "execute_result"
    }
   ],
   "source": [
    "train.nunique()"
   ]
  },
  {
   "cell_type": "markdown",
   "metadata": {},
   "source": [
    "# 1.2 Further Analysis"
   ]
  },
  {
   "cell_type": "code",
   "execution_count": 49,
   "metadata": {},
   "outputs": [
    {
     "data": {
      "image/png": "[encoded data removed]",
      "text/plain": [
       "<matplotlib.figure.Figure at 0x1170fc8d0>"
      ]
     },
     "metadata": {},
     "output_type": "display_data"
    }
   ],
   "source": [
    "# Histograms of prices\n",
    "n, bins, patches = plt.hist(train['payprice'],  100, normed=1, facecolor='blue', alpha=0.5, label='Paid Price')\n",
    "\n",
    "n, bins, patches = plt.hist(train['bidprice'], 100, normed=1, facecolor='black', alpha=0.5, label='Bid Price')\n",
    "n, bins, patches = plt.hist(train['slotprice'], 100, normed=1, facecolor='red', alpha=0.5, label='Floor Price')\n",
    "\n",
    "plt.xlabel('Price')\n",
    "plt.ylabel('Percentage')\n",
    "plt.title('Distribution of Price')\n",
    "# plt.grid(True)\n",
    "plt.legend()\n",
    "\n",
    "plt.show() # Quite a discrepancy in bid and paid prices"
   ]
  },
  {
   "cell_type": "markdown",
   "metadata": {},
   "source": [
    "# 1.3 Additional findings"
   ]
  },
  {
   "cell_type": "code",
   "execution_count": 22,
   "metadata": {},
   "outputs": [
    {
     "data": {
      "text/plain": [
       "weekday\n",
       "0    271\n",
       "1    249\n",
       "2    286\n",
       "3    283\n",
       "4    264\n",
       "5    247\n",
       "6    193\n",
       "dtype: int64"
      ]
     },
     "execution_count": 22,
     "metadata": {},
     "output_type": "execute_result"
    }
   ],
   "source": [
    "## ANALYSIS BY ADVERTISER\n",
    "train_by_advertiser = pd.DataFrame({'impressions': train.groupby('advertiser').size()}).reset_index() # Total Impressions\n",
    "train_by_advertiser = train_by_advertiser.join(pd.DataFrame({'clicks': train[train['click'] == 1].groupby('advertiser').size()}).reset_index(drop=True)) # Total Clicks\n",
    "train_by_advertiser['CTR'] = train_by_advertiser['clicks']/train_by_advertiser['impressions']*100 # Click-Through Rate\n",
    "train_by_advertiser = train_by_advertiser.join(pd.DataFrame({'cost': train.groupby(['advertiser'])['payprice'].sum()}).reset_index(drop=True)/1000) # Total Pay/Cost\n",
    "train_by_advertiser['CPM'] = train_by_advertiser['cost']*1000/train_by_advertiser['impressions'] # Cost per-mille (Cost per Thousand Impressions)\n",
    "train_by_advertiser['eCPC'] = train_by_advertiser['cost']/train_by_advertiser['clicks'] # Effective Cost-per-Click\n",
    "\n",
    "\n",
    "## ANALYSIS BY DAY\n",
    "train_by_weekday = pd.DataFrame({'impressions': train.groupby('weekday').size()}).reset_index() # Total Impressions\n",
    "train_by_weekday = train_by_weekday.join(pd.DataFrame({'clicks': train[train['click'] == 1].groupby('weekday').size()}).reset_index(drop=True)) # Total Clicks\n",
    "train_by_weekday['CTR'] = train_by_weekday['clicks']/train_by_weekday['impressions']*100 # Click-Through Rate\n",
    "train_by_weekday = train_by_weekday.join(pd.DataFrame({'cost': train.groupby(['weekday'])['payprice'].sum()}).reset_index(drop=True)/1000) # Total Pay/Cost\n",
    "train_by_weekday['CPM'] = train_by_weekday['cost']*1000/train_by_weekday['impressions'] # Cost per-mille (Cost per Thousand Impressions)\n",
    "train_by_weekday['eCPC'] = train_by_weekday['cost']/train_by_weekday['clicks'] # Effective Cost-per-Click\n",
    "\n",
    "## ANALYSIS BY HOUR\n",
    "train_by_hour = pd.DataFrame({'impressions': train.groupby('hour').size()}).reset_index() # Total Impressions\n",
    "train_by_hour = train_by_hour.join(pd.DataFrame({'clicks': train[train['click'] == 1].groupby('hour').size()}).reset_index(drop=True)) # Total Clicks\n",
    "train_by_hour['CTR'] = train_by_hour['clicks']/train_by_hour['impressions']*100 # Click-Through Rate\n",
    "train_by_hour = train_by_hour.join(pd.DataFrame({'cost': train.groupby(['hour'])['payprice'].sum()}).reset_index(drop=True)/1000) # Total Pay/Cost\n",
    "train_by_hour['CPM'] = train_by_hour['cost']*1000/train_by_hour['impressions'] # Cost per-mille (Cost per Thousand Impressions)\n",
    "train_by_hour['eCPC'] = train_by_hour['cost']/train_by_hour['clicks'] # Effective Cost-per-Click\n",
    "\n",
    "## ANALYSIS OF SUCCESSFUL CLICKS\n",
    "train_only_clicks = train[train['click'] == 1]\n",
    "train_only_clicks.groupby('weekday').size()\n",
    "train_only_clicks.groupby('hour').size()\n",
    "train_only_clicks.groupby('advertiser').size()\n",
    "train_only_clicks.groupby('weekday').size()"
   ]
  },
  {
   "cell_type": "code",
   "execution_count": 23,
   "metadata": {},
   "outputs": [
    {
     "data": {
      "text/html": [
       "<div>\n",
       "<style>\n",
       "    .dataframe thead tr:only-child th {\n",
       "        text-align: right;\n",
       "    }\n",
       "\n",
       "    .dataframe thead th {\n",
       "        text-align: left;\n",
       "    }\n",
       "\n",
       "    .dataframe tbody tr th {\n",
       "        vertical-align: top;\n",
       "    }\n",
       "</style>\n",
       "<table border=\"1\" class=\"dataframe\">\n",
       "  <thead>\n",
       "    <tr style=\"text-align: right;\">\n",
       "      <th></th>\n",
       "      <th>advertiser</th>\n",
       "      <th>impressions</th>\n",
       "      <th>clicks</th>\n",
       "      <th>CTR</th>\n",
       "      <th>cost</th>\n",
       "      <th>CPM</th>\n",
       "      <th>eCPC</th>\n",
       "    </tr>\n",
       "  </thead>\n",
       "  <tbody>\n",
       "    <tr>\n",
       "      <th>0</th>\n",
       "      <td>1458</td>\n",
       "      <td>492353</td>\n",
       "      <td>385</td>\n",
       "      <td>0.078196</td>\n",
       "      <td>33968.736</td>\n",
       "      <td>68.992646</td>\n",
       "      <td>88.230483</td>\n",
       "    </tr>\n",
       "    <tr>\n",
       "      <th>1</th>\n",
       "      <td>2259</td>\n",
       "      <td>133673</td>\n",
       "      <td>43</td>\n",
       "      <td>0.032168</td>\n",
       "      <td>12428.238</td>\n",
       "      <td>92.974931</td>\n",
       "      <td>289.028791</td>\n",
       "    </tr>\n",
       "    <tr>\n",
       "      <th>2</th>\n",
       "      <td>2261</td>\n",
       "      <td>110122</td>\n",
       "      <td>36</td>\n",
       "      <td>0.032691</td>\n",
       "      <td>9873.779</td>\n",
       "      <td>89.662184</td>\n",
       "      <td>274.271639</td>\n",
       "    </tr>\n",
       "    <tr>\n",
       "      <th>3</th>\n",
       "      <td>2821</td>\n",
       "      <td>211366</td>\n",
       "      <td>131</td>\n",
       "      <td>0.061978</td>\n",
       "      <td>18828.044</td>\n",
       "      <td>89.077922</td>\n",
       "      <td>143.725527</td>\n",
       "    </tr>\n",
       "    <tr>\n",
       "      <th>4</th>\n",
       "      <td>2997</td>\n",
       "      <td>49829</td>\n",
       "      <td>217</td>\n",
       "      <td>0.435489</td>\n",
       "      <td>3129.267</td>\n",
       "      <td>62.800116</td>\n",
       "      <td>14.420585</td>\n",
       "    </tr>\n",
       "    <tr>\n",
       "      <th>5</th>\n",
       "      <td>3358</td>\n",
       "      <td>264956</td>\n",
       "      <td>202</td>\n",
       "      <td>0.076239</td>\n",
       "      <td>22447.231</td>\n",
       "      <td>84.720599</td>\n",
       "      <td>111.124906</td>\n",
       "    </tr>\n",
       "    <tr>\n",
       "      <th>6</th>\n",
       "      <td>3386</td>\n",
       "      <td>455041</td>\n",
       "      <td>320</td>\n",
       "      <td>0.070323</td>\n",
       "      <td>34931.823</td>\n",
       "      <td>76.766320</td>\n",
       "      <td>109.161947</td>\n",
       "    </tr>\n",
       "    <tr>\n",
       "      <th>7</th>\n",
       "      <td>3427</td>\n",
       "      <td>402806</td>\n",
       "      <td>272</td>\n",
       "      <td>0.067526</td>\n",
       "      <td>30458.711</td>\n",
       "      <td>75.616329</td>\n",
       "      <td>111.980555</td>\n",
       "    </tr>\n",
       "    <tr>\n",
       "      <th>8</th>\n",
       "      <td>3476</td>\n",
       "      <td>310835</td>\n",
       "      <td>187</td>\n",
       "      <td>0.060161</td>\n",
       "      <td>23918.779</td>\n",
       "      <td>76.950083</td>\n",
       "      <td>127.907909</td>\n",
       "    </tr>\n",
       "  </tbody>\n",
       "</table>\n",
       "</div>"
      ],
      "text/plain": [
       "   advertiser  impressions  clicks       CTR       cost        CPM        eCPC\n",
       "0        1458       492353     385  0.078196  33968.736  68.992646   88.230483\n",
       "1        2259       133673      43  0.032168  12428.238  92.974931  289.028791\n",
       "2        2261       110122      36  0.032691   9873.779  89.662184  274.271639\n",
       "3        2821       211366     131  0.061978  18828.044  89.077922  143.725527\n",
       "4        2997        49829     217  0.435489   3129.267  62.800116   14.420585\n",
       "5        3358       264956     202  0.076239  22447.231  84.720599  111.124906\n",
       "6        3386       455041     320  0.070323  34931.823  76.766320  109.161947\n",
       "7        3427       402806     272  0.067526  30458.711  75.616329  111.980555\n",
       "8        3476       310835     187  0.060161  23918.779  76.950083  127.907909"
      ]
     },
     "execution_count": 23,
     "metadata": {},
     "output_type": "execute_result"
    }
   ],
   "source": [
    "train_by_advertiser"
   ]
  },
  {
   "cell_type": "code",
   "execution_count": 24,
   "metadata": {
    "scrolled": true
   },
   "outputs": [
    {
     "data": {
      "text/html": [
       "<div>\n",
       "<style>\n",
       "    .dataframe thead tr:only-child th {\n",
       "        text-align: right;\n",
       "    }\n",
       "\n",
       "    .dataframe thead th {\n",
       "        text-align: left;\n",
       "    }\n",
       "\n",
       "    .dataframe tbody tr th {\n",
       "        vertical-align: top;\n",
       "    }\n",
       "</style>\n",
       "<table border=\"1\" class=\"dataframe\">\n",
       "  <thead>\n",
       "    <tr style=\"text-align: right;\">\n",
       "      <th></th>\n",
       "      <th>weekday</th>\n",
       "      <th>impressions</th>\n",
       "      <th>clicks</th>\n",
       "      <th>CTR</th>\n",
       "      <th>cost</th>\n",
       "      <th>CPM</th>\n",
       "      <th>eCPC</th>\n",
       "    </tr>\n",
       "  </thead>\n",
       "  <tbody>\n",
       "    <tr>\n",
       "      <th>0</th>\n",
       "      <td>0</td>\n",
       "      <td>420955</td>\n",
       "      <td>271</td>\n",
       "      <td>0.064377</td>\n",
       "      <td>32204.115</td>\n",
       "      <td>76.502512</td>\n",
       "      <td>118.834373</td>\n",
       "    </tr>\n",
       "    <tr>\n",
       "      <th>1</th>\n",
       "      <td>1</td>\n",
       "      <td>368164</td>\n",
       "      <td>249</td>\n",
       "      <td>0.067633</td>\n",
       "      <td>30284.921</td>\n",
       "      <td>82.259322</td>\n",
       "      <td>121.626189</td>\n",
       "    </tr>\n",
       "    <tr>\n",
       "      <th>2</th>\n",
       "      <td>2</td>\n",
       "      <td>296438</td>\n",
       "      <td>286</td>\n",
       "      <td>0.096479</td>\n",
       "      <td>23727.961</td>\n",
       "      <td>80.043588</td>\n",
       "      <td>82.964899</td>\n",
       "    </tr>\n",
       "    <tr>\n",
       "      <th>3</th>\n",
       "      <td>3</td>\n",
       "      <td>339627</td>\n",
       "      <td>283</td>\n",
       "      <td>0.083327</td>\n",
       "      <td>25993.847</td>\n",
       "      <td>76.536456</td>\n",
       "      <td>91.851049</td>\n",
       "    </tr>\n",
       "    <tr>\n",
       "      <th>4</th>\n",
       "      <td>4</td>\n",
       "      <td>326018</td>\n",
       "      <td>264</td>\n",
       "      <td>0.080977</td>\n",
       "      <td>25317.709</td>\n",
       "      <td>77.657396</td>\n",
       "      <td>95.900413</td>\n",
       "    </tr>\n",
       "    <tr>\n",
       "      <th>5</th>\n",
       "      <td>5</td>\n",
       "      <td>340642</td>\n",
       "      <td>247</td>\n",
       "      <td>0.072510</td>\n",
       "      <td>27183.974</td>\n",
       "      <td>79.802179</td>\n",
       "      <td>110.056575</td>\n",
       "    </tr>\n",
       "    <tr>\n",
       "      <th>6</th>\n",
       "      <td>6</td>\n",
       "      <td>339137</td>\n",
       "      <td>193</td>\n",
       "      <td>0.056909</td>\n",
       "      <td>25272.081</td>\n",
       "      <td>74.518796</td>\n",
       "      <td>130.943425</td>\n",
       "    </tr>\n",
       "  </tbody>\n",
       "</table>\n",
       "</div>"
      ],
      "text/plain": [
       "   weekday  impressions  clicks       CTR       cost        CPM        eCPC\n",
       "0        0       420955     271  0.064377  32204.115  76.502512  118.834373\n",
       "1        1       368164     249  0.067633  30284.921  82.259322  121.626189\n",
       "2        2       296438     286  0.096479  23727.961  80.043588   82.964899\n",
       "3        3       339627     283  0.083327  25993.847  76.536456   91.851049\n",
       "4        4       326018     264  0.080977  25317.709  77.657396   95.900413\n",
       "5        5       340642     247  0.072510  27183.974  79.802179  110.056575\n",
       "6        6       339137     193  0.056909  25272.081  74.518796  130.943425"
      ]
     },
     "execution_count": 24,
     "metadata": {},
     "output_type": "execute_result"
    }
   ],
   "source": [
    "train_by_weekday"
   ]
  },
  {
   "cell_type": "code",
   "execution_count": null,
   "metadata": {
    "collapsed": true
   },
   "outputs": [],
   "source": []
  },
  {
   "cell_type": "markdown",
   "metadata": {},
   "source": [
    "## To do list (^: already down, @: currently focused)\n",
    "- ^ weekday\n",
    "- ^ hour\n",
    "- ^ bidid    (should be dropped)\n",
    "- ^ userid (should be dropped)\n",
    "- ^ useragent\n",
    "- ^ IP (long-tail)\n",
    "- ^ region\n",
    "- ^ city\n",
    "- ^ adexchange\n",
    "- ^ domain (long-tail)\n",
    "- ^ url (long-tail)\n",
    "- ^ urlid (should be dropped)\n",
    "- ^ slotid (long-tail)\n",
    "- ^ slotwidth\n",
    "- ^ slotheight\n",
    "- ^ slotvisibility\n",
    "- ^ slotformat (contains 'Na')\n",
    "- ^ slotprice\n",
    "- ^ creative\n",
    "- ^ keypage (contains 'null')\n",
    "- ^ advertiser\n",
    "- ^ usertag (list of values, long-tail, contains 'null')"
   ]
  },
  {
   "cell_type": "markdown",
   "metadata": {},
   "source": [
    "## ordinal (discrete) variables"
   ]
  },
  {
   "cell_type": "code",
   "execution_count": 9,
   "metadata": {
    "collapsed": true
   },
   "outputs": [],
   "source": [
    "def investigate(data, log=False, ord=False):\n",
    "  feat_with_missing = data\n",
    "#   feat = feat_with_missing.where(feat_with_missing != -1).dropna()\n",
    "  feat = feat_with_missing\n",
    "\n",
    "  print('number of items (include -1): {}'.format(len(feat_with_missing)))\n",
    "  print('number of unique values (include -1): {}'.format(feat_with_missing.nunique()))\n",
    "#   print('number of missing values: {}'.format(len(feat_with_missing) - len(feat)))\n",
    "  print('min: {}'.format(min(feat)))\n",
    "  print('max: {}'.format(max(feat)))\n",
    "  \n",
    "  # plot histogram\n",
    "  fig = plt.figure()\n",
    "  ax = plt.gca()\n",
    "  bins = 20\n",
    "  if ord:\n",
    "    bins = int(max(feat) - min(feat) + 1) * 2\n",
    "#     print('number of bins: {}'.format(bins))\n",
    "  ax.hist(feat, bins=bins, alpha=0.8)\n",
    "  if log:\n",
    "    ax.set_yscale('log')\n",
    "  \n",
    "  \n",
    "  "
   ]
  },
  {
   "cell_type": "code",
   "execution_count": 126,
   "metadata": {},
   "outputs": [
    {
     "name": "stdout",
     "output_type": "stream",
     "text": [
      "number of items (include -1): 3038281\n",
      "number of unique values (include -1): 21\n",
      "min: 120\n",
      "max: 1000\n"
     ]
    },
    {
     "data": {
      "image/png": "[encoded data removed]",
      "text/plain": [
       "<matplotlib.figure.Figure at 0x163b5dbe0>"
      ]
     },
     "metadata": {},
     "output_type": "display_data"
    }
   ],
   "source": [
    "investigate(data['slotwidth'])"
   ]
  },
  {
   "cell_type": "code",
   "execution_count": 128,
   "metadata": {
    "scrolled": true
   },
   "outputs": [
    {
     "name": "stdout",
     "output_type": "stream",
     "text": [
      "number of items (include -1): 3038281\n",
      "number of unique values (include -1): 14\n",
      "min: 50\n",
      "max: 600\n"
     ]
    },
    {
     "data": {
      "image/png": "[encoded data removed]",
      "text/plain": [
       "<matplotlib.figure.Figure at 0x109358ac8>"
      ]
     },
     "metadata": {},
     "output_type": "display_data"
    }
   ],
   "source": [
    "investigate(data['slotheight'])"
   ]
  },
  {
   "cell_type": "code",
   "execution_count": 131,
   "metadata": {},
   "outputs": [
    {
     "data": {
      "text/plain": [
       "[('0', 1257302),\n",
       " ('2', 796316),\n",
       " ('1', 331312),\n",
       " ('Na', 218864),\n",
       " ('FirstView', 177364),\n",
       " ('OtherView', 148977),\n",
       " ('SecondView', 38896),\n",
       " ('ThirdView', 23231),\n",
       " ('FourthView', 22697),\n",
       " ('255', 22058),\n",
       " ('FifthView', 1264)]"
      ]
     },
     "execution_count": 131,
     "metadata": {},
     "output_type": "execute_result"
    }
   ],
   "source": [
    "# further preprocessing could be helpful\n",
    "Counter(data['slotvisibility']).most_common()"
   ]
  },
  {
   "cell_type": "code",
   "execution_count": 14,
   "metadata": {
    "scrolled": true
   },
   "outputs": [
    {
     "name": "stdout",
     "output_type": "stream",
     "text": [
      "number of items (include -1): 3038281\n",
      "number of unique values (include -1): 287\n",
      "min: 0\n",
      "max: 300\n"
     ]
    },
    {
     "data": {
      "image/png": "[encoded data removed]",
      "text/plain": [
       "<matplotlib.figure.Figure at 0x1923c09b0>"
      ]
     },
     "metadata": {},
     "output_type": "display_data"
    }
   ],
   "source": [
    "investigate(data['slotprice'])"
   ]
  },
  {
   "cell_type": "code",
   "execution_count": 22,
   "metadata": {},
   "outputs": [
    {
     "data": {
      "text/plain": [
       "(array([957499.,      0.,  61265., 710413.,  59015., 220865., 385159.,\n",
       "        544223.,  68343.,  31499.]),\n",
       " array([0.        , 0.57071103, 1.14142205, 1.71213308, 2.28284411,\n",
       "        2.85355513, 3.42426616, 3.99497719, 4.56568821, 5.13639924,\n",
       "        5.70711026]),\n",
       " <a list of 10 Patch objects>)"
      ]
     },
     "execution_count": 22,
     "metadata": {},
     "output_type": "execute_result"
    },
    {
     "data": {
      "image/png": "[encoded data removed]",
      "text/plain": [
       "<matplotlib.figure.Figure at 0x13b2f6630>"
      ]
     },
     "metadata": {},
     "output_type": "display_data"
    }
   ],
   "source": [
    "plt.hist(np.log(data.slotprice + 1))"
   ]
  },
  {
   "cell_type": "markdown",
   "metadata": {},
   "source": [
    "## non-ordinal (discrete) variables"
   ]
  },
  {
   "cell_type": "code",
   "execution_count": 76,
   "metadata": {
    "collapsed": true
   },
   "outputs": [],
   "source": [
    "def inv_non_ord_feat(data, log_log=False, x_log=False, y_log=False):\n",
    "  \"\"\"\n",
    "  x\n",
    "  \"\"\"\n",
    "  feat_with_missing = data\n",
    "  feat = feat_with_missing\n",
    "#   feat = feat_with_missing.where(feat_with_missing != -1).dropna()\n",
    "\n",
    "  print('number of items (include -1): {}'.format(len(feat_with_missing)))\n",
    "  print('number of unique values (include -1): {}'.format(feat_with_missing.nunique()))\n",
    "#   print('number of missing values: {}'.format(len(feat_with_missing) - len(feat)))\n",
    "  \n",
    "  count = collections.Counter(feat)\n",
    "  count_distb = collections.Counter(count.values())\n",
    "    \n",
    "  print('most frequent 5 values:')\n",
    "  for k_v in count.most_common()[:5]:\n",
    "        print(k_v)\n",
    "  \n",
    "  fig = plt.figure()\n",
    "  ax = plt.gca()\n",
    "  ax.scatter(count_distb.keys(), count_distb.values(), alpha=0.4)\n",
    "  plt.xlabel('number of occurence for the value')\n",
    "  plt.ylabel('number of such value')\n",
    "  \n",
    "  if log_log:\n",
    "    ax.set_xscale('log')\n",
    "    ax.set_yscale('log')\n",
    "  \n",
    "  if x_log:\n",
    "    ax.set_xscale('log')\n",
    "    \n",
    "  if y_log:\n",
    "    ax.set_yscale('log')\n",
    "    \n",
    "  return count.most_common()\n",
    "   "
   ]
  },
  {
   "cell_type": "markdown",
   "metadata": {},
   "source": [
    "### basic non-ordinal feauture"
   ]
  },
  {
   "cell_type": "code",
   "execution_count": 101,
   "metadata": {},
   "outputs": [
    {
     "name": "stdout",
     "output_type": "stream",
     "text": [
      "number of items (include -1): 3038281\n",
      "number of unique values (include -1): 7\n",
      "min: 0\n",
      "max: 6\n"
     ]
    },
    {
     "data": {
      "image/png": "[encoded data removed]",
      "text/plain": [
       "<matplotlib.figure.Figure at 0x12eaaa470>"
      ]
     },
     "metadata": {},
     "output_type": "display_data"
    }
   ],
   "source": [
    "# plt.figure()\n",
    "# plt.hist(data['weekday'], ord=True)\n",
    "\n",
    "investigate(data['weekday'], ord=True)"
   ]
  },
  {
   "cell_type": "code",
   "execution_count": 102,
   "metadata": {
    "scrolled": false
   },
   "outputs": [
    {
     "name": "stdout",
     "output_type": "stream",
     "text": [
      "number of items (include -1): 3038281\n",
      "number of unique values (include -1): 24\n",
      "min: 0\n",
      "max: 23\n"
     ]
    },
    {
     "data": {
      "image/png": "[encoded data removed]",
      "text/plain": [
       "<matplotlib.figure.Figure at 0x164393cc0>"
      ]
     },
     "metadata": {},
     "output_type": "display_data"
    }
   ],
   "source": [
    "investigate(data['hour'], ord=True)"
   ]
  },
  {
   "cell_type": "code",
   "execution_count": 104,
   "metadata": {
    "scrolled": true
   },
   "outputs": [
    {
     "name": "stdout",
     "output_type": "stream",
     "text": [
      "number of items (include -1): 3038281\n",
      "number of unique values (include -1): 38\n",
      "most frequent 5 values:\n",
      "('windows_ie', 1826592)\n",
      "('windows_chrome', 993230)\n",
      "('android_safari', 76832)\n",
      "('mac_safari', 46796)\n",
      "('windows_firefox', 28005)\n"
     ]
    },
    {
     "data": {
      "image/png": "[encoded data removed]",
      "text/plain": [
       "<matplotlib.figure.Figure at 0x13c7cc860>"
      ]
     },
     "metadata": {},
     "output_type": "display_data"
    }
   ],
   "source": [
    "inv_non_ord_feat(data['useragent'], x_log=True)\n",
    "# data['useragent'].head()"
   ]
  },
  {
   "cell_type": "code",
   "execution_count": 117,
   "metadata": {
    "scrolled": true
   },
   "outputs": [
    {
     "name": "stdout",
     "output_type": "stream",
     "text": [
      "number of items (include -1): 3038281\n",
      "number of unique values (include -1): 35\n",
      "most frequent 5 values:\n",
      "(216, 509590)\n",
      "(80, 229889)\n",
      "(146, 200336)\n",
      "(94, 167398)\n",
      "(276, 156933)\n"
     ]
    },
    {
     "data": {
      "image/png": "[encoded data removed]",
      "text/plain": [
       "<matplotlib.figure.Figure at 0x12ea33828>"
      ]
     },
     "metadata": {},
     "output_type": "display_data"
    }
   ],
   "source": [
    "inv_non_ord_feat(data['region'], x_log=True)\n"
   ]
  },
  {
   "cell_type": "code",
   "execution_count": 121,
   "metadata": {
    "scrolled": true
   },
   "outputs": [
    {
     "name": "stdout",
     "output_type": "stream",
     "text": [
      "number of items (include -1): 3038281\n",
      "number of unique values (include -1): 370\n",
      "most frequent 5 values:\n",
      "(219, 136422)\n",
      "(1, 127959)\n",
      "(217, 119018)\n",
      "(79, 79465)\n",
      "(275, 66603)\n"
     ]
    },
    {
     "data": {
      "image/png": "[encoded data removed]",
      "text/plain": [
       "<matplotlib.figure.Figure at 0x12eaaa438>"
      ]
     },
     "metadata": {},
     "output_type": "display_data"
    }
   ],
   "source": [
    "inv_non_ord_feat(data['city'])\n"
   ]
  },
  {
   "cell_type": "code",
   "execution_count": 136,
   "metadata": {},
   "outputs": [
    {
     "name": "stdout",
     "output_type": "stream",
     "text": [
      "number of items (include -1): 3038281\n",
      "number of unique values (include -1): 131\n",
      "most frequent 5 values:\n",
      "('44966cc8da1ed40c95d59e863c8c75f0', 184392)\n",
      "('832b91d59d0cb5731431653204a76c0e', 166599)\n",
      "('86c2543527c86a893d4d4f68810a0416', 157631)\n",
      "('48f2e9ba15708c0146bda5e1dd653caa', 134369)\n",
      "('77819d3e0b3467fe5c7b16d68ad923a1', 133164)\n"
     ]
    },
    {
     "data": {
      "image/png": "[encoded data removed]",
      "text/plain": [
       "<matplotlib.figure.Figure at 0x13c385a58>"
      ]
     },
     "metadata": {},
     "output_type": "display_data"
    }
   ],
   "source": [
    "inv_non_ord_feat(data['creative'])"
   ]
  },
  {
   "cell_type": "code",
   "execution_count": 116,
   "metadata": {},
   "outputs": [
    {
     "data": {
      "text/plain": [
       "[('3', 1024855), ('2', 953777), ('1', 897664), ('4', 99806), ('null', 62179)]"
      ]
     },
     "execution_count": 116,
     "metadata": {},
     "output_type": "execute_result"
    }
   ],
   "source": [
    "Counter(data['adexchange']).most_common()"
   ]
  },
  {
   "cell_type": "code",
   "execution_count": 123,
   "metadata": {
    "scrolled": true
   },
   "outputs": [
    {
     "data": {
      "text/plain": [
       "[('null', 631293),\n",
       " ('bebefa5efe83beee17a3d245e7c5085b', 615952),\n",
       " ('d29e59bf0f7f8243858b8183f14d4412', 330995),\n",
       " ('361e128affece850342293213691a043', 321183),\n",
       " ('0f951a030abdaedd733ee8d114ce2944', 285221),\n",
       " ('43f4a37f42a7c5e6219e2601b26c6976', 247036),\n",
       " ('b2e35064f3549d447edbbdfb1f707c8c', 206233),\n",
       " ('a5d0bde104fea52ea466c77b37948424', 121359),\n",
       " ('c8758e8658b05bc3a88af7b37bdf0575', 94313),\n",
       " ('f4a09c06b67d0fcce088ee6e86ca052a', 52235),\n",
       " ('9be83422522025c09a44593ecd1af8ca', 39837),\n",
       " ('15b749127478946f161a54dc0dad27c8', 20180),\n",
       " ('a3becb967c015e9acb5e72f22b100ef8', 19980),\n",
       " ('d4fc4aa65f6670f7fea6862f27084fbc', 12485),\n",
       " ('7e0e909ea89f707bc20f9585c9072081', 12050),\n",
       " ('d41d8cd98f00b204e9800998ecf8427e', 11339),\n",
       " ('aa4976c67db0f076c563a29f6697928b', 11229),\n",
       " ('a8f8eeaae5c1e2e9924328e78d9925a5', 2703),\n",
       " ('4f8e1c55abc204c2c8f1296dbc223af3', 2658)]"
      ]
     },
     "execution_count": 123,
     "metadata": {},
     "output_type": "execute_result"
    }
   ],
   "source": [
    "Counter(data['keypage']).most_common()"
   ]
  },
  {
   "cell_type": "code",
   "execution_count": 124,
   "metadata": {
    "scrolled": true
   },
   "outputs": [
    {
     "data": {
      "text/plain": [
       "[(1458, 615952),\n",
       " (3386, 568219),\n",
       " (3427, 502793),\n",
       " (3476, 389029),\n",
       " (3358, 330995),\n",
       " (2821, 264239),\n",
       " (2259, 167270),\n",
       " (2261, 137605),\n",
       " (2997, 62179)]"
      ]
     },
     "execution_count": 124,
     "metadata": {},
     "output_type": "execute_result"
    }
   ],
   "source": [
    "Counter(data['advertiser']).most_common()"
   ]
  },
  {
   "cell_type": "code",
   "execution_count": 125,
   "metadata": {},
   "outputs": [
    {
     "data": {
      "text/plain": [
       "[('0', 1664009), ('1', 728009), ('Na', 631293), ('5', 14970)]"
      ]
     },
     "execution_count": 125,
     "metadata": {},
     "output_type": "execute_result"
    }
   ],
   "source": [
    "Counter(data['slotformat']).most_common()"
   ]
  },
  {
   "cell_type": "markdown",
   "metadata": {},
   "source": [
    "### non-ordinal feauture with lots of possible values\n",
    "- solution 1: set values with occurences < 50 as the same"
   ]
  },
  {
   "cell_type": "code",
   "execution_count": 84,
   "metadata": {
    "collapsed": true
   },
   "outputs": [],
   "source": [
    "# bidid_count = inv_non_ord_feat(data['bidid'])"
   ]
  },
  {
   "cell_type": "code",
   "execution_count": 85,
   "metadata": {
    "collapsed": true
   },
   "outputs": [],
   "source": [
    "# userid_count = inv_non_ord_feat(data['userid'])"
   ]
  },
  {
   "cell_type": "code",
   "execution_count": 79,
   "metadata": {
    "scrolled": true
   },
   "outputs": [
    {
     "name": "stdout",
     "output_type": "stream",
     "text": [
      "number of items (include -1): 3038281\n",
      "number of unique values (include -1): 528935\n",
      "most frequent 5 values:\n",
      "('113.106.102.*', 4290)\n",
      "('118.122.85.*', 3122)\n",
      "('58.254.168.*', 2836)\n",
      "('210.38.1.*', 2639)\n",
      "('125.39.238.*', 2456)\n"
     ]
    },
    {
     "data": {
      "image/png": "[encoded data removed]",
      "text/plain": [
       "<matplotlib.figure.Figure at 0x1096f32b0>"
      ]
     },
     "metadata": {},
     "output_type": "display_data"
    }
   ],
   "source": [
    "IP_count = inv_non_ord_feat(data['IP'], log_log=True)"
   ]
  },
  {
   "cell_type": "code",
   "execution_count": 80,
   "metadata": {
    "scrolled": true
   },
   "outputs": [
    {
     "name": "stdout",
     "output_type": "stream",
     "text": [
      "number of items (include -1): 3038281\n",
      "number of unique values (include -1): 25321\n",
      "most frequent 5 values:\n",
      "('5F1RQS9rg5scFsf', 241041)\n",
      "('31xSTvprdN1RFt', 172292)\n",
      "('null', 171116)\n",
      "('ersbQv1RdoTy1m58uG', 101060)\n",
      "('trqRTuMvjTN7X9KbuKz', 93646)\n"
     ]
    },
    {
     "data": {
      "image/png": "[encoded data removed]",
      "text/plain": [
       "<matplotlib.figure.Figure at 0x108cd7e80>"
      ]
     },
     "metadata": {},
     "output_type": "display_data"
    }
   ],
   "source": [
    "domain_count = inv_non_ord_feat(data['domain'], log_log=True)"
   ]
  },
  {
   "cell_type": "code",
   "execution_count": 81,
   "metadata": {
    "scrolled": true
   },
   "outputs": [
    {
     "name": "stdout",
     "output_type": "stream",
     "text": [
      "number of items (include -1): 3038281\n",
      "number of unique values (include -1): 914883\n",
      "most frequent 5 values:\n",
      "('null', 108365)\n",
      "('bfa000ed663f4997db218d6da6b1510f', 26576)\n",
      "('b9b27f86cd5409b505b66e27470765af', 25812)\n",
      "('dedc488b98ca20707bc9a723957e7d1f', 21526)\n",
      "('8dd142fa4bc566aa470b4c63e3da3d68', 18199)\n"
     ]
    },
    {
     "data": {
      "image/png": "[encoded data removed]",
      "text/plain": [
       "<matplotlib.figure.Figure at 0x1500010b8>"
      ]
     },
     "metadata": {},
     "output_type": "display_data"
    }
   ],
   "source": [
    "url_count = inv_non_ord_feat(data['url'], log_log=True)"
   ]
  },
  {
   "cell_type": "code",
   "execution_count": 82,
   "metadata": {},
   "outputs": [
    {
     "name": "stdout",
     "output_type": "stream",
     "text": [
      "number of items (include -1): 3038281\n",
      "number of unique values (include -1): 60098\n",
      "most frequent 5 values:\n",
      "('ALLINONE_F_Width1', 275579)\n",
      "('News_F_Width1', 118222)\n",
      "('mm_10024662_3445902_11178345', 83399)\n",
      "('ALLINONE_F_Width2', 75409)\n",
      "('1', 53693)\n"
     ]
    },
    {
     "data": {
      "image/png": "[encoded data removed]",
      "text/plain": [
       "<matplotlib.figure.Figure at 0x128fdec18>"
      ]
     },
     "metadata": {},
     "output_type": "display_data"
    }
   ],
   "source": [
    "inv_non_ord_feat(data['slotid'], log_log=True)"
   ]
  },
  {
   "cell_type": "code",
   "execution_count": 83,
   "metadata": {
    "scrolled": true
   },
   "outputs": [
    {
     "name": "stdout",
     "output_type": "stream",
     "text": [
      "number of items (include -1): 3038281\n",
      "number of unique values (include -1): 903635\n",
      "most frequent 5 values:\n",
      "('null', 621679)\n",
      "('10063', 112482)\n",
      "('10006,10110', 65233)\n",
      "('10006', 46984)\n",
      "('13866', 33394)\n"
     ]
    },
    {
     "data": {
      "image/png": "[encoded data removed]",
      "text/plain": [
       "<matplotlib.figure.Figure at 0x1248cd978>"
      ]
     },
     "metadata": {},
     "output_type": "display_data"
    }
   ],
   "source": [
    "inv_non_ord_feat(data['usertag'], log_log=True)"
   ]
  },
  {
   "cell_type": "code",
   "execution_count": 7,
   "metadata": {},
   "outputs": [
    {
     "data": {
      "text/plain": [
       "0                                               null\n",
       "1                                               null\n",
       "2                            10052,10006,13866,10110\n",
       "3                                  13866,10063,10111\n",
       "4                                               null\n",
       "5                      10006,10077,10063,10057,10110\n",
       "6    10083,10024,10063,13496,10093,10006,10057,10110\n",
       "7                10063,10024,13800,13866,10006,10111\n",
       "8                            10063,10006,10083,10110\n",
       "9    13403,10031,10063,10083,10006,10077,10075,10110\n",
       "Name: usertag, dtype: object"
      ]
     },
     "execution_count": 7,
     "metadata": {},
     "output_type": "execute_result"
    }
   ],
   "source": [
    "data['usertag'].iloc[:10]"
   ]
  },
  {
   "cell_type": "markdown",
   "metadata": {},
   "source": [
    "### non-ordinal feauture with limited possible values"
   ]
  },
  {
   "cell_type": "code",
   "execution_count": null,
   "metadata": {
    "collapsed": true
   },
   "outputs": [],
   "source": []
  }
 ],
 "metadata": {
  "kernelspec": {
   "display_name": "Python 3",
   "language": "python",
   "name": "python3"
  },
  "language_info": {
   "codemirror_mode": {
    "name": "ipython",
    "version": 3
   },
   "file_extension": ".py",
   "mimetype": "text/x-python",
   "name": "python",
   "nbconvert_exporter": "python",
   "pygments_lexer": "ipython3",
   "version": "3.6.3"
  }
 },
 "nbformat": 4,
 "nbformat_minor": 2
}
