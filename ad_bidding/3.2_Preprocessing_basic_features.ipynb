{
 "cells": [
  {
   "cell_type": "markdown",
   "metadata": {},
   "source": [
    "Ref: http://breezedeus.github.io/2014/11/15/breezedeus-feature-processing.html"
   ]
  },
  {
   "cell_type": "code",
   "execution_count": 1,
   "metadata": {
    "collapsed": true
   },
   "outputs": [],
   "source": [
    "import pandas as pd\n",
    "import numpy as np\n",
    "import collections\n",
    "import random\n",
    "from collections import Counter\n",
    "\n",
    "import matplotlib.pyplot as plt\n",
    "\n",
    "from sklearn.ensemble import RandomForestClassifier\n",
    "%matplotlib inline"
   ]
  },
  {
   "cell_type": "code",
   "execution_count": 2,
   "metadata": {
    "collapsed": true
   },
   "outputs": [],
   "source": [
    "train = pd.read_csv('./data/train.csv')\n",
    "valid = pd.read_csv('./data/validation.csv')\n",
    "test  = pd.read_csv('./data/test.csv')"
   ]
  },
  {
   "cell_type": "code",
   "execution_count": 3,
   "metadata": {},
   "outputs": [
    {
     "data": {
      "text/plain": [
       "(3038281, 22)"
      ]
     },
     "execution_count": 3,
     "metadata": {},
     "output_type": "execute_result"
    }
   ],
   "source": [
    "t = train.drop(['bidprice','click','payprice'], axis=1)\n",
    "v = valid.drop(['bidprice','click','payprice'], axis=1)\n",
    "\n",
    "data = pd.concat([t, v, test], axis=0)\n",
    "data.shape"
   ]
  },
  {
   "cell_type": "markdown",
   "metadata": {},
   "source": [
    "## To do list (^: already down, @: currently focused, &: currently skipped)\n",
    "- ^ weekday\n",
    "- ^ hour\n",
    "- ^ bidid\n",
    "- ^ userid\n",
    "- ^ useragent\n",
    "- & IP [list of values]\n",
    "- ^ region\n",
    "- ^ city\n",
    "- ^ adexchange\n",
    "- & domain\n",
    "- & url\n",
    "- ^ urlid\n",
    "- & slotid\n",
    "- ^ slotwidth\n",
    "- ^ slotheight\n",
    "- ^ slotvisibility\n",
    "- ^ slotformat\n",
    "- ^ slotprice\n",
    "- ^ creative\n",
    "- ^ keypage\n",
    "- ^ advertiser\n",
    "- & usertag (list of values)\n",
    "\n",
    "## Others\n",
    "- deal with missing values\n",
    "- remove less frequent basic non-ordinal feature values"
   ]
  },
  {
   "cell_type": "markdown",
   "metadata": {},
   "source": [
    "### Questions\n",
    "- how to deal with categorical variable with a list of values ?"
   ]
  },
  {
   "cell_type": "markdown",
   "metadata": {},
   "source": [
    "### drop useless features"
   ]
  },
  {
   "cell_type": "code",
   "execution_count": 4,
   "metadata": {
    "collapsed": true
   },
   "outputs": [],
   "source": [
    "# \n",
    "data = data.drop(['bidid', 'userid', 'urlid'], axis=1)"
   ]
  },
  {
   "cell_type": "markdown",
   "metadata": {},
   "source": [
    "## deal with ordinal features"
   ]
  },
  {
   "cell_type": "code",
   "execution_count": 5,
   "metadata": {
    "collapsed": true
   },
   "outputs": [],
   "source": [
    "ordinal = ['slotwidth', 'slotheight', 'slotvisibility', 'slotprice']"
   ]
  },
  {
   "cell_type": "code",
   "execution_count": 6,
   "metadata": {},
   "outputs": [
    {
     "name": "stdout",
     "output_type": "stream",
     "text": [
      "CPU times: user 10.3 s, sys: 1.18 s, total: 11.5 s\n",
      "Wall time: 11.6 s\n"
     ]
    }
   ],
   "source": [
    "%%time\n",
    "# most basic treatment: take them as non-ordinal features\n",
    "ordinal_dm = pd.concat([pd.get_dummies(data[c]) for c in ordinal],\n",
    "                      axis=1, keys=ordinal)"
   ]
  },
  {
   "cell_type": "markdown",
   "metadata": {},
   "source": [
    "## deal with non-ordinal features"
   ]
  },
  {
   "cell_type": "code",
   "execution_count": 7,
   "metadata": {
    "collapsed": true
   },
   "outputs": [],
   "source": [
    "basic_non_ord = ['weekday', 'hour', 'useragent', \n",
    "                 'region','city', 'adexchange','slotformat',\n",
    "                 'creative','keypage','advertiser']"
   ]
  },
  {
   "cell_type": "code",
   "execution_count": 8,
   "metadata": {},
   "outputs": [
    {
     "name": "stdout",
     "output_type": "stream",
     "text": [
      "CPU times: user 19.6 s, sys: 2.71 s, total: 22.3 s\n",
      "Wall time: 22.7 s\n"
     ]
    }
   ],
   "source": [
    "%%time\n",
    "basic_non_ord_dm = pd.concat([pd.get_dummies(data[c]) for c in basic_non_ord],\n",
    "                            axis=1, keys=basic_non_ord)"
   ]
  },
  {
   "cell_type": "code",
   "execution_count": 291,
   "metadata": {
    "collapsed": true
   },
   "outputs": [
    {
     "name": "stdout",
     "output_type": "stream",
     "text": [
      "weekday\n",
      "0    0\n",
      "1    0\n",
      "2    0\n",
      "3    0\n",
      "4    0\n",
      "5    1\n",
      "6    0\n",
      "Name: 0, dtype: uint8\n",
      "hour\n",
      "0     0\n",
      "1     0\n",
      "2     0\n",
      "3     0\n",
      "4     0\n",
      "5     0\n",
      "6     0\n",
      "7     0\n",
      "8     0\n",
      "9     0\n",
      "10    0\n",
      "11    0\n",
      "12    0\n",
      "13    0\n",
      "14    0\n",
      "15    0\n",
      "16    0\n",
      "17    0\n",
      "18    0\n",
      "19    0\n",
      "20    0\n",
      "21    0\n",
      "22    1\n",
      "23    0\n",
      "Name: 0, dtype: uint8\n",
      "useragent\n",
      "android_chrome      0\n",
      "android_firefox     0\n",
      "android_ie          0\n",
      "android_maxthon     0\n",
      "android_opera       0\n",
      "android_other       0\n",
      "android_safari      0\n",
      "android_sogou       0\n",
      "ios_other           0\n",
      "ios_safari          0\n",
      "linux_chrome        0\n",
      "linux_firefox       0\n",
      "linux_ie            0\n",
      "linux_opera         0\n",
      "linux_other         0\n",
      "linux_safari        0\n",
      "mac_chrome          0\n",
      "mac_firefox         0\n",
      "mac_maxthon         0\n",
      "mac_opera           0\n",
      "mac_other           0\n",
      "mac_safari          0\n",
      "mac_sogou           0\n",
      "other_chrome        0\n",
      "other_firefox       0\n",
      "other_ie            0\n",
      "other_opera         0\n",
      "other_other         0\n",
      "other_safari        0\n",
      "windows_chrome      0\n",
      "windows_firefox     0\n",
      "windows_ie          1\n",
      "windows_maxthon     0\n",
      "windows_opera       0\n",
      "windows_other       0\n",
      "windows_safari      0\n",
      "windows_sogou       0\n",
      "windows_theworld    0\n",
      "Name: 0, dtype: uint8\n",
      "region\n",
      "0      0\n",
      "1      0\n",
      "2      1\n",
      "3      0\n",
      "15     0\n",
      "27     0\n",
      "40     0\n",
      "55     0\n",
      "65     0\n",
      "79     0\n",
      "80     0\n",
      "94     0\n",
      "106    0\n",
      "124    0\n",
      "134    0\n",
      "146    0\n",
      "164    0\n",
      "183    0\n",
      "201    0\n",
      "216    0\n",
      "238    0\n",
      "253    0\n",
      "275    0\n",
      "276    0\n",
      "298    0\n",
      "308    0\n",
      "325    0\n",
      "333    0\n",
      "344    0\n",
      "359    0\n",
      "368    0\n",
      "374    0\n",
      "393    0\n",
      "394    0\n",
      "395    0\n",
      "Name: 0, dtype: uint8\n",
      "city\n",
      "0      0\n",
      "1      0\n",
      "2      1\n",
      "3      0\n",
      "4      0\n",
      "5      0\n",
      "6      0\n",
      "7      0\n",
      "8      0\n",
      "9      0\n",
      "10     0\n",
      "11     0\n",
      "12     0\n",
      "13     0\n",
      "14     0\n",
      "15     0\n",
      "16     0\n",
      "17     0\n",
      "18     0\n",
      "19     0\n",
      "20     0\n",
      "21     0\n",
      "22     0\n",
      "23     0\n",
      "24     0\n",
      "25     0\n",
      "26     0\n",
      "27     0\n",
      "28     0\n",
      "29     0\n",
      "      ..\n",
      "366    0\n",
      "367    0\n",
      "368    0\n",
      "369    0\n",
      "370    0\n",
      "371    0\n",
      "372    0\n",
      "373    0\n",
      "374    0\n",
      "375    0\n",
      "376    0\n",
      "377    0\n",
      "378    0\n",
      "379    0\n",
      "380    0\n",
      "381    0\n",
      "382    0\n",
      "383    0\n",
      "384    0\n",
      "385    0\n",
      "386    0\n",
      "387    0\n",
      "388    0\n",
      "393    0\n",
      "394    0\n",
      "395    0\n",
      "396    0\n",
      "397    0\n",
      "398    0\n",
      "399    0\n",
      "Name: 0, Length: 370, dtype: uint8\n",
      "adexchange\n",
      "1       0\n",
      "2       1\n",
      "3       0\n",
      "4       0\n",
      "null    0\n",
      "Name: 0, dtype: uint8\n",
      "slotformat\n",
      "0     1\n",
      "1     0\n",
      "5     0\n",
      "Na    0\n",
      "Name: 0, dtype: uint8\n",
      "creative\n",
      "0055e8503dc053435b3599fe44af118b    0\n",
      "00fccc64a1ee2809348509b7ac2a97a5    0\n",
      "011c1a3d4d3f089a54f9b70a4c0a6eb3    0\n",
      "0cd33fcb336655841d3e1441b915748d    0\n",
      "10717                               0\n",
      "10718                               0\n",
      "10719                               0\n",
      "10720                               0\n",
      "10721                               0\n",
      "10722                               0\n",
      "10723                               0\n",
      "10733                               0\n",
      "10734                               0\n",
      "11908                               0\n",
      "12610                               0\n",
      "12611                               0\n",
      "12612                               0\n",
      "12613                               0\n",
      "12614                               0\n",
      "12615                               0\n",
      "12616                               0\n",
      "12618                               0\n",
      "12619                               0\n",
      "12620                               0\n",
      "12621                               0\n",
      "12622                               0\n",
      "12623                               0\n",
      "12624                               0\n",
      "12625                               0\n",
      "12626                               0\n",
      "                                   ..\n",
      "911b2d84826786018761e8c0b0a3a60c    0\n",
      "a10c31a8ff5f42930b4c34035e523886    0\n",
      "a499988a822facd86dd0e8e4ffef8532    0\n",
      "a4f763f78ef3eedfe614263b94a8924e    1\n",
      "b90c12ed2bd7950c6027bf9c6937c48a    0\n",
      "bac72fe483c04a0ea2490539b4d06e6a    0\n",
      "bc27493ad2351e2577bc8664172544f8    0\n",
      "c46090c887c257b61ab1fa11baee91d8    0\n",
      "c936045d792f6ea3aa22d86d93f5cf23    0\n",
      "c938195f9e404b4f38c7e71bf50263e5    0\n",
      "cb7c76e7784031272e37af8e7e9b062c    0\n",
      "cc9b344e950b4f8c2b96537174a343b7    0\n",
      "cd6f20e0b2a699c352f2e55a7a2091fd    0\n",
      "d01411218cc79bc49d2a4078c4093b76    0\n",
      "d5cecca9a6cbd7a0a48110f1306b26d1    0\n",
      "d881a6c788e76c2c27ed1ef04f119544    0\n",
      "dba9860463419dcd6c1b0152dfe7314c    0\n",
      "dc0998c10f8f0b623b5d949e8272e4c7    0\n",
      "e049ebe262e20bed5f9b975208db375b    0\n",
      "e1096a0a4f557814cb226fa5ba2339b2    0\n",
      "e1af08818a6cd6bbba118bb54a651961    0\n",
      "e1b0b6fb39abeb138c0b1e37c5f6d777    0\n",
      "e87d7633d474589c2e2e3ba4eda53f6c    0\n",
      "f1691b7571803d5a46adcb1f39f94d44    0\n",
      "f49541b4e0999d0c934ee3eea142a60e    0\n",
      "f65c8bdb41e9015970bac52baa813239    0\n",
      "fa8f0532dd5144b5fa748459e8d90b49    0\n",
      "fb5afa9dba1274beaf3dad86baf97e89    0\n",
      "fe222c13e927077ad3ea087a92c0935c    0\n",
      "ff5123fb9333ca095034c62fdaaf51aa    0\n",
      "Name: 0, Length: 131, dtype: uint8\n",
      "keypage\n",
      "0f951a030abdaedd733ee8d114ce2944    1\n",
      "15b749127478946f161a54dc0dad27c8    0\n",
      "361e128affece850342293213691a043    0\n",
      "43f4a37f42a7c5e6219e2601b26c6976    0\n",
      "4f8e1c55abc204c2c8f1296dbc223af3    0\n",
      "7e0e909ea89f707bc20f9585c9072081    0\n",
      "9be83422522025c09a44593ecd1af8ca    0\n",
      "a3becb967c015e9acb5e72f22b100ef8    0\n",
      "a5d0bde104fea52ea466c77b37948424    0\n",
      "a8f8eeaae5c1e2e9924328e78d9925a5    0\n",
      "aa4976c67db0f076c563a29f6697928b    0\n",
      "b2e35064f3549d447edbbdfb1f707c8c    0\n",
      "bebefa5efe83beee17a3d245e7c5085b    0\n",
      "c8758e8658b05bc3a88af7b37bdf0575    0\n",
      "d29e59bf0f7f8243858b8183f14d4412    0\n",
      "d41d8cd98f00b204e9800998ecf8427e    0\n",
      "d4fc4aa65f6670f7fea6862f27084fbc    0\n",
      "f4a09c06b67d0fcce088ee6e86ca052a    0\n",
      "null                                0\n",
      "Name: 0, dtype: uint8\n",
      "advertiser\n",
      "1458    0\n",
      "2259    0\n",
      "2261    0\n",
      "2821    0\n",
      "2997    0\n",
      "3358    0\n",
      "3386    0\n",
      "3427    1\n",
      "3476    0\n",
      "Name: 0, dtype: uint8\n"
     ]
    }
   ],
   "source": [
    "for c in basic_non_ord:\n",
    "    print(c)\n",
    "    print(basic_non_ord_dm.iloc[0][c])"
   ]
  },
  {
   "cell_type": "code",
   "execution_count": 271,
   "metadata": {
    "collapsed": true
   },
   "outputs": [],
   "source": [
    "# for x in basic_non_ord:\n",
    "#     if x not in data.columns:\n",
    "#         print(x)"
   ]
  },
  {
   "cell_type": "markdown",
   "metadata": {},
   "source": [
    "## deal with complex non-ordinal features "
   ]
  },
  {
   "cell_type": "code",
   "execution_count": 159,
   "metadata": {
    "collapsed": true
   },
   "outputs": [],
   "source": [
    "def count_freq_values(feat, numb=50):\n",
    "    \"\"\"\n",
    "    @numb: value is frequent if occurs not less than numb times\n",
    "    \n",
    "    return\n",
    "    @uniq_frq:  = number of unique frequent values\n",
    "    @frq_pct: = number frequent values / number of all presented values\n",
    "    \"\"\"\n",
    "    \n",
    "    feat_count = Counter(feat)\n",
    "    value_count = Counter(feat_count.values())\n",
    "    # occurence of a value, number of such value\n",
    "    vc_df = pd.DataFrame(value_count.most_common(), columns=['occur','count'])\n",
    "    frq_vc_df = vc_df.loc[vc_df['occur'] > numb]\n",
    "    \n",
    "    uniq_frq = frq_vc_df['count'].sum()\n",
    "    frq_pct = (frq_vc_df['occur'] * frq_vc_df['count']).sum() / len(feat)\n",
    "    \n",
    "    \n",
    "    return uniq_frq, frq_pct\n",
    "    "
   ]
  },
  {
   "cell_type": "code",
   "execution_count": 174,
   "metadata": {
    "collapsed": true
   },
   "outputs": [],
   "source": [
    "def convt_non_ord(feat, ft_name, numb=500):\n",
    "    \"\"\"\n",
    "    Convert non-ordinal feature into one-hot.\n",
    "        1. Replace (values having occurence <= numb) with 'infreqValue'\n",
    "        2. Get dommies of the values\n",
    "\n",
    "    \"\"\"\n",
    "    feat_df = pd.DataFrame(feat)\n",
    "    feat_count = Counter(feat)\n",
    "    \n",
    "    # find all values with occurence > numb\n",
    "    freq_values = []\n",
    "    for k in feat_count:\n",
    "        if feat_count[k] > numb:\n",
    "            freq_values.append(k)\n",
    "    \n",
    "    # 1. Replace (values having occurence <= numb) with 'infreqValue'\n",
    "    for idx, row in feat_df.iterrows():\n",
    "        if row[ft_name] not in freq_values:\n",
    "            row[ft_name] = 'infreqValue'\n",
    "    \n",
    "    # 2. Get dommies of the values\n",
    "    print('start getting dummies')\n",
    "    feat_dummies = pd.get_dummies(feat_df)\n",
    "    \n",
    "    return feat_dummies"
   ]
  },
  {
   "cell_type": "code",
   "execution_count": 258,
   "metadata": {},
   "outputs": [
    {
     "data": {
      "text/plain": [
       "(193079, 0.709816175659855)"
      ]
     },
     "execution_count": 258,
     "metadata": {},
     "output_type": "execute_result"
    }
   ],
   "source": [
    "# try to split into multiple columns\n",
    "count_freq_values(data['IP'], 5)"
   ]
  },
  {
   "cell_type": "code",
   "execution_count": 263,
   "metadata": {},
   "outputs": [
    {
     "data": {
      "text/plain": [
       "(1022, 0.34574056843326867)"
      ]
     },
     "execution_count": 263,
     "metadata": {},
     "output_type": "execute_result"
    }
   ],
   "source": [
    "# try to find pattern in url\n",
    "count_freq_values(data['url'], 250)"
   ]
  },
  {
   "cell_type": "code",
   "execution_count": 268,
   "metadata": {},
   "outputs": [
    {
     "data": {
      "text/plain": [
       "(1004, 0.5490216342728009)"
      ]
     },
     "execution_count": 268,
     "metadata": {},
     "output_type": "execute_result"
    }
   ],
   "source": [
    "# too many\n",
    "count_freq_values(data['usertag'], 115)"
   ]
  },
  {
   "cell_type": "code",
   "execution_count": null,
   "metadata": {
    "collapsed": true
   },
   "outputs": [],
   "source": [
    "pd, str.contain #parellel computing"
   ]
  },
  {
   "cell_type": "markdown",
   "metadata": {},
   "source": [
    "###  group less frequent values together"
   ]
  },
  {
   "cell_type": "code",
   "execution_count": 163,
   "metadata": {},
   "outputs": [
    {
     "data": {
      "text/plain": [
       "(331, 0.8097766467288575)"
      ]
     },
     "execution_count": 163,
     "metadata": {},
     "output_type": "execute_result"
    }
   ],
   "source": [
    "count_freq_values(data['domain'], 1000)"
   ]
  },
  {
   "cell_type": "code",
   "execution_count": 168,
   "metadata": {},
   "outputs": [
    {
     "data": {
      "text/plain": [
       "(475, 0.7625637654976614)"
      ]
     },
     "execution_count": 168,
     "metadata": {},
     "output_type": "execute_result"
    }
   ],
   "source": [
    "count_freq_values(data['slotid'], 800)"
   ]
  },
  {
   "cell_type": "code",
   "execution_count": 171,
   "metadata": {},
   "outputs": [
    {
     "name": "stdout",
     "output_type": "stream",
     "text": [
      "start getting dummies\n",
      "CPU times: user 2min 56s, sys: 1.89 s, total: 2min 57s\n",
      "Wall time: 2min 58s\n"
     ]
    }
   ],
   "source": [
    "%%time\n",
    "domain_dummies = convt_non_ord(data['domain'], 'domain' , 1000)"
   ]
  },
  {
   "cell_type": "code",
   "execution_count": 175,
   "metadata": {},
   "outputs": [
    {
     "name": "stdout",
     "output_type": "stream",
     "text": [
      "start getting dummies\n",
      "CPU times: user 3min 7s, sys: 2.57 s, total: 3min 10s\n",
      "Wall time: 3min 11s\n"
     ]
    }
   ],
   "source": [
    "%%time\n",
    "slotid_dummies = convt_non_ord(data['slotid'], 'slotid', 800)"
   ]
  },
  {
   "cell_type": "code",
   "execution_count": 232,
   "metadata": {},
   "outputs": [
    {
     "data": {
      "text/plain": [
       "(3038281, 332)"
      ]
     },
     "execution_count": 232,
     "metadata": {},
     "output_type": "execute_result"
    }
   ],
   "source": [
    "domain_dummies.shape"
   ]
  },
  {
   "cell_type": "code",
   "execution_count": 178,
   "metadata": {
    "collapsed": true
   },
   "outputs": [],
   "source": [
    "X_train = pd.concat([ordinal_dm, basic_non_ord_dm], axis=1)"
   ]
  },
  {
   "cell_type": "markdown",
   "metadata": {},
   "source": [
    "## Basic Model"
   ]
  },
  {
   "cell_type": "markdown",
   "metadata": {},
   "source": [
    "### LogisticRegression"
   ]
  },
  {
   "cell_type": "code",
   "execution_count": 13,
   "metadata": {
    "collapsed": true
   },
   "outputs": [],
   "source": [
    "# downsample + upsample"
   ]
  },
  {
   "cell_type": "code",
   "execution_count": 14,
   "metadata": {
    "collapsed": true
   },
   "outputs": [],
   "source": [
    "from sklearn.linear_model import LogisticRegression"
   ]
  },
  {
   "cell_type": "code",
   "execution_count": 15,
   "metadata": {},
   "outputs": [
    {
     "name": "stdout",
     "output_type": "stream",
     "text": [
      "CPU times: user 58.8 s, sys: 33.3 s, total: 1min 32s\n",
      "Wall time: 1min 37s\n"
     ]
    }
   ],
   "source": [
    "%%time\n",
    "lg = LogisticRegression()\n",
    "lg.fit(X_train, y_train)"
   ]
  },
  {
   "cell_type": "code",
   "execution_count": 18,
   "metadata": {},
   "outputs": [
    {
     "data": {
      "text/plain": [
       "0.5"
      ]
     },
     "execution_count": 18,
     "metadata": {},
     "output_type": "execute_result"
    }
   ],
   "source": [
    "from sklearn.metrics import roc_auc_score\n",
    "auc = roc_auc_score(y_train, lg.predict(X_train))\n",
    "auc"
   ]
  },
  {
   "cell_type": "markdown",
   "metadata": {},
   "source": [
    "### Undersampling"
   ]
  },
  {
   "cell_type": "code",
   "execution_count": 30,
   "metadata": {},
   "outputs": [
    {
     "data": {
      "text/plain": [
       "((1793, 975), (2429188, 975))"
      ]
     },
     "execution_count": 30,
     "metadata": {},
     "output_type": "execute_result"
    }
   ],
   "source": [
    "X_train_pos.shape, X_train_neg.shape"
   ]
  },
  {
   "cell_type": "code",
   "execution_count": 122,
   "metadata": {
    "collapsed": true
   },
   "outputs": [],
   "source": [
    "def undersample(n=np.sum(y_train)):\n",
    "    # get pos and neg\n",
    "    X_train_pos = X_train[y_train == 1]\n",
    "    y_train_pos = y_train[y_train == 1]\n",
    "    X_train_neg = X_train[y_train != 1]\n",
    "    y_train_neg = y_train[y_train != 1]\n",
    "    \n",
    "    # undersample negative labels\n",
    "    X_train_neg_und = X_train_neg.sample(n=n, random_state=123)\n",
    "    y_train_neg_und = y_train_neg.loc[X_train_neg_und.index]\n",
    "    \n",
    "    # concat and shuffle\n",
    "    X_train_und = pd.concat([X_train_neg_und, X_train_pos], axis=0)\n",
    "    y_train_und = pd.concat([y_train_neg_und, y_train_pos], axis=0)\n",
    "    \n",
    "    shuffled_idx = list(X_train_und.index)\n",
    "    random.shuffle(shuffled_idx)\n",
    "    X_train_und = X_train_und.loc[shuffled_idx]\n",
    "    y_train_und = y_train_und.loc[shuffled_idx]\n",
    "    \n",
    "    return X_train_und, y_train_und"
   ]
  },
  {
   "cell_type": "code",
   "execution_count": null,
   "metadata": {
    "collapsed": true
   },
   "outputs": [],
   "source": [
    "X_train_und, y_train_und = undersample()"
   ]
  },
  {
   "cell_type": "code",
   "execution_count": 118,
   "metadata": {},
   "outputs": [
    {
     "data": {
      "text/plain": [
       "(3586, 975)"
      ]
     },
     "execution_count": 118,
     "metadata": {},
     "output_type": "execute_result"
    }
   ],
   "source": [
    "X_train_und.shape"
   ]
  },
  {
   "cell_type": "code",
   "execution_count": 113,
   "metadata": {},
   "outputs": [
    {
     "name": "stdout",
     "output_type": "stream",
     "text": [
      "insample(undersampled) roc auc: 0.7267150027886224\n",
      "insample(original sample) roc auc: 0.6774570981637622\n"
     ]
    }
   ],
   "source": [
    "lg.fit(X_train_und, y_train_und)\n",
    "\n",
    "auc_in = roc_auc_score(y_train_und, lg.predict(X_train_und))\n",
    "print('insample(undersampled) roc auc: {}'.format(auc_in))\n",
    "\n",
    "auc_in = roc_auc_score(y_train, lg.predict(X_train))\n",
    "print('insample(original sample) roc auc: {}'.format(auc_in))"
   ]
  },
  {
   "cell_type": "code",
   "execution_count": 114,
   "metadata": {},
   "outputs": [
    {
     "name": "stdout",
     "output_type": "stream",
     "text": [
      "out-sample(original sample) roc auc: 0.6446080135616016\n"
     ]
    }
   ],
   "source": [
    "auc_out = roc_auc_score(y_valid, lg.predict(X_valid))\n",
    "print('out-sample(original sample) roc auc: {}'.format(auc_out))"
   ]
  },
  {
   "cell_type": "markdown",
   "metadata": {},
   "source": [
    "### Oversampling\n",
    "No significant improvement"
   ]
  },
  {
   "cell_type": "code",
   "execution_count": 152,
   "metadata": {
    "collapsed": true,
    "scrolled": false
   },
   "outputs": [],
   "source": [
    "X_train_und, y_train_und = undersample(int(np.sum(train['click']) * 1.2))"
   ]
  },
  {
   "cell_type": "code",
   "execution_count": 153,
   "metadata": {},
   "outputs": [
    {
     "data": {
      "text/plain": [
       "3"
      ]
     },
     "execution_count": 153,
     "metadata": {},
     "output_type": "execute_result"
    }
   ],
   "source": [
    "int(3.9999)"
   ]
  },
  {
   "cell_type": "code",
   "execution_count": 154,
   "metadata": {
    "collapsed": true
   },
   "outputs": [],
   "source": [
    "from imblearn.over_sampling import SMOTE"
   ]
  },
  {
   "cell_type": "code",
   "execution_count": 155,
   "metadata": {
    "collapsed": true
   },
   "outputs": [],
   "source": [
    "sm = SMOTE(random_state=42)\n",
    "X_train_ovs, y_train_ovs = sm.fit_sample(X_train_und, y_train_und)"
   ]
  },
  {
   "cell_type": "code",
   "execution_count": 156,
   "metadata": {},
   "outputs": [
    {
     "data": {
      "text/plain": [
       "(2151, 4302)"
      ]
     },
     "execution_count": 156,
     "metadata": {},
     "output_type": "execute_result"
    }
   ],
   "source": [
    "np.sum(y_train_ovs), y_train_ovs.shape[0]"
   ]
  },
  {
   "cell_type": "code",
   "execution_count": 157,
   "metadata": {},
   "outputs": [
    {
     "name": "stdout",
     "output_type": "stream",
     "text": [
      "insample(oversampled) roc auc: 0.7419804741980474\n",
      "insample(original sample) roc auc: 0.677703324913299\n",
      "out-sample(original sample) roc auc: 0.6480063598856997\n"
     ]
    }
   ],
   "source": [
    "# # oversample 20%\n",
    "lg.fit(X_train_ovs, y_train_ovs)\n",
    "\n",
    "auc_in = roc_auc_score(y_train_ovs, lg.predict(X_train_ovs))\n",
    "print('insample(oversampled) roc auc: {}'.format(auc_in))\n",
    "\n",
    "auc_in = roc_auc_score(y_train, lg.predict(X_train))\n",
    "print('insample(original sample) roc auc: {}'.format(auc_in))\n",
    "\n",
    "auc_out = roc_auc_score(y_valid, lg.predict(X_valid))\n",
    "print('out-sample(original sample) roc auc: {}'.format(auc_out))"
   ]
  },
  {
   "cell_type": "code",
   "execution_count": 138,
   "metadata": {},
   "outputs": [
    {
     "name": "stdout",
     "output_type": "stream",
     "text": [
      "insample(oversampled) roc auc: 0.8013106525376463\n",
      "insample(original sample) roc auc: 0.6309470145337979\n",
      "out-sample(original sample) roc auc: 0.6220072350969355\n"
     ]
    }
   ],
   "source": [
    "# oversample 100%"
   ]
  },
  {
   "cell_type": "code",
   "execution_count": 56,
   "metadata": {},
   "outputs": [
    {
     "data": {
      "text/plain": [
       "array([0.51505326, 0.51724118, 0.51202622])"
      ]
     },
     "execution_count": 56,
     "metadata": {},
     "output_type": "execute_result"
    }
   ],
   "source": [
    "roc_auces # ensemble = 0.88, LR = 0.84 # LR without optimization = 0.81"
   ]
  },
  {
   "cell_type": "markdown",
   "metadata": {},
   "source": [
    "### LightGBM"
   ]
  },
  {
   "cell_type": "markdown",
   "metadata": {},
   "source": [
    "#### data preprocessing"
   ]
  },
  {
   "cell_type": "code",
   "execution_count": 45,
   "metadata": {
    "collapsed": true
   },
   "outputs": [],
   "source": [
    "import lightgbm as lgb"
   ]
  },
  {
   "cell_type": "code",
   "execution_count": 46,
   "metadata": {
    "collapsed": true
   },
   "outputs": [],
   "source": [
    "t_lgb = train.drop(['bidprice','payprice'], axis=1)\n",
    "v_lgb = valid.drop(['bidprice','payprice'], axis=1)\n",
    "\n",
    "data_lgb = pd.concat([t_lgb, v_lgb], axis=0)"
   ]
  },
  {
   "cell_type": "code",
   "execution_count": 50,
   "metadata": {
    "collapsed": true
   },
   "outputs": [],
   "source": [
    "# drop useless features\n",
    "data_lgb = data_lgb.drop(['bidid', 'userid', 'urlid'], axis=1)"
   ]
  },
  {
   "cell_type": "code",
   "execution_count": 51,
   "metadata": {},
   "outputs": [
    {
     "data": {
      "text/plain": [
       "click                                            0\n",
       "weekday                                          5\n",
       "hour                                            22\n",
       "useragent                               windows_ie\n",
       "IP                                    125.37.175.*\n",
       "region                                           2\n",
       "city                                             2\n",
       "adexchange                                       2\n",
       "domain                        trqRTvKaXTKfgg24JKTI\n",
       "url               6447a7dfa30fe6eb410c91860e7c9b45\n",
       "slotid                                  2015392487\n",
       "slotwidth                                      200\n",
       "slotheight                                     200\n",
       "slotvisibility                                   2\n",
       "slotformat                                       0\n",
       "slotprice                                        5\n",
       "creative          a4f763f78ef3eedfe614263b94a8924e\n",
       "keypage           0f951a030abdaedd733ee8d114ce2944\n",
       "advertiser                                    3427\n",
       "usertag                                       null\n",
       "Name: 0, dtype: object"
      ]
     },
     "execution_count": 51,
     "metadata": {},
     "output_type": "execute_result"
    }
   ],
   "source": [
    "data_lgb.iloc[0]"
   ]
  },
  {
   "cell_type": "code",
   "execution_count": 52,
   "metadata": {
    "collapsed": true
   },
   "outputs": [],
   "source": [
    "# ignore complex non-ordinal features\n",
    "complex_non_ord = ['IP', 'domain', 'url', 'slotid', 'usertag']\n",
    "data_lgb = data_lgb.drop(complex_non_ord, axis=1)"
   ]
  },
  {
   "cell_type": "code",
   "execution_count": 54,
   "metadata": {},
   "outputs": [
    {
     "data": {
      "text/plain": [
       "(2734906, 15)"
      ]
     },
     "execution_count": 54,
     "metadata": {},
     "output_type": "execute_result"
    }
   ],
   "source": [
    "data_lgb.shape"
   ]
  },
  {
   "cell_type": "code",
   "execution_count": null,
   "metadata": {
    "collapsed": true
   },
   "outputs": [],
   "source": []
  }
 ],
 "metadata": {
  "kernelspec": {
   "display_name": "Python 3",
   "language": "python",
   "name": "python3"
  },
  "language_info": {
   "codemirror_mode": {
    "name": "ipython",
    "version": 3
   },
   "file_extension": ".py",
   "mimetype": "text/x-python",
   "name": "python",
   "nbconvert_exporter": "python",
   "pygments_lexer": "ipython3",
   "version": "3.6.3"
  }
 },
 "nbformat": 4,
 "nbformat_minor": 2
}
