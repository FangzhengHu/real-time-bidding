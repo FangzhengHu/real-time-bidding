{
 "cells": [
  {
   "cell_type": "markdown",
   "metadata": {},
   "source": [
    "Ref: http://breezedeus.github.io/2014/11/15/breezedeus-feature-processing.html"
   ]
  },
  {
   "cell_type": "code",
   "execution_count": 4,
   "metadata": {
    "collapsed": true
   },
   "outputs": [],
   "source": [
    "import pandas as pd\n",
    "import numpy as np\n",
    "import collections\n",
    "from collections import Counter\n",
    "\n",
    "import matplotlib.pyplot as plt\n",
    "%matplotlib inline"
   ]
  },
  {
   "cell_type": "code",
   "execution_count": 2,
   "metadata": {
    "collapsed": true
   },
   "outputs": [],
   "source": [
    "train = pd.read_csv('./data/train.csv')\n",
    "valid = pd.read_csv('./data/validation.csv')\n",
    "test  = pd.read_csv('./data/test.csv')"
   ]
  },
  {
   "cell_type": "code",
   "execution_count": 3,
   "metadata": {},
   "outputs": [
    {
     "data": {
      "text/plain": [
       "(3038281, 22)"
      ]
     },
     "execution_count": 3,
     "metadata": {},
     "output_type": "execute_result"
    }
   ],
   "source": [
    "t = train.drop(['bidprice','click','payprice'], axis=1)\n",
    "v = valid.drop(['bidprice','click','payprice'], axis=1)\n",
    "\n",
    "data = pd.concat([t, v, test], axis=0)\n",
    "data.shape"
   ]
  },
  {
   "cell_type": "markdown",
   "metadata": {},
   "source": [
    "## To do list (^: already down, @: currently focused, &: currently skipped)\n",
    "- weekday\n",
    "- hour\n",
    "- ^ bidid\n",
    "- ^ userid\n",
    "- useragent\n",
    "- & IP [list of values]\n",
    "- region\n",
    "- city\n",
    "- adexchange\n",
    "- & domain\n",
    "- & url\n",
    "- ^ urlid\n",
    "- slotid\n",
    "- slotwidth\n",
    "- slotheight\n",
    "- slotvisibility\n",
    "- slotformat\n",
    "- slotprice\n",
    "- creative\n",
    "- keypage\n",
    "- advertiser\n",
    "- & usertag (list of values)\n",
    "\n",
    "## Others\n",
    "- deal with missing values"
   ]
  },
  {
   "cell_type": "markdown",
   "metadata": {},
   "source": [
    "### Questions\n",
    "- "
   ]
  },
  {
   "cell_type": "markdown",
   "metadata": {},
   "source": [
    "### drop useless features"
   ]
  },
  {
   "cell_type": "code",
   "execution_count": 11,
   "metadata": {
    "collapsed": true
   },
   "outputs": [],
   "source": [
    "# \n",
    "data = data.drop(['bidid', 'userid', 'urlid'], axis=1)"
   ]
  },
  {
   "cell_type": "code",
   "execution_count": 12,
   "metadata": {},
   "outputs": [
    {
     "data": {
      "text/html": [
       "<div>\n",
       "<style>\n",
       "    .dataframe thead tr:only-child th {\n",
       "        text-align: right;\n",
       "    }\n",
       "\n",
       "    .dataframe thead th {\n",
       "        text-align: left;\n",
       "    }\n",
       "\n",
       "    .dataframe tbody tr th {\n",
       "        vertical-align: top;\n",
       "    }\n",
       "</style>\n",
       "<table border=\"1\" class=\"dataframe\">\n",
       "  <thead>\n",
       "    <tr style=\"text-align: right;\">\n",
       "      <th></th>\n",
       "      <th>weekday</th>\n",
       "      <th>hour</th>\n",
       "      <th>useragent</th>\n",
       "      <th>IP</th>\n",
       "      <th>region</th>\n",
       "      <th>city</th>\n",
       "      <th>adexchange</th>\n",
       "      <th>domain</th>\n",
       "      <th>url</th>\n",
       "      <th>slotid</th>\n",
       "      <th>slotwidth</th>\n",
       "      <th>slotheight</th>\n",
       "      <th>slotvisibility</th>\n",
       "      <th>slotformat</th>\n",
       "      <th>slotprice</th>\n",
       "      <th>creative</th>\n",
       "      <th>keypage</th>\n",
       "      <th>advertiser</th>\n",
       "      <th>usertag</th>\n",
       "    </tr>\n",
       "  </thead>\n",
       "  <tbody>\n",
       "    <tr>\n",
       "      <th>0</th>\n",
       "      <td>5</td>\n",
       "      <td>22</td>\n",
       "      <td>windows_ie</td>\n",
       "      <td>125.37.175.*</td>\n",
       "      <td>2</td>\n",
       "      <td>2</td>\n",
       "      <td>2</td>\n",
       "      <td>trqRTvKaXTKfgg24JKTI</td>\n",
       "      <td>6447a7dfa30fe6eb410c91860e7c9b45</td>\n",
       "      <td>2015392487</td>\n",
       "      <td>200</td>\n",
       "      <td>200</td>\n",
       "      <td>2</td>\n",
       "      <td>0</td>\n",
       "      <td>5</td>\n",
       "      <td>a4f763f78ef3eedfe614263b94a8924e</td>\n",
       "      <td>0f951a030abdaedd733ee8d114ce2944</td>\n",
       "      <td>3427</td>\n",
       "      <td>null</td>\n",
       "    </tr>\n",
       "    <tr>\n",
       "      <th>1</th>\n",
       "      <td>1</td>\n",
       "      <td>20</td>\n",
       "      <td>windows_chrome</td>\n",
       "      <td>171.36.92.*</td>\n",
       "      <td>238</td>\n",
       "      <td>239</td>\n",
       "      <td>1</td>\n",
       "      <td>20fc675468712705dbf5d3eda94126da</td>\n",
       "      <td>3ddf173a94bd23c326683b6373c75dd4</td>\n",
       "      <td>mm_10982364_973726_8930541</td>\n",
       "      <td>300</td>\n",
       "      <td>250</td>\n",
       "      <td>FourthView</td>\n",
       "      <td>Na</td>\n",
       "      <td>0</td>\n",
       "      <td>10722</td>\n",
       "      <td>null</td>\n",
       "      <td>2821</td>\n",
       "      <td>null</td>\n",
       "    </tr>\n",
       "    <tr>\n",
       "      <th>2</th>\n",
       "      <td>3</td>\n",
       "      <td>13</td>\n",
       "      <td>windows_ie</td>\n",
       "      <td>59.46.106.*</td>\n",
       "      <td>40</td>\n",
       "      <td>41</td>\n",
       "      <td>2</td>\n",
       "      <td>trqRTJn7O95I1mKYUV</td>\n",
       "      <td>625d1b5916ea925332c7b326c0574cfa</td>\n",
       "      <td>1720123646</td>\n",
       "      <td>250</td>\n",
       "      <td>250</td>\n",
       "      <td>2</td>\n",
       "      <td>0</td>\n",
       "      <td>5</td>\n",
       "      <td>798b2d49952d77f1eace9f23c210d0b5</td>\n",
       "      <td>0f951a030abdaedd733ee8d114ce2944</td>\n",
       "      <td>3427</td>\n",
       "      <td>10052,10006,13866,10110</td>\n",
       "    </tr>\n",
       "    <tr>\n",
       "      <th>3</th>\n",
       "      <td>6</td>\n",
       "      <td>23</td>\n",
       "      <td>windows_ie</td>\n",
       "      <td>114.250.226.*</td>\n",
       "      <td>1</td>\n",
       "      <td>1</td>\n",
       "      <td>1</td>\n",
       "      <td>5F97t5E0BTK7XhNrUMpENpn</td>\n",
       "      <td>dedc488b98ca20707bc9a723957e7d1f</td>\n",
       "      <td>mm_10027070_118039_10308280</td>\n",
       "      <td>160</td>\n",
       "      <td>600</td>\n",
       "      <td>2</td>\n",
       "      <td>1</td>\n",
       "      <td>0</td>\n",
       "      <td>cb7c76e7784031272e37af8e7e9b062c</td>\n",
       "      <td>bebefa5efe83beee17a3d245e7c5085b</td>\n",
       "      <td>1458</td>\n",
       "      <td>13866,10063,10111</td>\n",
       "    </tr>\n",
       "    <tr>\n",
       "      <th>4</th>\n",
       "      <td>5</td>\n",
       "      <td>6</td>\n",
       "      <td>windows_ie</td>\n",
       "      <td>183.63.192.*</td>\n",
       "      <td>216</td>\n",
       "      <td>233</td>\n",
       "      <td>2</td>\n",
       "      <td>13625cb070ffb306b425cd803c4b7ab4</td>\n",
       "      <td>4199d1227c511fc776b76594dabff9f8</td>\n",
       "      <td>1120200150</td>\n",
       "      <td>728</td>\n",
       "      <td>90</td>\n",
       "      <td>OtherView</td>\n",
       "      <td>Na</td>\n",
       "      <td>133</td>\n",
       "      <td>7330</td>\n",
       "      <td>null</td>\n",
       "      <td>2259</td>\n",
       "      <td>null</td>\n",
       "    </tr>\n",
       "  </tbody>\n",
       "</table>\n",
       "</div>"
      ],
      "text/plain": [
       "   weekday  hour       useragent             IP  region  city adexchange  \\\n",
       "0        5    22      windows_ie   125.37.175.*       2     2          2   \n",
       "1        1    20  windows_chrome    171.36.92.*     238   239          1   \n",
       "2        3    13      windows_ie    59.46.106.*      40    41          2   \n",
       "3        6    23      windows_ie  114.250.226.*       1     1          1   \n",
       "4        5     6      windows_ie   183.63.192.*     216   233          2   \n",
       "\n",
       "                             domain                               url  \\\n",
       "0              trqRTvKaXTKfgg24JKTI  6447a7dfa30fe6eb410c91860e7c9b45   \n",
       "1  20fc675468712705dbf5d3eda94126da  3ddf173a94bd23c326683b6373c75dd4   \n",
       "2                trqRTJn7O95I1mKYUV  625d1b5916ea925332c7b326c0574cfa   \n",
       "3           5F97t5E0BTK7XhNrUMpENpn  dedc488b98ca20707bc9a723957e7d1f   \n",
       "4  13625cb070ffb306b425cd803c4b7ab4  4199d1227c511fc776b76594dabff9f8   \n",
       "\n",
       "                        slotid  slotwidth  slotheight slotvisibility  \\\n",
       "0                   2015392487        200         200              2   \n",
       "1   mm_10982364_973726_8930541        300         250     FourthView   \n",
       "2                   1720123646        250         250              2   \n",
       "3  mm_10027070_118039_10308280        160         600              2   \n",
       "4                   1120200150        728          90      OtherView   \n",
       "\n",
       "  slotformat  slotprice                          creative  \\\n",
       "0          0          5  a4f763f78ef3eedfe614263b94a8924e   \n",
       "1         Na          0                             10722   \n",
       "2          0          5  798b2d49952d77f1eace9f23c210d0b5   \n",
       "3          1          0  cb7c76e7784031272e37af8e7e9b062c   \n",
       "4         Na        133                              7330   \n",
       "\n",
       "                            keypage  advertiser                  usertag  \n",
       "0  0f951a030abdaedd733ee8d114ce2944        3427                     null  \n",
       "1                              null        2821                     null  \n",
       "2  0f951a030abdaedd733ee8d114ce2944        3427  10052,10006,13866,10110  \n",
       "3  bebefa5efe83beee17a3d245e7c5085b        1458        13866,10063,10111  \n",
       "4                              null        2259                     null  "
      ]
     },
     "execution_count": 12,
     "metadata": {},
     "output_type": "execute_result"
    }
   ],
   "source": [
    "data.head()"
   ]
  },
  {
   "cell_type": "code",
   "execution_count": 13,
   "metadata": {
    "scrolled": true
   },
   "outputs": [
    {
     "data": {
      "text/html": [
       "<div>\n",
       "<style>\n",
       "    .dataframe thead tr:only-child th {\n",
       "        text-align: right;\n",
       "    }\n",
       "\n",
       "    .dataframe thead th {\n",
       "        text-align: left;\n",
       "    }\n",
       "\n",
       "    .dataframe tbody tr th {\n",
       "        vertical-align: top;\n",
       "    }\n",
       "</style>\n",
       "<table border=\"1\" class=\"dataframe\">\n",
       "  <thead>\n",
       "    <tr style=\"text-align: right;\">\n",
       "      <th></th>\n",
       "      <th>weekday</th>\n",
       "      <th>hour</th>\n",
       "      <th>useragent</th>\n",
       "      <th>IP</th>\n",
       "      <th>region</th>\n",
       "      <th>city</th>\n",
       "      <th>adexchange</th>\n",
       "      <th>domain</th>\n",
       "      <th>url</th>\n",
       "      <th>slotid</th>\n",
       "      <th>slotwidth</th>\n",
       "      <th>slotheight</th>\n",
       "      <th>slotvisibility</th>\n",
       "      <th>slotformat</th>\n",
       "      <th>slotprice</th>\n",
       "      <th>creative</th>\n",
       "      <th>keypage</th>\n",
       "      <th>advertiser</th>\n",
       "      <th>usertag</th>\n",
       "    </tr>\n",
       "  </thead>\n",
       "  <tbody>\n",
       "    <tr>\n",
       "      <th>303370</th>\n",
       "      <td>4</td>\n",
       "      <td>22</td>\n",
       "      <td>windows_chrome</td>\n",
       "      <td>114.230.167.*</td>\n",
       "      <td>80</td>\n",
       "      <td>90</td>\n",
       "      <td>3</td>\n",
       "      <td>31xSTvprdN1RFt</td>\n",
       "      <td>7bd1674758bce19d2266165af11f3176</td>\n",
       "      <td>ALLINONE_F_Width2</td>\n",
       "      <td>1000</td>\n",
       "      <td>90</td>\n",
       "      <td>0</td>\n",
       "      <td>0</td>\n",
       "      <td>50</td>\n",
       "      <td>c46090c887c257b61ab1fa11baee91d8</td>\n",
       "      <td>0f951a030abdaedd733ee8d114ce2944</td>\n",
       "      <td>3427</td>\n",
       "      <td>10063,10031,10110</td>\n",
       "    </tr>\n",
       "    <tr>\n",
       "      <th>303371</th>\n",
       "      <td>3</td>\n",
       "      <td>15</td>\n",
       "      <td>windows_chrome</td>\n",
       "      <td>1.194.113.*</td>\n",
       "      <td>164</td>\n",
       "      <td>181</td>\n",
       "      <td>2</td>\n",
       "      <td>trqRTvKaXTKfgg24JKTI</td>\n",
       "      <td>8ebf4d20bb25f6d0be696299d5176256</td>\n",
       "      <td>1030498436</td>\n",
       "      <td>250</td>\n",
       "      <td>250</td>\n",
       "      <td>2</td>\n",
       "      <td>0</td>\n",
       "      <td>5</td>\n",
       "      <td>8dff45ed862a740986dbe688aafee7e5</td>\n",
       "      <td>15b749127478946f161a54dc0dad27c8</td>\n",
       "      <td>3476</td>\n",
       "      <td>10076,10063,10006,10024,10075,10110</td>\n",
       "    </tr>\n",
       "    <tr>\n",
       "      <th>303372</th>\n",
       "      <td>2</td>\n",
       "      <td>0</td>\n",
       "      <td>windows_ie</td>\n",
       "      <td>122.96.49.*</td>\n",
       "      <td>80</td>\n",
       "      <td>85</td>\n",
       "      <td>3</td>\n",
       "      <td>trqRTud7jQ19gM9WJFMyNKTRm7</td>\n",
       "      <td>1e91b4c36dd4f3952bce1cc39a0d0cb4</td>\n",
       "      <td>discuz_8810998_008</td>\n",
       "      <td>960</td>\n",
       "      <td>90</td>\n",
       "      <td>0</td>\n",
       "      <td>0</td>\n",
       "      <td>20</td>\n",
       "      <td>fb5afa9dba1274beaf3dad86baf97e89</td>\n",
       "      <td>bebefa5efe83beee17a3d245e7c5085b</td>\n",
       "      <td>1458</td>\n",
       "      <td>10052,10006,10075,10077,10031,10024,10110</td>\n",
       "    </tr>\n",
       "    <tr>\n",
       "      <th>303373</th>\n",
       "      <td>6</td>\n",
       "      <td>8</td>\n",
       "      <td>mac_chrome</td>\n",
       "      <td>4.53.129.*</td>\n",
       "      <td>0</td>\n",
       "      <td>0</td>\n",
       "      <td>3</td>\n",
       "      <td>tK1jlK9rg5scFsf</td>\n",
       "      <td>370fde9a369042ab39157b85cdb69e92</td>\n",
       "      <td>Tech_F_Width1</td>\n",
       "      <td>1000</td>\n",
       "      <td>90</td>\n",
       "      <td>0</td>\n",
       "      <td>0</td>\n",
       "      <td>20</td>\n",
       "      <td>d01411218cc79bc49d2a4078c4093b76</td>\n",
       "      <td>b2e35064f3549d447edbbdfb1f707c8c</td>\n",
       "      <td>3427</td>\n",
       "      <td>null</td>\n",
       "    </tr>\n",
       "    <tr>\n",
       "      <th>303374</th>\n",
       "      <td>5</td>\n",
       "      <td>12</td>\n",
       "      <td>windows_chrome</td>\n",
       "      <td>111.164.212.*</td>\n",
       "      <td>2</td>\n",
       "      <td>2</td>\n",
       "      <td>2</td>\n",
       "      <td>DFpETuFygZl7gspy</td>\n",
       "      <td>205c311e21f34dde62bfef22a011df77</td>\n",
       "      <td>3721625973</td>\n",
       "      <td>250</td>\n",
       "      <td>250</td>\n",
       "      <td>2</td>\n",
       "      <td>0</td>\n",
       "      <td>39</td>\n",
       "      <td>2abc9eaf57d17a96195af3f63c45dc72</td>\n",
       "      <td>bebefa5efe83beee17a3d245e7c5085b</td>\n",
       "      <td>1458</td>\n",
       "      <td>10031,10684,10063,11576,10006,10083,10110</td>\n",
       "    </tr>\n",
       "  </tbody>\n",
       "</table>\n",
       "</div>"
      ],
      "text/plain": [
       "        weekday  hour       useragent             IP  region  city adexchange  \\\n",
       "303370        4    22  windows_chrome  114.230.167.*      80    90          3   \n",
       "303371        3    15  windows_chrome    1.194.113.*     164   181          2   \n",
       "303372        2     0      windows_ie    122.96.49.*      80    85          3   \n",
       "303373        6     8      mac_chrome     4.53.129.*       0     0          3   \n",
       "303374        5    12  windows_chrome  111.164.212.*       2     2          2   \n",
       "\n",
       "                            domain                               url  \\\n",
       "303370              31xSTvprdN1RFt  7bd1674758bce19d2266165af11f3176   \n",
       "303371        trqRTvKaXTKfgg24JKTI  8ebf4d20bb25f6d0be696299d5176256   \n",
       "303372  trqRTud7jQ19gM9WJFMyNKTRm7  1e91b4c36dd4f3952bce1cc39a0d0cb4   \n",
       "303373             tK1jlK9rg5scFsf  370fde9a369042ab39157b85cdb69e92   \n",
       "303374            DFpETuFygZl7gspy  205c311e21f34dde62bfef22a011df77   \n",
       "\n",
       "                    slotid  slotwidth  slotheight slotvisibility slotformat  \\\n",
       "303370   ALLINONE_F_Width2       1000          90              0          0   \n",
       "303371          1030498436        250         250              2          0   \n",
       "303372  discuz_8810998_008        960          90              0          0   \n",
       "303373       Tech_F_Width1       1000          90              0          0   \n",
       "303374          3721625973        250         250              2          0   \n",
       "\n",
       "        slotprice                          creative  \\\n",
       "303370         50  c46090c887c257b61ab1fa11baee91d8   \n",
       "303371          5  8dff45ed862a740986dbe688aafee7e5   \n",
       "303372         20  fb5afa9dba1274beaf3dad86baf97e89   \n",
       "303373         20  d01411218cc79bc49d2a4078c4093b76   \n",
       "303374         39  2abc9eaf57d17a96195af3f63c45dc72   \n",
       "\n",
       "                                 keypage  advertiser  \\\n",
       "303370  0f951a030abdaedd733ee8d114ce2944        3427   \n",
       "303371  15b749127478946f161a54dc0dad27c8        3476   \n",
       "303372  bebefa5efe83beee17a3d245e7c5085b        1458   \n",
       "303373  b2e35064f3549d447edbbdfb1f707c8c        3427   \n",
       "303374  bebefa5efe83beee17a3d245e7c5085b        1458   \n",
       "\n",
       "                                          usertag  \n",
       "303370                          10063,10031,10110  \n",
       "303371        10076,10063,10006,10024,10075,10110  \n",
       "303372  10052,10006,10075,10077,10031,10024,10110  \n",
       "303373                                       null  \n",
       "303374  10031,10684,10063,11576,10006,10083,10110  "
      ]
     },
     "execution_count": 13,
     "metadata": {},
     "output_type": "execute_result"
    }
   ],
   "source": [
    "data.tail()"
   ]
  },
  {
   "cell_type": "markdown",
   "metadata": {},
   "source": [
    "### deal with non-ordinal features"
   ]
  },
  {
   "cell_type": "code",
   "execution_count": 111,
   "metadata": {
    "collapsed": true
   },
   "outputs": [],
   "source": [
    "def count_freq_values(feat, numb=50):\n",
    "    \"\"\"\n",
    "    @numb: value is frequent if occurs not less than numb times\n",
    "    \n",
    "    return\n",
    "    @uniq_frq:  = number of unique frequent values\n",
    "    @frq_pct: = number frequent values / number of all presented values\n",
    "    \"\"\"\n",
    "    \n",
    "    feat_count = Counter(feat)\n",
    "    value_count = Counter(feat_count.values())\n",
    "    # occurence of a value, number of such value\n",
    "    vc_df = pd.DataFrame(value_count.most_common(), columns=['occur','count'])\n",
    "    frq_vc_df = vc_df.loc[vc_df['occur'] > numb]\n",
    "    \n",
    "    uniq_frq = frq_vc_df['count'].sum()\n",
    "    frq_pct = (frq_vc_df['occur'] * frq_vc_df['count']).sum() / len(feat)\n",
    "    \n",
    "    \n",
    "    return uniq_frq, frq_pct\n",
    "    "
   ]
  },
  {
   "cell_type": "code",
   "execution_count": 226,
   "metadata": {},
   "outputs": [],
   "source": [
    "def convt_non_ord(feat, numb=500):\n",
    "    \"\"\"\n",
    "    Convert non-ordinal feature into one-hot.\n",
    "        1. Replace (values having occurence <= numb) with 'infreqValue'\n",
    "        2. Get dommies of the values\n",
    "\n",
    "    \"\"\"\n",
    "    feat_df = pd.DataFrame(feat)\n",
    "    feat_count = Counter(feat)\n",
    "    \n",
    "    # find all values with occurence > numb\n",
    "    freq_values = []\n",
    "    for k in feat_count:\n",
    "        if feat_count[k] > numb:\n",
    "            freq_values.append(k)\n",
    "    \n",
    "    # 1. Replace (values having occurence <= numb) with 'infreqValue'\n",
    "    for idx, row in feat_df.iterrows():\n",
    "        if row['domain'] not in freq_values:\n",
    "            row['domain'] = 'infreqValue'\n",
    "    \n",
    "    # 2. Get dommies of the values\n",
    "    print('start getting dummies')\n",
    "    feat_dummies = pd.get_dummies(feat_df)\n",
    "    \n",
    "    return feat_dummies"
   ]
  },
  {
   "cell_type": "code",
   "execution_count": 258,
   "metadata": {},
   "outputs": [
    {
     "data": {
      "text/plain": [
       "(193079, 0.709816175659855)"
      ]
     },
     "execution_count": 258,
     "metadata": {},
     "output_type": "execute_result"
    }
   ],
   "source": [
    "# try to split into multiple columns\n",
    "count_freq_values(data['IP'], 5)"
   ]
  },
  {
   "cell_type": "code",
   "execution_count": 229,
   "metadata": {},
   "outputs": [
    {
     "data": {
      "text/plain": [
       "(331, 0.8097766467288575)"
      ]
     },
     "execution_count": 229,
     "metadata": {},
     "output_type": "execute_result"
    }
   ],
   "source": [
    "count_freq_values(data['domain'], 1000)"
   ]
  },
  {
   "cell_type": "code",
   "execution_count": 263,
   "metadata": {},
   "outputs": [
    {
     "data": {
      "text/plain": [
       "(1022, 0.34574056843326867)"
      ]
     },
     "execution_count": 263,
     "metadata": {},
     "output_type": "execute_result"
    }
   ],
   "source": [
    "# too many\n",
    "count_freq_values(data['url'], 250)"
   ]
  },
  {
   "cell_type": "code",
   "execution_count": 248,
   "metadata": {},
   "outputs": [
    {
     "data": {
      "text/plain": [
       "(673, 0.8031712669104668)"
      ]
     },
     "execution_count": 248,
     "metadata": {},
     "output_type": "execute_result"
    }
   ],
   "source": [
    "count_freq_values(data['slotid'], 500)"
   ]
  },
  {
   "cell_type": "code",
   "execution_count": 268,
   "metadata": {},
   "outputs": [
    {
     "data": {
      "text/plain": [
       "(1004, 0.5490216342728009)"
      ]
     },
     "execution_count": 268,
     "metadata": {},
     "output_type": "execute_result"
    }
   ],
   "source": [
    "# too many\n",
    "count_freq_values(data['usertag'], 115)"
   ]
  },
  {
   "cell_type": "code",
   "execution_count": 230,
   "metadata": {},
   "outputs": [
    {
     "name": "stdout",
     "output_type": "stream",
     "text": [
      "start getting dummies\n",
      "CPU times: user 2min 55s, sys: 2.34 s, total: 2min 58s\n",
      "Wall time: 2min 59s\n"
     ]
    }
   ],
   "source": [
    "%%time\n",
    "domain_dummies = convt_non_ord(data['domain'], 1000)"
   ]
  },
  {
   "cell_type": "code",
   "execution_count": 232,
   "metadata": {},
   "outputs": [
    {
     "data": {
      "text/plain": [
       "(3038281, 332)"
      ]
     },
     "execution_count": 232,
     "metadata": {},
     "output_type": "execute_result"
    }
   ],
   "source": [
    "domain_dummies.shape"
   ]
  },
  {
   "cell_type": "code",
   "execution_count": null,
   "metadata": {
    "collapsed": true
   },
   "outputs": [],
   "source": []
  },
  {
   "cell_type": "code",
   "execution_count": null,
   "metadata": {
    "collapsed": true
   },
   "outputs": [],
   "source": []
  },
  {
   "cell_type": "code",
   "execution_count": null,
   "metadata": {
    "collapsed": true
   },
   "outputs": [],
   "source": []
  },
  {
   "cell_type": "code",
   "execution_count": null,
   "metadata": {
    "collapsed": true
   },
   "outputs": [],
   "source": []
  }
 ],
 "metadata": {
  "kernelspec": {
   "display_name": "Python 3",
   "language": "python",
   "name": "python3"
  },
  "language_info": {
   "codemirror_mode": {
    "name": "ipython",
    "version": 3
   },
   "file_extension": ".py",
   "mimetype": "text/x-python",
   "name": "python",
   "nbconvert_exporter": "python",
   "pygments_lexer": "ipython3",
   "version": "3.6.3"
  }
 },
 "nbformat": 4,
 "nbformat_minor": 2
}
