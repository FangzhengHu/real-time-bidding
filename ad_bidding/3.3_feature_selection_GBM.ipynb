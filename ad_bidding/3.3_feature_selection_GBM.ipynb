{
 "cells": [
  {
   "cell_type": "code",
   "execution_count": 6,
   "metadata": {
    "collapsed": true
   },
   "outputs": [],
   "source": [
    "import pandas as pd\n",
    "import numpy as np\n",
    "import collections\n",
    "import random\n",
    "from collections import Counter\n",
    "\n",
    "import matplotlib.pyplot as plt\n",
    "\n",
    "from sklearn.ensemble import RandomForestClassifier\n",
    "from sklearn.metrics import roc_auc_score\n",
    "from sklearn.preprocessing import MultiLabelBinarizer\n",
    "\n",
    "import lightgbm as lgb\n",
    "%matplotlib inline"
   ]
  },
  {
   "cell_type": "code",
   "execution_count": 2,
   "metadata": {
    "collapsed": true
   },
   "outputs": [],
   "source": [
    "train = pd.read_csv('./data/train.csv')\n",
    "valid = pd.read_csv('./data/validation.csv')\n",
    "test  = pd.read_csv('./data/test.csv')"
   ]
  },
  {
   "cell_type": "code",
   "execution_count": 48,
   "metadata": {
    "collapsed": true
   },
   "outputs": [],
   "source": [
    "# specify configurations as dict\n",
    "params = {\n",
    "    'task': 'train',\n",
    "    'boosting_type': 'gbdt', # ?\n",
    "    'objective': 'regression',\n",
    "    'metric': {'l2', 'auc'},\n",
    "    'num_leaves': 31,\n",
    "    'learning_rate': 0.05,\n",
    "    'feature_fraction': 0.9,\n",
    "    'bagging_fraction': 0.8,\n",
    "    'bagging_freq': 5,\n",
    "    'verbose': 0\n",
    "}"
   ]
  },
  {
   "cell_type": "code",
   "execution_count": 20,
   "metadata": {
    "collapsed": true
   },
   "outputs": [],
   "source": [
    "def lgb_data(train_data, valid_data):\n",
    "    \"\"\"\n",
    "    create dataset for lightgbm\n",
    "    \"\"\"\n",
    "    y_train = train_data['click'].values\n",
    "    y_valid = valid_data['click'].values\n",
    "    X_train = train_data.drop('click', axis=1)\n",
    "    X_valid = valid_data.drop('click', axis=1)\n",
    "\n",
    "#     lgb_train = lgb.Dataset(X_train, y_train, categorical_feature= cat_feats, free_raw_data=False) #  ,feature_name=X_train.columns\n",
    "#     lgb_valid = lgb.Dataset(X_valid, y_valid, reference=lgb_train, categorical_feature= cat_feats, free_raw_data=False)\n",
    "\n",
    "    lgb_train = lgb.Dataset(X_train, y_train, free_raw_data=False) #  ,feature_name=X_train.columns\n",
    "    lgb_valid = lgb.Dataset(X_valid, y_valid, reference=lgb_train, free_raw_data=False)\n",
    "    \n",
    "    return lgb_train, lgb_valid"
   ]
  },
  {
   "cell_type": "markdown",
   "metadata": {
    "heading_collapsed": true
   },
   "source": [
    "# 1. Start with simple features\n",
    "auc = 0.62"
   ]
  },
  {
   "cell_type": "code",
   "execution_count": 4,
   "metadata": {
    "hidden": true
   },
   "outputs": [
    {
     "data": {
      "text/plain": [
       "(3038281, 24)"
      ]
     },
     "execution_count": 4,
     "metadata": {},
     "output_type": "execute_result"
    }
   ],
   "source": [
    "X_all = pd.concat([train.drop('click',axis=1), \n",
    "                   valid.drop('click', axis=1),\n",
    "                   test], axis=0)\n",
    "X_all.shape"
   ]
  },
  {
   "cell_type": "code",
   "execution_count": 67,
   "metadata": {
    "collapsed": true,
    "hidden": true
   },
   "outputs": [],
   "source": [
    "# drop useless columns\n",
    "drop_cols = ['bidprice','payprice', 'bidid', 'userid', 'url', 'urlid' ]\n",
    "\n",
    "train_data = train.drop(drop_cols, axis=1)\n",
    "valid_data = valid.drop(drop_cols, axis=1)\n",
    "\n",
    "# for simplification, drop many-value features \n",
    "smp_drop_cols = ['IP', 'domain', 'slotid', 'usertag']\n",
    "train_data = train_data.drop(smp_drop_cols, axis=1)\n",
    "valid_data = valid_data.drop(smp_drop_cols, axis=1)\n",
    "\n",
    "# for simplification, drop categorical features \n",
    "cat_feats = ['useragent', 'adexchange', 'slotvisibility', 'slotformat', 'creative', 'keypage']\n",
    "train_data = train_data.drop(cat_feats, axis=1)\n",
    "valid_data = valid_data.drop(cat_feats, axis=1)"
   ]
  },
  {
   "cell_type": "code",
   "execution_count": 21,
   "metadata": {
    "hidden": true,
    "scrolled": true
   },
   "outputs": [
    {
     "name": "stdout",
     "output_type": "stream",
     "text": [
      "[1]\tvalid_0's l2: 0.000664171\tvalid_0's auc: 0.596453\n",
      "Training until validation scores don't improve for 5 rounds.\n",
      "[2]\tvalid_0's l2: 0.000664141\tvalid_0's auc: 0.601192\n",
      "[3]\tvalid_0's l2: 0.000664083\tvalid_0's auc: 0.618365\n",
      "[4]\tvalid_0's l2: 0.00066407\tvalid_0's auc: 0.613268\n",
      "[5]\tvalid_0's l2: 0.00066406\tvalid_0's auc: 0.619763\n",
      "[6]\tvalid_0's l2: 0.000664042\tvalid_0's auc: 0.619762\n",
      "[7]\tvalid_0's l2: 0.000664015\tvalid_0's auc: 0.618835\n",
      "[8]\tvalid_0's l2: 0.000663998\tvalid_0's auc: 0.621834\n",
      "[9]\tvalid_0's l2: 0.000663992\tvalid_0's auc: 0.621852\n",
      "[10]\tvalid_0's l2: 0.000663997\tvalid_0's auc: 0.621792\n",
      "[11]\tvalid_0's l2: 0.000664006\tvalid_0's auc: 0.621805\n",
      "[12]\tvalid_0's l2: 0.000664013\tvalid_0's auc: 0.632818\n",
      "[13]\tvalid_0's l2: 0.000664023\tvalid_0's auc: 0.633355\n",
      "[14]\tvalid_0's l2: 0.000664036\tvalid_0's auc: 0.633712\n",
      "Early stopping, best iteration is:\n",
      "[9]\tvalid_0's l2: 0.000663992\tvalid_0's auc: 0.621852\n"
     ]
    }
   ],
   "source": [
    "lgb_train, lgb_valid = lgb_data(train_data, valid_data)\n",
    "gbm = lgb.train(params, lgb_train, num_boost_round=20, valid_sets=lgb_valid, early_stopping_rounds=5)"
   ]
  },
  {
   "cell_type": "markdown",
   "metadata": {},
   "source": [
    "# 2. Add basic categorical features\n",
    "auc = 0.71"
   ]
  },
  {
   "cell_type": "code",
   "execution_count": 22,
   "metadata": {
    "collapsed": true
   },
   "outputs": [],
   "source": [
    "def convt_cat(feat):\n",
    "    \"\"\"\n",
    "    convert string values of categorical feature to int\n",
    "    \n",
    "    input:\n",
    "    @feat(str): name of the feautre to be converted\n",
    "    return:\n",
    "    @feat_int(Series of int): integer representation of the categorical feature\n",
    "    \"\"\"\n",
    "#     feat = 'useragent'\n",
    "    \n",
    "    cat_series = pd.Series(X_all[feat], dtype='category', name=feat)\n",
    "    num_cat = len(set(X_all[feat]))\n",
    "    feat_int = cat_series.cat.rename_categories([x for x in range(num_cat)])\n",
    "    \n",
    "    return feat_int\n",
    "   "
   ]
  },
  {
   "cell_type": "code",
   "execution_count": 23,
   "metadata": {
    "collapsed": true
   },
   "outputs": [],
   "source": [
    "def add_cat(feat_names, train, valid, cat=True, evl=False):\n",
    "    \"\"\"\n",
    "    Adding extra categorical features accumulatively,\n",
    "    Also allows investigate how the performance change accordingly\n",
    "    input:\n",
    "    @feats(list): names of the feature to be investigated\n",
    "    @cat(bool): if or not set the additional feature as pandas.Series.category\n",
    "    @elv(bool): if or not evaluate the performance for each concated DF\n",
    "    output:\n",
    "    @train, valid(df): data after concating all investigated features \n",
    "    Print the performance\n",
    "    \"\"\"\n",
    "    for feat_name in feat_names:\n",
    "        print('Add feature: {}'.format(feat_name))\n",
    "        feat_int = convt_cat(feat_name)\n",
    "        # concat additional column\n",
    "        train = pd.concat([train, feat_int.rename(feat_name).iloc[:train.shape[0]]], axis=1)\n",
    "        valid = pd.concat([valid, feat_int.rename(feat_name).iloc[train.shape[0]:(train.shape[0]+valid.shape[0])]], axis=1)\n",
    "        \n",
    "        if not cat:\n",
    "            for col in train.columns:\n",
    "                train[col] = train[col].astype(int)\n",
    "                valid[col] = valid[col].astype(int)\n",
    "        \n",
    "        if evl:\n",
    "            lgb_train, lgb_valid = lgb_data(train, valid)\n",
    "\n",
    "            gbm = lgb.train(params,\n",
    "                    lgb_train,\n",
    "                    num_boost_round=20,\n",
    "                    valid_sets=lgb_valid,\n",
    "                    early_stopping_rounds=5)\n",
    "    \n",
    "    return train, valid\n",
    "    "
   ]
  },
  {
   "cell_type": "code",
   "execution_count": 68,
   "metadata": {},
   "outputs": [
    {
     "name": "stdout",
     "output_type": "stream",
     "text": [
      "Add feature: useragent\n",
      "Add feature: adexchange\n",
      "Add feature: slotvisibility\n",
      "Add feature: slotformat\n",
      "Add feature: creative\n",
      "Add feature: keypage\n"
     ]
    }
   ],
   "source": [
    "### all cat_feats # 0.712\n",
    "# # adexchange is disposable -> 0.714\n",
    "cat_feats = ['useragent', 'adexchange', 'slotvisibility', 'slotformat', 'creative', 'keypage']\n",
    "train_data, valid_data = add_cat(cat_feats, train_data, valid_data, evl=False)"
   ]
  },
  {
   "cell_type": "code",
   "execution_count": 25,
   "metadata": {},
   "outputs": [
    {
     "name": "stderr",
     "output_type": "stream",
     "text": [
      "/Users/fangzhenghu/Documents/Tools/anaconda3/lib/python3.6/site-packages/lightgbm/basic.py:681: UserWarning: categorical_feature in param dict is overrided.\n",
      "  warnings.warn('categorical_feature in param dict is overrided.')\n"
     ]
    },
    {
     "name": "stdout",
     "output_type": "stream",
     "text": [
      "[1]\tvalid_0's l2: 0.00066412\tvalid_0's auc: 0.663687\n",
      "Training until validation scores don't improve for 5 rounds.\n",
      "[2]\tvalid_0's l2: 0.000664064\tvalid_0's auc: 0.6584\n",
      "[3]\tvalid_0's l2: 0.000664024\tvalid_0's auc: 0.686115\n",
      "[4]\tvalid_0's l2: 0.000663917\tvalid_0's auc: 0.682625\n",
      "[5]\tvalid_0's l2: 0.000663871\tvalid_0's auc: 0.685961\n",
      "[6]\tvalid_0's l2: 0.000663766\tvalid_0's auc: 0.698957\n",
      "[7]\tvalid_0's l2: 0.000663739\tvalid_0's auc: 0.703411\n",
      "[8]\tvalid_0's l2: 0.000663664\tvalid_0's auc: 0.70478\n",
      "[9]\tvalid_0's l2: 0.000663651\tvalid_0's auc: 0.699383\n",
      "[10]\tvalid_0's l2: 0.000663628\tvalid_0's auc: 0.69923\n",
      "[11]\tvalid_0's l2: 0.000663569\tvalid_0's auc: 0.699907\n",
      "[12]\tvalid_0's l2: 0.000663524\tvalid_0's auc: 0.707592\n",
      "[13]\tvalid_0's l2: 0.000663506\tvalid_0's auc: 0.707623\n",
      "[14]\tvalid_0's l2: 0.000663504\tvalid_0's auc: 0.707667\n",
      "[15]\tvalid_0's l2: 0.00066344\tvalid_0's auc: 0.71277\n",
      "[16]\tvalid_0's l2: 0.000663451\tvalid_0's auc: 0.712491\n",
      "[17]\tvalid_0's l2: 0.000663471\tvalid_0's auc: 0.712577\n",
      "[18]\tvalid_0's l2: 0.000663508\tvalid_0's auc: 0.712957\n",
      "[19]\tvalid_0's l2: 0.000663537\tvalid_0's auc: 0.712891\n",
      "[20]\tvalid_0's l2: 0.00066358\tvalid_0's auc: 0.71286\n",
      "Early stopping, best iteration is:\n",
      "[15]\tvalid_0's l2: 0.00066344\tvalid_0's auc: 0.71277\n"
     ]
    }
   ],
   "source": [
    "lgb_train, lgb_valid = lgb_data(train_data, valid_data)\n",
    "gbm = lgb.train(params, lgb_train, num_boost_round=20, valid_sets=lgb_valid, early_stopping_rounds=5)"
   ]
  },
  {
   "cell_type": "markdown",
   "metadata": {},
   "source": [
    "# 3. Add feature with special structure\n",
    "auc = 0.79"
   ]
  },
  {
   "cell_type": "markdown",
   "metadata": {},
   "source": [
    "### usertag*\n",
    "0.71 -> 0.77"
   ]
  },
  {
   "cell_type": "code",
   "execution_count": 26,
   "metadata": {
    "collapsed": true
   },
   "outputs": [],
   "source": [
    "usertag = X_all['usertag'].str.split(',')"
   ]
  },
  {
   "cell_type": "code",
   "execution_count": 69,
   "metadata": {},
   "outputs": [
    {
     "data": {
      "text/plain": [
       "(3038281, 69)"
      ]
     },
     "execution_count": 69,
     "metadata": {},
     "output_type": "execute_result"
    }
   ],
   "source": [
    "# binarinize feature with list of values\n",
    "mlb = MultiLabelBinarizer()\n",
    "usertag_dm = mlb.fit_transform(usertag)\n",
    "usertag_df = pd.DataFrame(usertag_dm).add_prefix('usertag_')\n",
    "usertag_df.shape"
   ]
  },
  {
   "cell_type": "code",
   "execution_count": 70,
   "metadata": {},
   "outputs": [
    {
     "data": {
      "text/html": [
       "<div>\n",
       "<style>\n",
       "    .dataframe thead tr:only-child th {\n",
       "        text-align: right;\n",
       "    }\n",
       "\n",
       "    .dataframe thead th {\n",
       "        text-align: left;\n",
       "    }\n",
       "\n",
       "    .dataframe tbody tr th {\n",
       "        vertical-align: top;\n",
       "    }\n",
       "</style>\n",
       "<table border=\"1\" class=\"dataframe\">\n",
       "  <thead>\n",
       "    <tr style=\"text-align: right;\">\n",
       "      <th></th>\n",
       "      <th>usertag_0</th>\n",
       "      <th>usertag_1</th>\n",
       "      <th>usertag_2</th>\n",
       "      <th>usertag_3</th>\n",
       "      <th>usertag_4</th>\n",
       "      <th>usertag_5</th>\n",
       "      <th>usertag_6</th>\n",
       "      <th>usertag_7</th>\n",
       "      <th>usertag_8</th>\n",
       "      <th>usertag_9</th>\n",
       "      <th>...</th>\n",
       "      <th>usertag_59</th>\n",
       "      <th>usertag_60</th>\n",
       "      <th>usertag_61</th>\n",
       "      <th>usertag_62</th>\n",
       "      <th>usertag_63</th>\n",
       "      <th>usertag_64</th>\n",
       "      <th>usertag_65</th>\n",
       "      <th>usertag_66</th>\n",
       "      <th>usertag_67</th>\n",
       "      <th>usertag_68</th>\n",
       "    </tr>\n",
       "  </thead>\n",
       "  <tbody>\n",
       "    <tr>\n",
       "      <th>0</th>\n",
       "      <td>0</td>\n",
       "      <td>0</td>\n",
       "      <td>0</td>\n",
       "      <td>0</td>\n",
       "      <td>0</td>\n",
       "      <td>0</td>\n",
       "      <td>0</td>\n",
       "      <td>0</td>\n",
       "      <td>0</td>\n",
       "      <td>0</td>\n",
       "      <td>...</td>\n",
       "      <td>0</td>\n",
       "      <td>0</td>\n",
       "      <td>0</td>\n",
       "      <td>0</td>\n",
       "      <td>0</td>\n",
       "      <td>0</td>\n",
       "      <td>0</td>\n",
       "      <td>0</td>\n",
       "      <td>0</td>\n",
       "      <td>1</td>\n",
       "    </tr>\n",
       "    <tr>\n",
       "      <th>1</th>\n",
       "      <td>0</td>\n",
       "      <td>0</td>\n",
       "      <td>0</td>\n",
       "      <td>0</td>\n",
       "      <td>0</td>\n",
       "      <td>0</td>\n",
       "      <td>0</td>\n",
       "      <td>0</td>\n",
       "      <td>0</td>\n",
       "      <td>0</td>\n",
       "      <td>...</td>\n",
       "      <td>0</td>\n",
       "      <td>0</td>\n",
       "      <td>0</td>\n",
       "      <td>0</td>\n",
       "      <td>0</td>\n",
       "      <td>0</td>\n",
       "      <td>0</td>\n",
       "      <td>0</td>\n",
       "      <td>0</td>\n",
       "      <td>1</td>\n",
       "    </tr>\n",
       "    <tr>\n",
       "      <th>2</th>\n",
       "      <td>1</td>\n",
       "      <td>0</td>\n",
       "      <td>0</td>\n",
       "      <td>0</td>\n",
       "      <td>1</td>\n",
       "      <td>0</td>\n",
       "      <td>0</td>\n",
       "      <td>0</td>\n",
       "      <td>0</td>\n",
       "      <td>0</td>\n",
       "      <td>...</td>\n",
       "      <td>0</td>\n",
       "      <td>0</td>\n",
       "      <td>0</td>\n",
       "      <td>0</td>\n",
       "      <td>0</td>\n",
       "      <td>0</td>\n",
       "      <td>0</td>\n",
       "      <td>0</td>\n",
       "      <td>0</td>\n",
       "      <td>0</td>\n",
       "    </tr>\n",
       "    <tr>\n",
       "      <th>3</th>\n",
       "      <td>0</td>\n",
       "      <td>0</td>\n",
       "      <td>0</td>\n",
       "      <td>0</td>\n",
       "      <td>0</td>\n",
       "      <td>0</td>\n",
       "      <td>0</td>\n",
       "      <td>1</td>\n",
       "      <td>0</td>\n",
       "      <td>0</td>\n",
       "      <td>...</td>\n",
       "      <td>0</td>\n",
       "      <td>0</td>\n",
       "      <td>0</td>\n",
       "      <td>0</td>\n",
       "      <td>0</td>\n",
       "      <td>0</td>\n",
       "      <td>0</td>\n",
       "      <td>0</td>\n",
       "      <td>0</td>\n",
       "      <td>0</td>\n",
       "    </tr>\n",
       "    <tr>\n",
       "      <th>4</th>\n",
       "      <td>0</td>\n",
       "      <td>0</td>\n",
       "      <td>0</td>\n",
       "      <td>0</td>\n",
       "      <td>0</td>\n",
       "      <td>0</td>\n",
       "      <td>0</td>\n",
       "      <td>0</td>\n",
       "      <td>0</td>\n",
       "      <td>0</td>\n",
       "      <td>...</td>\n",
       "      <td>0</td>\n",
       "      <td>0</td>\n",
       "      <td>0</td>\n",
       "      <td>0</td>\n",
       "      <td>0</td>\n",
       "      <td>0</td>\n",
       "      <td>0</td>\n",
       "      <td>0</td>\n",
       "      <td>0</td>\n",
       "      <td>1</td>\n",
       "    </tr>\n",
       "  </tbody>\n",
       "</table>\n",
       "<p>5 rows × 69 columns</p>\n",
       "</div>"
      ],
      "text/plain": [
       "   usertag_0  usertag_1  usertag_2  usertag_3  usertag_4  usertag_5  \\\n",
       "0          0          0          0          0          0          0   \n",
       "1          0          0          0          0          0          0   \n",
       "2          1          0          0          0          1          0   \n",
       "3          0          0          0          0          0          0   \n",
       "4          0          0          0          0          0          0   \n",
       "\n",
       "   usertag_6  usertag_7  usertag_8  usertag_9     ...      usertag_59  \\\n",
       "0          0          0          0          0     ...               0   \n",
       "1          0          0          0          0     ...               0   \n",
       "2          0          0          0          0     ...               0   \n",
       "3          0          1          0          0     ...               0   \n",
       "4          0          0          0          0     ...               0   \n",
       "\n",
       "   usertag_60  usertag_61  usertag_62  usertag_63  usertag_64  usertag_65  \\\n",
       "0           0           0           0           0           0           0   \n",
       "1           0           0           0           0           0           0   \n",
       "2           0           0           0           0           0           0   \n",
       "3           0           0           0           0           0           0   \n",
       "4           0           0           0           0           0           0   \n",
       "\n",
       "   usertag_66  usertag_67  usertag_68  \n",
       "0           0           0           1  \n",
       "1           0           0           1  \n",
       "2           0           0           0  \n",
       "3           0           0           0  \n",
       "4           0           0           1  \n",
       "\n",
       "[5 rows x 69 columns]"
      ]
     },
     "execution_count": 70,
     "metadata": {},
     "output_type": "execute_result"
    }
   ],
   "source": [
    "usertag_df.head()"
   ]
  },
  {
   "cell_type": "code",
   "execution_count": 71,
   "metadata": {
    "collapsed": true
   },
   "outputs": [],
   "source": [
    "usertag_train = usertag_df.iloc[:train.shape[0]]\n",
    "usertag_valid = usertag_df.iloc[train.shape[0]: train.shape[0] + valid.shape[0]].reset_index(drop=True)"
   ]
  },
  {
   "cell_type": "code",
   "execution_count": 73,
   "metadata": {},
   "outputs": [
    {
     "data": {
      "text/plain": [
       "((2430981, 84), (303925, 84))"
      ]
     },
     "execution_count": 73,
     "metadata": {},
     "output_type": "execute_result"
    }
   ],
   "source": [
    "train_data = pd.concat([train_data, usertag_train], 1)\n",
    "valid_data = pd.concat([valid_data, usertag_valid], 1)\n",
    "\n",
    "train_data.shape, valid_data.shape"
   ]
  },
  {
   "cell_type": "code",
   "execution_count": 34,
   "metadata": {
    "scrolled": false
   },
   "outputs": [
    {
     "name": "stderr",
     "output_type": "stream",
     "text": [
      "/Users/fangzhenghu/Documents/Tools/anaconda3/lib/python3.6/site-packages/lightgbm/basic.py:681: UserWarning: categorical_feature in param dict is overrided.\n",
      "  warnings.warn('categorical_feature in param dict is overrided.')\n"
     ]
    },
    {
     "name": "stdout",
     "output_type": "stream",
     "text": [
      "[1]\tvalid_0's l2: 0.000658959\tvalid_0's auc: 0.690401\n",
      "Training until validation scores don't improve for 5 rounds.\n",
      "[2]\tvalid_0's l2: 0.000653869\tvalid_0's auc: 0.765204\n",
      "[3]\tvalid_0's l2: 0.000649685\tvalid_0's auc: 0.765207\n",
      "[4]\tvalid_0's l2: 0.000649383\tvalid_0's auc: 0.76668\n",
      "[5]\tvalid_0's l2: 0.000645757\tvalid_0's auc: 0.765719\n",
      "[6]\tvalid_0's l2: 0.00064172\tvalid_0's auc: 0.766045\n",
      "[7]\tvalid_0's l2: 0.000638934\tvalid_0's auc: 0.766303\n",
      "[8]\tvalid_0's l2: 0.000634889\tvalid_0's auc: 0.766314\n",
      "[9]\tvalid_0's l2: 0.000631425\tvalid_0's auc: 0.766333\n",
      "Early stopping, best iteration is:\n",
      "[4]\tvalid_0's l2: 0.000649383\tvalid_0's auc: 0.76668\n"
     ]
    }
   ],
   "source": [
    "lgb_train, lgb_valid = lgb_data(train_data, valid_data)\n",
    "gbm = lgb.train(params, lgb_train, num_boost_round=20, valid_sets=lgb_valid, early_stopping_rounds=5)"
   ]
  },
  {
   "cell_type": "markdown",
   "metadata": {
    "heading_collapsed": true
   },
   "source": [
    "### domain"
   ]
  },
  {
   "cell_type": "markdown",
   "metadata": {
    "hidden": true
   },
   "source": [
    "0.77 -> 0.70"
   ]
  },
  {
   "cell_type": "code",
   "execution_count": 35,
   "metadata": {
    "collapsed": true,
    "hidden": true
   },
   "outputs": [],
   "source": [
    "domain_int = convt_cat('domain')"
   ]
  },
  {
   "cell_type": "code",
   "execution_count": 36,
   "metadata": {
    "collapsed": true,
    "hidden": true
   },
   "outputs": [],
   "source": [
    "train_tmp = pd.concat([train_data, domain_int.rename('domain')[:train.shape[0]]], 1)\n",
    "valid_tmp = pd.concat([valid_data, domain_int.rename('domain')[train.shape[0]:train.shape[0]+valid.shape[0]]], 1)"
   ]
  },
  {
   "cell_type": "code",
   "execution_count": 37,
   "metadata": {
    "hidden": true,
    "scrolled": false
   },
   "outputs": [
    {
     "name": "stderr",
     "output_type": "stream",
     "text": [
      "/Users/fangzhenghu/Documents/Tools/anaconda3/lib/python3.6/site-packages/lightgbm/basic.py:681: UserWarning: categorical_feature in param dict is overrided.\n",
      "  warnings.warn('categorical_feature in param dict is overrided.')\n"
     ]
    },
    {
     "name": "stdout",
     "output_type": "stream",
     "text": [
      "[1]\tvalid_0's l2: 0.000658923\tvalid_0's auc: 0.700645\n",
      "Training until validation scores don't improve for 5 rounds.\n",
      "[2]\tvalid_0's l2: 0.000654044\tvalid_0's auc: 0.701611\n",
      "[3]\tvalid_0's l2: 0.000649627\tvalid_0's auc: 0.701606\n",
      "[4]\tvalid_0's l2: 0.000645991\tvalid_0's auc: 0.701442\n",
      "[5]\tvalid_0's l2: 0.000642251\tvalid_0's auc: 0.700951\n",
      "[6]\tvalid_0's l2: 0.000639166\tvalid_0's auc: 0.700933\n",
      "[7]\tvalid_0's l2: 0.000636072\tvalid_0's auc: 0.700822\n",
      "Early stopping, best iteration is:\n",
      "[2]\tvalid_0's l2: 0.000654044\tvalid_0's auc: 0.701611\n"
     ]
    }
   ],
   "source": [
    "# evaluate the chosen features\n",
    "lgb_train, lgb_valid = lgb_data(train_tmp, valid_tmp)\n",
    "gbm = lgb.train(params, lgb_train, num_boost_round=20, valid_sets=lgb_valid, early_stopping_rounds=5)"
   ]
  },
  {
   "cell_type": "markdown",
   "metadata": {
    "heading_collapsed": true
   },
   "source": [
    "### slotid*\n",
    "0.77 -> 0.79"
   ]
  },
  {
   "cell_type": "code",
   "execution_count": 49,
   "metadata": {
    "collapsed": true,
    "hidden": true
   },
   "outputs": [],
   "source": [
    "slotid_int = convt_cat('slotid')"
   ]
  },
  {
   "cell_type": "code",
   "execution_count": 74,
   "metadata": {
    "collapsed": true,
    "hidden": true
   },
   "outputs": [],
   "source": [
    "train_data = pd.concat([train_data, slotid_int.rename('slotid')[:train.shape[0]]], 1)\n",
    "valid_data = pd.concat([valid_data, slotid_int.rename('slotid')[train.shape[0]:train.shape[0]+valid.shape[0]]], 1)"
   ]
  },
  {
   "cell_type": "code",
   "execution_count": 62,
   "metadata": {
    "hidden": true,
    "scrolled": false
   },
   "outputs": [
    {
     "name": "stderr",
     "output_type": "stream",
     "text": [
      "/Users/fangzhenghu/Documents/Tools/anaconda3/lib/python3.6/site-packages/lightgbm/basic.py:681: UserWarning: categorical_feature in param dict is overrided.\n",
      "  warnings.warn('categorical_feature in param dict is overrided.')\n"
     ]
    },
    {
     "name": "stdout",
     "output_type": "stream",
     "text": [
      "[1]\tvalid_0's l2: 0.000659133\tvalid_0's auc: 0.66821\n",
      "Training until validation scores don't improve for 5 rounds.\n",
      "[2]\tvalid_0's l2: 0.000654246\tvalid_0's auc: 0.706725\n",
      "[3]\tvalid_0's l2: 0.0006498\tvalid_0's auc: 0.706691\n",
      "[4]\tvalid_0's l2: 0.000646493\tvalid_0's auc: 0.706612\n",
      "[5]\tvalid_0's l2: 0.000642733\tvalid_0's auc: 0.707554\n",
      "[6]\tvalid_0's l2: 0.000639673\tvalid_0's auc: 0.70844\n",
      "[7]\tvalid_0's l2: 0.000636337\tvalid_0's auc: 0.708435\n",
      "[8]\tvalid_0's l2: 0.000636135\tvalid_0's auc: 0.726657\n",
      "[9]\tvalid_0's l2: 0.00063329\tvalid_0's auc: 0.726684\n",
      "[10]\tvalid_0's l2: 0.000630925\tvalid_0's auc: 0.726246\n",
      "[11]\tvalid_0's l2: 0.000628911\tvalid_0's auc: 0.726119\n",
      "[12]\tvalid_0's l2: 0.000628566\tvalid_0's auc: 0.783827\n",
      "[13]\tvalid_0's l2: 0.000626868\tvalid_0's auc: 0.783773\n",
      "[14]\tvalid_0's l2: 0.00062506\tvalid_0's auc: 0.783715\n",
      "[15]\tvalid_0's l2: 0.000623285\tvalid_0's auc: 0.782891\n",
      "[16]\tvalid_0's l2: 0.000620188\tvalid_0's auc: 0.785003\n",
      "[17]\tvalid_0's l2: 0.000618499\tvalid_0's auc: 0.784848\n",
      "[18]\tvalid_0's l2: 0.000616916\tvalid_0's auc: 0.784284\n",
      "[19]\tvalid_0's l2: 0.000612563\tvalid_0's auc: 0.789116\n",
      "[20]\tvalid_0's l2: 0.000611254\tvalid_0's auc: 0.789086\n",
      "Did not meet early stopping. Best iteration is:\n",
      "[20]\tvalid_0's l2: 0.000611254\tvalid_0's auc: 0.789086\n"
     ]
    }
   ],
   "source": [
    "# evaluate the chosen features\n",
    "lgb_train, lgb_valid = lgb_data(train_data, valid_data)\n",
    "gbm = lgb.train(params, lgb_train, num_boost_round=20, valid_sets=lgb_valid, early_stopping_rounds=5)"
   ]
  },
  {
   "cell_type": "code",
   "execution_count": 75,
   "metadata": {
    "hidden": true,
    "scrolled": true
   },
   "outputs": [
    {
     "data": {
      "text/plain": [
       "Index(['click', 'weekday', 'hour', 'region', 'city', 'slotwidth', 'slotheight',\n",
       "       'slotprice', 'advertiser', 'useragent', 'adexchange', 'slotvisibility',\n",
       "       'slotformat', 'creative', 'keypage', 'usertag_0', 'usertag_1',\n",
       "       'usertag_2', 'usertag_3', 'usertag_4', 'usertag_5', 'usertag_6',\n",
       "       'usertag_7', 'usertag_8', 'usertag_9', 'usertag_10', 'usertag_11',\n",
       "       'usertag_12', 'usertag_13', 'usertag_14', 'usertag_15', 'usertag_16',\n",
       "       'usertag_17', 'usertag_18', 'usertag_19', 'usertag_20', 'usertag_21',\n",
       "       'usertag_22', 'usertag_23', 'usertag_24', 'usertag_25', 'usertag_26',\n",
       "       'usertag_27', 'usertag_28', 'usertag_29', 'usertag_30', 'usertag_31',\n",
       "       'usertag_32', 'usertag_33', 'usertag_34', 'usertag_35', 'usertag_36',\n",
       "       'usertag_37', 'usertag_38', 'usertag_39', 'usertag_40', 'usertag_41',\n",
       "       'usertag_42', 'usertag_43', 'usertag_44', 'usertag_45', 'usertag_46',\n",
       "       'usertag_47', 'usertag_48', 'usertag_49', 'usertag_50', 'usertag_51',\n",
       "       'usertag_52', 'usertag_53', 'usertag_54', 'usertag_55', 'usertag_56',\n",
       "       'usertag_57', 'usertag_58', 'usertag_59', 'usertag_60', 'usertag_61',\n",
       "       'usertag_62', 'usertag_63', 'usertag_64', 'usertag_65', 'usertag_66',\n",
       "       'usertag_67', 'usertag_68', 'slotid'],\n",
       "      dtype='object')"
      ]
     },
     "execution_count": 75,
     "metadata": {},
     "output_type": "execute_result"
    }
   ],
   "source": [
    "train_data.columns"
   ]
  },
  {
   "cell_type": "markdown",
   "metadata": {},
   "source": [
    "### IP\n",
    "0.79 -> 0.76"
   ]
  },
  {
   "cell_type": "markdown",
   "metadata": {
    "heading_collapsed": true
   },
   "source": [
    "#### add IP directly"
   ]
  },
  {
   "cell_type": "code",
   "execution_count": 76,
   "metadata": {
    "collapsed": true,
    "hidden": true
   },
   "outputs": [],
   "source": [
    "IP_int = convt_cat('IP')"
   ]
  },
  {
   "cell_type": "code",
   "execution_count": 77,
   "metadata": {
    "hidden": true,
    "scrolled": true
   },
   "outputs": [
    {
     "name": "stderr",
     "output_type": "stream",
     "text": [
      "/Users/fangzhenghu/Documents/Tools/anaconda3/lib/python3.6/site-packages/lightgbm/basic.py:681: UserWarning: categorical_feature in param dict is overrided.\n",
      "  warnings.warn('categorical_feature in param dict is overrided.')\n"
     ]
    },
    {
     "name": "stdout",
     "output_type": "stream",
     "text": [
      "[1]\tvalid_0's l2: 0.000659013\tvalid_0's auc: 0.696071\n",
      "Training until validation scores don't improve for 5 rounds.\n",
      "[2]\tvalid_0's l2: 0.000654388\tvalid_0's auc: 0.708236\n",
      "[3]\tvalid_0's l2: 0.000649837\tvalid_0's auc: 0.708024\n",
      "[4]\tvalid_0's l2: 0.000645928\tvalid_0's auc: 0.707736\n",
      "[5]\tvalid_0's l2: 0.000642579\tvalid_0's auc: 0.707477\n",
      "[6]\tvalid_0's l2: 0.000639189\tvalid_0's auc: 0.710534\n",
      "[7]\tvalid_0's l2: 0.000636679\tvalid_0's auc: 0.710484\n",
      "[8]\tvalid_0's l2: 0.00063637\tvalid_0's auc: 0.705502\n",
      "[9]\tvalid_0's l2: 0.000633388\tvalid_0's auc: 0.758492\n",
      "[10]\tvalid_0's l2: 0.000630339\tvalid_0's auc: 0.75844\n",
      "[11]\tvalid_0's l2: 0.000630126\tvalid_0's auc: 0.758157\n",
      "[12]\tvalid_0's l2: 0.000628068\tvalid_0's auc: 0.757998\n",
      "[13]\tvalid_0's l2: 0.00062641\tvalid_0's auc: 0.757892\n",
      "[14]\tvalid_0's l2: 0.000624935\tvalid_0's auc: 0.757946\n",
      "Early stopping, best iteration is:\n",
      "[9]\tvalid_0's l2: 0.000633388\tvalid_0's auc: 0.758492\n"
     ]
    }
   ],
   "source": [
    "train_tmp = pd.concat([train_data, IP_int.rename('IP')[:train.shape[0]]], 1)\n",
    "valid_tmp = pd.concat([valid_data, IP_int.rename('IP')[train.shape[0]:train.shape[0]+valid.shape[0]]], 1)\n",
    "# evaluate the chosen features\n",
    "lgb_train, lgb_valid = lgb_data(train_tmp, valid_tmp)\n",
    "gbm = lgb.train(params, lgb_train, num_boost_round=20, valid_sets=lgb_valid, early_stopping_rounds=5)"
   ]
  },
  {
   "cell_type": "markdown",
   "metadata": {},
   "source": [
    "#### Split IP then add it"
   ]
  },
  {
   "cell_type": "code",
   "execution_count": 78,
   "metadata": {
    "collapsed": true
   },
   "outputs": [],
   "source": [
    "IPs = X_all['IP']"
   ]
  },
  {
   "cell_type": "code",
   "execution_count": 89,
   "metadata": {
    "collapsed": true
   },
   "outputs": [],
   "source": [
    "IPs = X_all['IP'].str.split('.')"
   ]
  },
  {
   "cell_type": "code",
   "execution_count": 99,
   "metadata": {
    "collapsed": true
   },
   "outputs": [],
   "source": [
    "# IPs_df = IPs.apply(lambda l: pd.Series(l))"
   ]
  },
  {
   "cell_type": "code",
   "execution_count": 100,
   "metadata": {},
   "outputs": [
    {
     "name": "stdout",
     "output_type": "stream",
     "text": [
      "CPU times: user 2min 10s, sys: 10.3 s, total: 2min 20s\n",
      "Wall time: 2min 23s\n"
     ]
    }
   ],
   "source": [
    "%%time\n",
    "IPs_df = pd.DataFrame.from_items(zip(IPs.index, IPs.values)).T"
   ]
  },
  {
   "cell_type": "code",
   "execution_count": 113,
   "metadata": {
    "collapsed": true
   },
   "outputs": [],
   "source": [
    "IPs_df.iloc[:,0] = IPs_df.iloc[:,0].astype('category')"
   ]
  },
  {
   "cell_type": "code",
   "execution_count": 123,
   "metadata": {
    "collapsed": true
   },
   "outputs": [],
   "source": [
    "for i in range(3):\n",
    "    IPs_df[i] = IPs_df[i].astype('category')"
   ]
  },
  {
   "cell_type": "code",
   "execution_count": 125,
   "metadata": {
    "collapsed": true
   },
   "outputs": [],
   "source": [
    "IPs_df = IPs_df.drop(3, axis=1)"
   ]
  },
  {
   "cell_type": "code",
   "execution_count": 127,
   "metadata": {
    "collapsed": true
   },
   "outputs": [],
   "source": [
    "IPs_df.columns = ['ip_0', 'ip_1', 'ip_2']"
   ]
  },
  {
   "cell_type": "code",
   "execution_count": 133,
   "metadata": {},
   "outputs": [
    {
     "name": "stderr",
     "output_type": "stream",
     "text": [
      "/Users/fangzhenghu/Documents/Tools/anaconda3/lib/python3.6/site-packages/lightgbm/basic.py:681: UserWarning: categorical_feature in param dict is overrided.\n",
      "  warnings.warn('categorical_feature in param dict is overrided.')\n"
     ]
    },
    {
     "name": "stdout",
     "output_type": "stream",
     "text": [
      "[1]\tvalid_0's l2: 0.000659197\tvalid_0's auc: 0.654795\n",
      "Training until validation scores don't improve for 5 rounds.\n",
      "[2]\tvalid_0's l2: 0.000654376\tvalid_0's auc: 0.662717\n",
      "[3]\tvalid_0's l2: 0.000650257\tvalid_0's auc: 0.667516\n",
      "[4]\tvalid_0's l2: 0.000645978\tvalid_0's auc: 0.707328\n",
      "[5]\tvalid_0's l2: 0.000642422\tvalid_0's auc: 0.707627\n",
      "[6]\tvalid_0's l2: 0.000639211\tvalid_0's auc: 0.709892\n",
      "[7]\tvalid_0's l2: 0.000635922\tvalid_0's auc: 0.710061\n",
      "[8]\tvalid_0's l2: 0.000633444\tvalid_0's auc: 0.709739\n",
      "[9]\tvalid_0's l2: 0.000631139\tvalid_0's auc: 0.709625\n",
      "[10]\tvalid_0's l2: 0.000628142\tvalid_0's auc: 0.709642\n",
      "[11]\tvalid_0's l2: 0.000626348\tvalid_0's auc: 0.709803\n",
      "[12]\tvalid_0's l2: 0.000624843\tvalid_0's auc: 0.709744\n",
      "Early stopping, best iteration is:\n",
      "[7]\tvalid_0's l2: 0.000635922\tvalid_0's auc: 0.710061\n"
     ]
    }
   ],
   "source": [
    "train_tmp = pd.concat([train_data, IPs_df[:train.shape[0]]], 1)\n",
    "valid_tmp = pd.concat([valid_data, IPs_df[train.shape[0]:train.shape[0]+valid.shape[0]]], 1)\n",
    "# evaluate the chosen features\n",
    "lgb_train, lgb_valid = lgb_data(train_tmp, valid_tmp)\n",
    "# lgb_train, lgb_valid = lgb_data(train_data, valid_data)\n",
    "gbm = lgb.train(params, lgb_train, num_boost_round=20, valid_sets=lgb_valid, early_stopping_rounds=5)"
   ]
  },
  {
   "cell_type": "markdown",
   "metadata": {},
   "source": [
    "# 4. Add hand-crafted features\n",
    "construct a pipeline, as this would also be useful to the CVR competition"
   ]
  },
  {
   "cell_type": "code",
   "execution_count": 134,
   "metadata": {},
   "outputs": [
    {
     "data": {
      "text/plain": [
       "Index(['click', 'weekday', 'hour', 'region', 'city', 'slotwidth', 'slotheight',\n",
       "       'slotprice', 'advertiser', 'useragent', 'adexchange', 'slotvisibility',\n",
       "       'slotformat', 'creative', 'keypage', 'usertag_0', 'usertag_1',\n",
       "       'usertag_2', 'usertag_3', 'usertag_4', 'usertag_5', 'usertag_6',\n",
       "       'usertag_7', 'usertag_8', 'usertag_9', 'usertag_10', 'usertag_11',\n",
       "       'usertag_12', 'usertag_13', 'usertag_14', 'usertag_15', 'usertag_16',\n",
       "       'usertag_17', 'usertag_18', 'usertag_19', 'usertag_20', 'usertag_21',\n",
       "       'usertag_22', 'usertag_23', 'usertag_24', 'usertag_25', 'usertag_26',\n",
       "       'usertag_27', 'usertag_28', 'usertag_29', 'usertag_30', 'usertag_31',\n",
       "       'usertag_32', 'usertag_33', 'usertag_34', 'usertag_35', 'usertag_36',\n",
       "       'usertag_37', 'usertag_38', 'usertag_39', 'usertag_40', 'usertag_41',\n",
       "       'usertag_42', 'usertag_43', 'usertag_44', 'usertag_45', 'usertag_46',\n",
       "       'usertag_47', 'usertag_48', 'usertag_49', 'usertag_50', 'usertag_51',\n",
       "       'usertag_52', 'usertag_53', 'usertag_54', 'usertag_55', 'usertag_56',\n",
       "       'usertag_57', 'usertag_58', 'usertag_59', 'usertag_60', 'usertag_61',\n",
       "       'usertag_62', 'usertag_63', 'usertag_64', 'usertag_65', 'usertag_66',\n",
       "       'usertag_67', 'usertag_68', 'slotid'],\n",
       "      dtype='object')"
      ]
     },
     "execution_count": 134,
     "metadata": {},
     "output_type": "execute_result"
    }
   ],
   "source": []
  },
  {
   "cell_type": "code",
   "execution_count": null,
   "metadata": {
    "collapsed": true
   },
   "outputs": [],
   "source": []
  }
 ],
 "metadata": {
  "kernelspec": {
   "display_name": "Python 3",
   "language": "python",
   "name": "python3"
  },
  "language_info": {
   "codemirror_mode": {
    "name": "ipython",
    "version": 3
   },
   "file_extension": ".py",
   "mimetype": "text/x-python",
   "name": "python",
   "nbconvert_exporter": "python",
   "pygments_lexer": "ipython3",
   "version": "3.6.3"
  }
 },
 "nbformat": 4,
 "nbformat_minor": 2
}
