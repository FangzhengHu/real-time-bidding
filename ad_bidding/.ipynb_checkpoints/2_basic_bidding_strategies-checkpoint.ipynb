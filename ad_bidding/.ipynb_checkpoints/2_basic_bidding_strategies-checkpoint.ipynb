{
 "cells": [
  {
   "cell_type": "code",
   "execution_count": 7,
   "metadata": {},
   "outputs": [],
   "source": [
    "import pandas as pd\n",
    "import numpy as np\n",
    "\n",
    "import matplotlib.pyplot as plt\n",
    "%matplotlib inline"
   ]
  },
  {
   "cell_type": "code",
   "execution_count": 2,
   "metadata": {
    "collapsed": true
   },
   "outputs": [],
   "source": [
    "train = pd.read_csv('./data/train.csv')"
   ]
  },
  {
   "cell_type": "code",
   "execution_count": 66,
   "metadata": {},
   "outputs": [
    {
     "data": {
      "text/plain": [
       "(2430981, 25)"
      ]
     },
     "execution_count": 66,
     "metadata": {},
     "output_type": "execute_result"
    }
   ],
   "source": [
    "train.shape"
   ]
  },
  {
   "cell_type": "markdown",
   "metadata": {},
   "source": [
    "## Constant Bidding"
   ]
  },
  {
   "cell_type": "code",
   "execution_count": 4,
   "metadata": {},
   "outputs": [
    {
     "data": {
      "text/plain": [
       "300"
      ]
     },
     "execution_count": 4,
     "metadata": {},
     "output_type": "execute_result"
    }
   ],
   "source": [
    "max(train.payprice)"
   ]
  },
  {
   "cell_type": "code",
   "execution_count": 5,
   "metadata": {},
   "outputs": [
    {
     "data": {
      "text/plain": [
       "0"
      ]
     },
     "execution_count": 5,
     "metadata": {},
     "output_type": "execute_result"
    }
   ],
   "source": [
    "min(train.payprice)"
   ]
  },
  {
   "cell_type": "code",
   "execution_count": 8,
   "metadata": {},
   "outputs": [
    {
     "data": {
      "text/plain": [
       "(array([517133., 593656., 651231., 190292., 141824., 127824.,  90231.,\n",
       "         66132.,  30010.,  22648.]),\n",
       " array([  0.,  30.,  60.,  90., 120., 150., 180., 210., 240., 270., 300.]),\n",
       " <a list of 10 Patch objects>)"
      ]
     },
     "execution_count": 8,
     "metadata": {},
     "output_type": "execute_result"
    },
    {
     "data": {
      "image/png": "[encoded data removed]",
      "text/plain": [
       "<matplotlib.figure.Figure at 0x11431a630>"
      ]
     },
     "metadata": {},
     "output_type": "display_data"
    }
   ],
   "source": [
    "plt.hist(train.payprice)"
   ]
  },
  {
   "cell_type": "code",
   "execution_count": 11,
   "metadata": {
    "scrolled": true
   },
   "outputs": [
    {
     "data": {
      "text/plain": [
       "click                                                    0\n",
       "weekday                                                  3\n",
       "hour                                                    17\n",
       "bidid             c3f2ee2b48e4d9752d6dffa82e2d0c8162e938bb\n",
       "userid            d4c8e8401f4fecffda48a67d80a7ce605efeda7f\n",
       "useragent                                       mac_safari\n",
       "IP                                            121.225.93.*\n",
       "region                                                  80\n",
       "city                                                    80\n",
       "adexchange                                               3\n",
       "domain                    e96dd4d612a79976fd4155437b0be59a\n",
       "url                       2ac390e11915b8157dbb29788830f002\n",
       "urlid                                                 null\n",
       "slotid                          QQlive_SP_dsj_bottom_Width\n",
       "slotwidth                                              980\n",
       "slotheight                                              90\n",
       "slotvisibility                                          Na\n",
       "slotformat                                              Na\n",
       "slotprice                                                0\n",
       "creative                                             12632\n",
       "bidprice                                               294\n",
       "payprice                                                 0\n",
       "keypage                                               null\n",
       "advertiser                                            2261\n",
       "usertag                                               null\n",
       "Name: 7526, dtype: object"
      ]
     },
     "execution_count": 11,
     "metadata": {},
     "output_type": "execute_result"
    }
   ],
   "source": [
    "train[train.payprice==0].iloc[0]"
   ]
  },
  {
   "cell_type": "code",
   "execution_count": 43,
   "metadata": {},
   "outputs": [
    {
     "data": {
      "text/plain": [
       "(0, 300)"
      ]
     },
     "execution_count": 43,
     "metadata": {},
     "output_type": "execute_result"
    }
   ],
   "source": [
    "min(train.payprice), max(train.payprice)"
   ]
  },
  {
   "cell_type": "markdown",
   "metadata": {},
   "source": [
    "We aim at obtaining maximum number of clicks using the limited budget. While the size of train data is 8 times of it for test data, the budget is set to 8 times of the limitation when running the model in train data. \n",
    "\n",
    "In terms of constant bidding strategy, the optimal constant value must be between the minimum and maximum value of payprice, which is 0 and 300 respectively. In order to find the optimal value, we choose 11 evently spaced points from the interval [0,300], and then narrow down the interval iteratively based on the performance of the chosen points.\n",
    "\n",
    "\n",
    "??? Does the outcome of bidding depend on bidprice or payprice ?"
   ]
  },
  {
   "cell_type": "code",
   "execution_count": 68,
   "metadata": {},
   "outputs": [],
   "source": [
    "def const_bid(df, const):\n",
    "    print('const = ', const)\n",
    "    budget = 6250 * 8 * 1000\n",
    "    num_ad = 0\n",
    "    num_click = 0\n",
    "    iter_pct = 1.00\n",
    "    for idx, row in df.iterrows():\n",
    "#         if idx % (train.shape[0]//20) == 0:\n",
    "#             print(idx)\n",
    "        if const >= row.payprice and budget >= row.payprice:\n",
    "            budget -= row.payprice\n",
    "            num_ad += 1\n",
    "            num_click += row.click\n",
    "        # early stopping\n",
    "        if budget < const:\n",
    "            iter_pct = idx / df.shape[0]\n",
    "            return num_click, num_ad, iter_pct, budget\n",
    "        \n",
    "    return num_click, num_ad, iter_pct, budget\n",
    "        "
   ]
  },
  {
   "cell_type": "code",
   "execution_count": 79,
   "metadata": {},
   "outputs": [
    {
     "data": {
      "text/plain": [
       "array([ 60.,  62.,  64.,  66.,  68.,  70.,  72.,  74.,  76.,  78.,  80.,\n",
       "        82.,  84.,  86.,  88.,  90.,  92.,  94.,  96.,  98., 100., 102.,\n",
       "       104., 106., 108., 110., 112., 114., 116., 118., 120.])"
      ]
     },
     "execution_count": 79,
     "metadata": {},
     "output_type": "execute_result"
    }
   ],
   "source": [
    "np.linspace(60, 120 , 31)\n"
   ]
  },
  {
   "cell_type": "code",
   "execution_count": 69,
   "metadata": {
    "scrolled": false
   },
   "outputs": [
    {
     "name": "stdout",
     "output_type": "stream",
     "text": [
      "const =  0.0\n",
      "const =  30.0\n",
      "const =  60.0\n",
      "const =  90.0\n",
      "const =  120.0\n",
      "const =  150.0\n",
      "const =  180.0\n",
      "const =  210.0\n",
      "const =  240.0\n",
      "const =  270.0\n",
      "const =  300.0\n"
     ]
    }
   ],
   "source": [
    "num_clicks = []\n",
    "num_ads = []\n",
    "iter_pcts = []\n",
    "budgets = []\n",
    "# for x in np.linspace(0,300,11):\n",
    "for x in np.linspace(60, 120, 31)\n",
    "    num_click, num_ad, iter_pct, budget = const_bid(train, x)\n",
    "    num_clicks.append(num_click)\n",
    "    num_ads.append(num_ad)\n",
    "    iter_pcts.append(iter_pct)\n",
    "    budgets.append(budget)\n",
    "    "
   ]
  },
  {
   "cell_type": "markdown",
   "metadata": {},
   "source": [
    "## First Iteration"
   ]
  },
  {
   "cell_type": "code",
   "execution_count": 80,
   "metadata": {},
   "outputs": [
    {
     "data": {
      "text/plain": [
       "array([  0.,  30.,  60.,  90., 120., 150., 180., 210., 240., 270., 300.])"
      ]
     },
     "execution_count": 80,
     "metadata": {},
     "output_type": "execute_result"
    }
   ],
   "source": [
    "np.linspace(0,300,11)"
   ]
  },
  {
   "cell_type": "code",
   "execution_count": 70,
   "metadata": {},
   "outputs": [
    {
     "data": {
      "text/plain": [
       "[<matplotlib.lines.Line2D at 0x17afa6198>]"
      ]
     },
     "execution_count": 70,
     "metadata": {},
     "output_type": "execute_result"
    },
    {
     "data": {
      "image/png": "[encoded data removed]",
      "text/plain": [
       "<matplotlib.figure.Figure at 0x16f65cf60>"
      ]
     },
     "metadata": {},
     "output_type": "display_data"
    }
   ],
   "source": [
    "plt.plot(num_clicks)"
   ]
  },
  {
   "cell_type": "code",
   "execution_count": 71,
   "metadata": {},
   "outputs": [
    {
     "data": {
      "text/plain": [
       "[<matplotlib.lines.Line2D at 0x17b01b630>]"
      ]
     },
     "execution_count": 71,
     "metadata": {},
     "output_type": "execute_result"
    },
    {
     "data": {
      "image/png": "[encoded data removed]",
      "text/plain": [
       "<matplotlib.figure.Figure at 0x16f65cc18>"
      ]
     },
     "metadata": {},
     "output_type": "display_data"
    }
   ],
   "source": [
    "plt.plot(num_ads)"
   ]
  },
  {
   "cell_type": "code",
   "execution_count": 72,
   "metadata": {},
   "outputs": [
    {
     "data": {
      "text/plain": [
       "[<matplotlib.lines.Line2D at 0x17b06f1d0>]"
      ]
     },
     "execution_count": 72,
     "metadata": {},
     "output_type": "execute_result"
    },
    {
     "data": {
      "image/png": "[encoded data removed]",
      "text/plain": [
       "<matplotlib.figure.Figure at 0x17b044ac8>"
      ]
     },
     "metadata": {},
     "output_type": "display_data"
    }
   ],
   "source": [
    "plt.plot(iter_pcts)"
   ]
  },
  {
   "cell_type": "code",
   "execution_count": 74,
   "metadata": {
    "scrolled": false
   },
   "outputs": [
    {
     "data": {
      "text/plain": [
       "[<matplotlib.lines.Line2D at 0x17b0d8828>]"
      ]
     },
     "execution_count": 74,
     "metadata": {},
     "output_type": "execute_result"
    },
    {
     "data": {
      "image/png": "[encoded data removed]",
      "text/plain": [
       "<matplotlib.figure.Figure at 0x17b0844a8>"
      ]
     },
     "metadata": {},
     "output_type": "display_data"
    }
   ],
   "source": [
    "plt.plot(budgets)"
   ]
  },
  {
   "cell_type": "markdown",
   "metadata": {},
   "source": [
    "## [start from here]"
   ]
  },
  {
   "cell_type": "code",
   "execution_count": null,
   "metadata": {
    "collapsed": true
   },
   "outputs": [],
   "source": []
  },
  {
   "cell_type": "markdown",
   "metadata": {},
   "source": [
    "## Validation"
   ]
  },
  {
   "cell_type": "code",
   "execution_count": 12,
   "metadata": {
    "collapsed": true
   },
   "outputs": [],
   "source": [
    "vald = pd.read_csv('./data/validation.csv')"
   ]
  },
  {
   "cell_type": "code",
   "execution_count": 63,
   "metadata": {},
   "outputs": [
    {
     "data": {
      "text/plain": [
       "(303925, 25)"
      ]
     },
     "execution_count": 63,
     "metadata": {},
     "output_type": "execute_result"
    }
   ],
   "source": [
    "vald.shape"
   ]
  },
  {
   "cell_type": "code",
   "execution_count": 64,
   "metadata": {
    "collapsed": true
   },
   "outputs": [],
   "source": [
    "test = pd.read_csv('./data/test.csv')"
   ]
  },
  {
   "cell_type": "code",
   "execution_count": 65,
   "metadata": {},
   "outputs": [
    {
     "data": {
      "text/plain": [
       "(303375, 22)"
      ]
     },
     "execution_count": 65,
     "metadata": {},
     "output_type": "execute_result"
    }
   ],
   "source": [
    "test.shape"
   ]
  },
  {
   "cell_type": "code",
   "execution_count": 13,
   "metadata": {},
   "outputs": [
    {
     "data": {
      "text/plain": [
       "click                                                    0\n",
       "weekday                                                  4\n",
       "hour                                                    20\n",
       "bidid             bbcb813b6166538503d8b33a5602d7d72f6019dc\n",
       "userid            663169f66491c98c69f1f94a5c48fa34aa9fe06f\n",
       "useragent                                       windows_ie\n",
       "IP                                           211.144.203.*\n",
       "region                                                  79\n",
       "city                                                    79\n",
       "adexchange                                               1\n",
       "domain                                      trqRTvFRLpscFU\n",
       "url                       5ede68cc7542a34777fb8a1574856b6f\n",
       "urlid                                                 null\n",
       "slotid                         mm_10027070_2459574_9659312\n",
       "slotwidth                                              160\n",
       "slotheight                                             600\n",
       "slotvisibility                                           2\n",
       "slotformat                                               1\n",
       "slotprice                                                0\n",
       "creative                  cb7c76e7784031272e37af8e7e9b062c\n",
       "bidprice                                               300\n",
       "payprice                                                23\n",
       "keypage                   bebefa5efe83beee17a3d245e7c5085b\n",
       "advertiser                                            1458\n",
       "usertag                                        13866,10111\n",
       "Name: 0, dtype: object"
      ]
     },
     "execution_count": 13,
     "metadata": {},
     "output_type": "execute_result"
    }
   ],
   "source": [
    "vald.iloc[0]"
   ]
  },
  {
   "cell_type": "code",
   "execution_count": null,
   "metadata": {
    "collapsed": true
   },
   "outputs": [],
   "source": []
  },
  {
   "cell_type": "code",
   "execution_count": null,
   "metadata": {
    "collapsed": true
   },
   "outputs": [],
   "source": []
  },
  {
   "cell_type": "markdown",
   "metadata": {},
   "source": [
    "- "
   ]
  },
  {
   "cell_type": "markdown",
   "metadata": {},
   "source": [
    "- how to evaluate"
   ]
  }
 ],
 "metadata": {
  "kernelspec": {
   "display_name": "Python 3",
   "language": "python",
   "name": "python3"
  },
  "language_info": {
   "codemirror_mode": {
    "name": "ipython",
    "version": 3
   },
   "file_extension": ".py",
   "mimetype": "text/x-python",
   "name": "python",
   "nbconvert_exporter": "python",
   "pygments_lexer": "ipython3",
   "version": "3.6.3"
  }
 },
 "nbformat": 4,
 "nbformat_minor": 2
}
