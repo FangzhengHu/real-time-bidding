{
 "cells": [
  {
   "cell_type": "markdown",
   "metadata": {},
   "source": [
    "### import data and libraries"
   ]
  },
  {
   "cell_type": "code",
   "execution_count": 411,
   "metadata": {},
   "outputs": [],
   "source": [
    "# import libraries\n",
    "import numpy as np\n",
    "import pandas as pd\n",
    "import matplotlib.pyplot as plt\n",
    "import os\n",
    "import sys\n",
    "import math\n",
    "import joblib\n",
    "import lightgbm as lgb\n",
    "\n",
    "from sklearn.preprocessing import MinMaxScaler\n",
    "# from sklearn.model_selection import GridSearchCV\n",
    "from sklearn.model_selection import ParameterGrid\n",
    "from sklearn.linear_model import LogisticRegression\n",
    "from sklearn.metrics import roc_auc_score\n",
    "\n",
    "%matplotlib inline"
   ]
  },
  {
   "cell_type": "code",
   "execution_count": 274,
   "metadata": {
    "collapsed": true
   },
   "outputs": [],
   "source": [
    "# import data\n",
    "train = pd.read_csv('./data/train.csv')\n",
    "valid = pd.read_csv('./data/validation.csv')\n",
    "test  = pd.read_csv('./data/test.csv')"
   ]
  },
  {
   "cell_type": "markdown",
   "metadata": {},
   "source": [
    "# 1. Preprocessing"
   ]
  },
  {
   "cell_type": "code",
   "execution_count": 480,
   "metadata": {
    "collapsed": true,
    "scrolled": true
   },
   "outputs": [],
   "source": [
    "# load all functions from module A3_Preprocessing \n",
    "%run A_Preprocessing"
   ]
  },
  {
   "cell_type": "markdown",
   "metadata": {
    "heading_collapsed": true
   },
   "source": [
    "## 1.1 preprocess data for linear model"
   ]
  },
  {
   "cell_type": "code",
   "execution_count": 276,
   "metadata": {
    "collapsed": true,
    "hidden": true
   },
   "outputs": [],
   "source": [
    "# parameters for data preprocessing\n",
    "\n",
    "# irrelevant features\n",
    "irrelevant_cols = ['bidprice','payprice', 'bidid', 'userid', 'url', 'urlid', 'domain', 'IP', 'slotid']\n",
    "\n",
    "# continuous/ordinal features\n",
    "cont_cols = ['slotwidth', 'slotheight', 'slotarea', 'slotprice']\n",
    "\n",
    "# categorical features\n",
    "cat_cols = ['adexchange', 'advertiser', 'city', 'creative', 'hour',\n",
    "            'keypage', 'region', 'slotformat',  'slotvisibility',\n",
    "            'weekday', 'system', 'browser']\n",
    "\n",
    "# continuous/ordinal features to be assigned into bins\n",
    "cont_to_bin_cols = ['slotprice']\n",
    "bins = [[0, 0.00001, 20, 60, 301]]  # max slotprice = 0, min slotprice = 300"
   ]
  },
  {
   "cell_type": "code",
   "execution_count": 278,
   "metadata": {
    "hidden": true,
    "scrolled": true
   },
   "outputs": [
    {
     "name": "stdout",
     "output_type": "stream",
     "text": [
      "CPU times: user 1min, sys: 23.7 s, total: 1min 23s\n",
      "Wall time: 1min 26s\n"
     ]
    }
   ],
   "source": [
    "%%time\n",
    "data, train_data, valid_data, test_data = preprocessing(irrelevant_cols, cont_cols, cat_cols, cont_to_bin_cols, bins,\n",
    "                                                       train, valid, test)"
   ]
  },
  {
   "cell_type": "code",
   "execution_count": 279,
   "metadata": {
    "hidden": true,
    "scrolled": true
   },
   "outputs": [
    {
     "name": "stdout",
     "output_type": "stream",
     "text": [
      "The initial dataset has following sizes for each class:\n",
      "0.0    2429188\n",
      "1.0       1793\n",
      "Name: click, dtype: int64\n",
      "Minority class is 0.07% of initial sample size.\n",
      "New dataset has following sizes for each class:\n",
      "0.0    7172\n",
      "1.0    1793\n",
      "Name: click, dtype: int64\n",
      "Minority class is 20.00% of total sample size.\n"
     ]
    }
   ],
   "source": [
    "# downsample majority class\n",
    "minority_class = 0.2\n",
    "train_dsp = downsampling_majority_class(train_data, class_ratio=minority_class, seed=500)"
   ]
  },
  {
   "cell_type": "code",
   "execution_count": 613,
   "metadata": {
    "hidden": true
   },
   "outputs": [
    {
     "data": {
      "text/plain": [
       "0.0029524269014995956"
      ]
     },
     "execution_count": 613,
     "metadata": {},
     "output_type": "execute_result"
    }
   ],
   "source": [
    "# downsampling rate:\n",
    "w = 7172 / 2429188\n",
    "w"
   ]
  },
  {
   "cell_type": "code",
   "execution_count": 280,
   "metadata": {
    "hidden": true,
    "scrolled": false
   },
   "outputs": [
    {
     "name": "stdout",
     "output_type": "stream",
     "text": [
      "The initial dataset has following sizes for each class:\n",
      "0.0    2429188\n",
      "1.0       1793\n",
      "Name: click, dtype: int64\n",
      "Minority class is 0.07% of initial sample size.\n",
      "New dataset has following sizes for each class:\n",
      "0.0    87857\n",
      "1.0     1793\n",
      "Name: click, dtype: int64\n",
      "Minority class is 2.00% of total sample size.\n"
     ]
    }
   ],
   "source": [
    "train_dsp_002 = downsampling_majority_class(train_data, class_ratio=0.02, seed=500)"
   ]
  },
  {
   "cell_type": "markdown",
   "metadata": {},
   "source": [
    "## 1.2 preprocess data for tree-based model"
   ]
  },
  {
   "cell_type": "code",
   "execution_count": 492,
   "metadata": {
    "collapsed": true
   },
   "outputs": [],
   "source": [
    "# parameters for data preprocessing\n",
    "\n",
    "# irrelevant features\n",
    "irrelevant_cols = ['bidprice','payprice', 'bidid', 'userid', 'url', 'urlid', 'domain', 'IP', 'slotid'] \n",
    "\n",
    "# continuous/ordinal features\n",
    "cont_cols = ['slotwidth', 'slotheight', 'slotarea', 'slotprice']\n",
    "\n",
    "# categorical features\n",
    "cat_cols = ['adexchange', 'advertiser', 'city', 'creative', 'hour',\n",
    "            'keypage', 'region', 'slotformat',  'slotvisibility',\n",
    "            'weekday', 'system', 'browser'] # + \n",
    "\n",
    "# continuous/ordinal features to be assigned into bins\n",
    "cont_to_bin_cols = ['slotprice']\n",
    "bins = [[0, 0.00001, 20, 60, 301]]  # max slotprice = 0, min slotprice = 300"
   ]
  },
  {
   "cell_type": "markdown",
   "metadata": {},
   "source": [
    "###  test out if lightgbm convert categorical data correctly"
   ]
  },
  {
   "cell_type": "code",
   "execution_count": 493,
   "metadata": {},
   "outputs": [],
   "source": [
    "# test out if lightgbm convert categorical data correctly\n",
    "data_t = preprocessing_t(irrelevant_cols, cont_cols, cat_cols, cont_to_bin_cols, bins,\n",
    "                                                       train, valid, test)"
   ]
  },
  {
   "cell_type": "code",
   "execution_count": 487,
   "metadata": {
    "collapsed": true
   },
   "outputs": [],
   "source": [
    "def convt_cat(X_all, feat):\n",
    "    \"\"\"\n",
    "    convert string values of categorical feature to int\n",
    "    \n",
    "    input:\n",
    "    @X_all(df): original dataset\n",
    "    @feat(str): name of the feautre to be converted\n",
    "    return:\n",
    "    @feat_int(Series of int): integer representation of the categorical feature\n",
    "    \"\"\"    \n",
    "    cat_series = pd.Series(X_all[feat], dtype='category', name=feat)\n",
    "    num_cat = len(set(X_all[feat]))\n",
    "    feat_int = cat_series.cat.rename_categories([x for x in range(num_cat)])\n",
    "    \n",
    "    return feat_int\n",
    "   "
   ]
  },
  {
   "cell_type": "code",
   "execution_count": 495,
   "metadata": {},
   "outputs": [],
   "source": [
    "# digit-labeling categorical features\n",
    "for ft in cat_cols:\n",
    "    data_t[ft] = convt_cat(data_t, ft)"
   ]
  },
  {
   "cell_type": "code",
   "execution_count": 496,
   "metadata": {
    "collapsed": true
   },
   "outputs": [],
   "source": [
    "# split data\n",
    "train_data_t, valid_data_t, test_data_t = split_data(data_t2, train, valid, test)"
   ]
  },
  {
   "cell_type": "code",
   "execution_count": 497,
   "metadata": {
    "scrolled": false
   },
   "outputs": [
    {
     "name": "stdout",
     "output_type": "stream",
     "text": [
      "The initial dataset has following sizes for each class:\n",
      "0.0    2429188\n",
      "1.0       1793\n",
      "Name: click, dtype: int64\n",
      "Minority class is 0.07% of initial sample size.\n",
      "New dataset has following sizes for each class:\n",
      "0.0    7172\n",
      "1.0    1793\n",
      "Name: click, dtype: int64\n",
      "Minority class is 20.00% of total sample size.\n"
     ]
    }
   ],
   "source": [
    "# downsample majority class\n",
    "minority_class = 0.2\n",
    "train_dsp_t = downsampling_majority_class(train_data_t, class_ratio=minority_class, seed=500)"
   ]
  },
  {
   "cell_type": "code",
   "execution_count": 450,
   "metadata": {
    "scrolled": true
   },
   "outputs": [
    {
     "name": "stderr",
     "output_type": "stream",
     "text": [
      "/Users/fangzhenghu/Documents/Tools/anaconda3/lib/python3.6/site-packages/lightgbm/basic.py:681: UserWarning: categorical_feature in param dict is overrided.\n",
      "  warnings.warn('categorical_feature in param dict is overrided.')\n"
     ]
    },
    {
     "name": "stdout",
     "output_type": "stream",
     "text": [
      "[1]\tvalid_0's auc: 0.862114\n",
      "Training until validation scores don't improve for 5 rounds.\n",
      "[2]\tvalid_0's auc: 0.870925\n",
      "[3]\tvalid_0's auc: 0.874632\n",
      "[4]\tvalid_0's auc: 0.877609\n",
      "[5]\tvalid_0's auc: 0.874761\n",
      "[6]\tvalid_0's auc: 0.876613\n",
      "[7]\tvalid_0's auc: 0.874879\n",
      "[8]\tvalid_0's auc: 0.879446\n",
      "[9]\tvalid_0's auc: 0.879092\n",
      "[10]\tvalid_0's auc: 0.881706\n",
      "[11]\tvalid_0's auc: 0.883023\n",
      "[12]\tvalid_0's auc: 0.884623\n",
      "[13]\tvalid_0's auc: 0.882925\n",
      "[14]\tvalid_0's auc: 0.882432\n",
      "[15]\tvalid_0's auc: 0.881423\n",
      "[16]\tvalid_0's auc: 0.881038\n",
      "[17]\tvalid_0's auc: 0.882034\n",
      "Early stopping, best iteration is:\n",
      "[12]\tvalid_0's auc: 0.884623\n"
     ]
    }
   ],
   "source": [
    "# test with default gbm \n",
    "\n",
    "# data for fitting\n",
    "# X_train = train_data.drop(['click'], axis=1)\n",
    "X_valid_t = valid_data_t.drop(['click'], axis=1)\n",
    "X_train_dsp_t = train_dsp_t.drop(['click'], axis=1)\n",
    "# X_train_dsp_002 = train_dsp_002.drop(['click'], axis=1)\n",
    "\n",
    "\n",
    "# y_train = train_data['click']\n",
    "y_valid_t = valid_data_t['click']\n",
    "y_train_dsp_t = train_dsp_t['click']\n",
    "# y_train_dsp_002 = train_dsp_002['click']\n",
    "\n",
    "X_test_t = test_data_t.drop(['click'], axis=1)\n",
    "\n",
    "# store data in Dataset object\n",
    "# lgb_train = lgb.Dataset(X_train, label=y_train)\n",
    "lgb_train_dsp_t = lgb.Dataset(X_train_dsp_t, label=y_train_dsp_t)\n",
    "# lgb_train_dsp_002 = lgb.Dataset(X_train_dsp_002, label=y_train_dsp_002)\n",
    "lgb_valid_t = lgb.Dataset(X_valid_t, label=y_valid_t)\n",
    "\n",
    "# minor change in default parameters\n",
    "params = {\n",
    "    'boosting' : 'gbdt', # @'rf'\n",
    "    'objective' : 'regression_l2', # 'regression_l1'\n",
    "    'num_leaves' : 31,\n",
    "    'bagging_fraction' : 1.0,\n",
    "    'feature_fraction' : 1.0,\n",
    "    # change default\n",
    "    'metric' : 'auc',\n",
    "    'is_unbalanced': True\n",
    "}\n",
    "\n",
    "# downsampled\n",
    "gbm_best_t = lgb.train(params, lgb_train_dsp_t, num_boost_round=30, valid_sets=lgb_valid_t, early_stopping_rounds=5)\n"
   ]
  },
  {
   "cell_type": "markdown",
   "metadata": {},
   "source": [
    "# 2. Model Selection"
   ]
  },
  {
   "cell_type": "code",
   "execution_count": 543,
   "metadata": {},
   "outputs": [],
   "source": [
    "# load all functions from module B3_Model_Selection\n",
    "%run B_Model_Selection"
   ]
  },
  {
   "cell_type": "code",
   "execution_count": 281,
   "metadata": {
    "collapsed": true
   },
   "outputs": [],
   "source": [
    "# data for fitting\n",
    "X_train = train_data.drop(['click'], axis=1)\n",
    "X_valid = valid_data.drop(['click'], axis=1)\n",
    "X_train_dsp = train_dsp.drop(['click'], axis=1)\n",
    "X_train_dsp_002 = train_dsp_002.drop(['click'], axis=1)\n",
    "\n",
    "\n",
    "y_train = train_data['click']\n",
    "y_valid = valid_data['click']\n",
    "y_train_dsp = train_dsp['click']\n",
    "y_train_dsp_002 = train_dsp_002['click']\n",
    "\n",
    "X_test = test_data.drop(['click'], axis=1)"
   ]
  },
  {
   "cell_type": "markdown",
   "metadata": {
    "heading_collapsed": true
   },
   "source": [
    "## 2.1 Optimize Logistic Regression"
   ]
  },
  {
   "cell_type": "markdown",
   "metadata": {
    "hidden": true
   },
   "source": [
    "### load optimal model"
   ]
  },
  {
   "cell_type": "code",
   "execution_count": 283,
   "metadata": {
    "collapsed": true,
    "hidden": true
   },
   "outputs": [],
   "source": [
    "lg = LogisticRegression(C=0.01, class_weight='balanced', dual=False,\n",
    "           fit_intercept=True, intercept_scaling=1, max_iter=100,\n",
    "           multi_class='ovr', n_jobs=1, penalty='l1', random_state=None,\n",
    "           solver='liblinear', tol=1, verbose=0, warm_start=False)"
   ]
  },
  {
   "cell_type": "code",
   "execution_count": 284,
   "metadata": {
    "hidden": true
   },
   "outputs": [
    {
     "data": {
      "text/plain": [
       "LogisticRegression(C=0.01, class_weight='balanced', dual=False,\n",
       "          fit_intercept=True, intercept_scaling=1, max_iter=100,\n",
       "          multi_class='ovr', n_jobs=1, penalty='l1', random_state=None,\n",
       "          solver='liblinear', tol=1, verbose=0, warm_start=False)"
      ]
     },
     "execution_count": 284,
     "metadata": {},
     "output_type": "execute_result"
    }
   ],
   "source": [
    "lg.fit(X_train_dsp_002, y_train_dsp_002)"
   ]
  },
  {
   "cell_type": "code",
   "execution_count": 285,
   "metadata": {
    "hidden": true
   },
   "outputs": [
    {
     "data": {
      "text/plain": [
       "0.8577306452013026"
      ]
     },
     "execution_count": 285,
     "metadata": {},
     "output_type": "execute_result"
    }
   ],
   "source": [
    "roc_auc_score(y_valid, lg.predict_proba(X_valid)[:,1])"
   ]
  },
  {
   "cell_type": "markdown",
   "metadata": {
    "heading_collapsed": true,
    "hidden": true
   },
   "source": [
    "### logs"
   ]
  },
  {
   "cell_type": "code",
   "execution_count": 18,
   "metadata": {
    "hidden": true
   },
   "outputs": [
    {
     "name": "stdout",
     "output_type": "stream",
     "text": [
      "CPU times: user 38.2 s, sys: 21 s, total: 59.2 s\n",
      "Wall time: 50.2 s\n"
     ]
    }
   ],
   "source": [
    "%%time\n",
    "params = {'C': [0.05, 0.1, 1],\n",
    "          'penalty': ['l1', 'l2'],\n",
    "          'class_weight': [None, 'balanced'],\n",
    "          'tol': [0.005, 0.01, 0.1]}\n",
    "\n",
    "best_model_lg_dsp, best_score_lg_dsp = optimize_log_reg(params_tmp, X_train_dsp, y_train_dsp, X_valid, y_valid)"
   ]
  },
  {
   "cell_type": "code",
   "execution_count": 364,
   "metadata": {
    "hidden": true,
    "scrolled": true
   },
   "outputs": [
    {
     "data": {
      "text/plain": [
       "(0.8574009577447506,\n",
       " LogisticRegression(C=0.1, class_weight='balanced', dual=False,\n",
       "           fit_intercept=True, intercept_scaling=1, max_iter=100,\n",
       "           multi_class='ovr', n_jobs=1, penalty='l1', random_state=None,\n",
       "           solver='liblinear', tol=0.01, verbose=0, warm_start=False))"
      ]
     },
     "execution_count": 364,
     "metadata": {},
     "output_type": "execute_result"
    }
   ],
   "source": [
    "# downsample with minority = 0.2\n",
    "best_score_lg_dsp, best_model_lg_dsp"
   ]
  },
  {
   "cell_type": "code",
   "execution_count": 28,
   "metadata": {
    "hidden": true,
    "scrolled": true
   },
   "outputs": [
    {
     "data": {
      "text/plain": [
       "(LogisticRegression(C=0.01, class_weight='balanced', dual=False,\n",
       "           fit_intercept=True, intercept_scaling=1, max_iter=100,\n",
       "           multi_class='ovr', n_jobs=1, penalty='l1', random_state=None,\n",
       "           solver='liblinear', tol=1, verbose=0, warm_start=False),\n",
       " 0.8576626360594396)"
      ]
     },
     "execution_count": 28,
     "metadata": {},
     "output_type": "execute_result"
    }
   ],
   "source": [
    "# downsample with minority = 0.02\n",
    "best_score_lg_dsp_002, best_model_lg_dsp_002"
   ]
  },
  {
   "cell_type": "markdown",
   "metadata": {},
   "source": [
    "## 2.2 *Optimize Gradient Boosting Models\n",
    "ref: https://github.com/Microsoft/LightGBM/issues/695"
   ]
  },
  {
   "cell_type": "markdown",
   "metadata": {
    "heading_collapsed": true
   },
   "source": [
    "### run model with default setting"
   ]
  },
  {
   "cell_type": "code",
   "execution_count": 500,
   "metadata": {
    "hidden": true,
    "scrolled": true
   },
   "outputs": [
    {
     "name": "stderr",
     "output_type": "stream",
     "text": [
      "/Users/fangzhenghu/Documents/Tools/anaconda3/lib/python3.6/site-packages/lightgbm/basic.py:681: UserWarning: categorical_feature in param dict is overrided.\n",
      "  warnings.warn('categorical_feature in param dict is overrided.')\n"
     ]
    },
    {
     "name": "stdout",
     "output_type": "stream",
     "text": [
      "[1]\tvalid_0's auc: 0.862114\n",
      "Training until validation scores don't improve for 5 rounds.\n",
      "[2]\tvalid_0's auc: 0.870925\n",
      "[3]\tvalid_0's auc: 0.874632\n",
      "[4]\tvalid_0's auc: 0.877609\n",
      "[5]\tvalid_0's auc: 0.874761\n",
      "[6]\tvalid_0's auc: 0.876613\n",
      "[7]\tvalid_0's auc: 0.874879\n",
      "[8]\tvalid_0's auc: 0.879446\n",
      "[9]\tvalid_0's auc: 0.879092\n",
      "[10]\tvalid_0's auc: 0.881706\n",
      "[11]\tvalid_0's auc: 0.883023\n",
      "[12]\tvalid_0's auc: 0.884623\n",
      "[13]\tvalid_0's auc: 0.882925\n",
      "[14]\tvalid_0's auc: 0.882432\n",
      "[15]\tvalid_0's auc: 0.881423\n",
      "[16]\tvalid_0's auc: 0.881038\n",
      "[17]\tvalid_0's auc: 0.882034\n",
      "Early stopping, best iteration is:\n",
      "[12]\tvalid_0's auc: 0.884623\n"
     ]
    }
   ],
   "source": [
    "# test with default gbm \n",
    "\n",
    "# data for fitting\n",
    "# X_train = train_data.drop(['click'], axis=1)\n",
    "X_valid_t = valid_data_t.drop(['click'], axis=1)\n",
    "X_train_dsp_t = train_dsp_t.drop(['click'], axis=1)\n",
    "# X_train_dsp_002 = train_dsp_002.drop(['click'], axis=1)\n",
    "\n",
    "\n",
    "# y_train = train_data['click']\n",
    "y_valid_t = valid_data_t['click']\n",
    "y_train_dsp_t = train_dsp_t['click']\n",
    "# y_train_dsp_002 = train_dsp_002['click']\n",
    "\n",
    "X_test_t = test_data_t.drop(['click'], axis=1)\n",
    "\n",
    "# store data in Dataset object\n",
    "# lgb_train = lgb.Dataset(X_train, label=y_train)\n",
    "lgb_train_dsp_t = lgb.Dataset(X_train_dsp_t, label=y_train_dsp_t)\n",
    "# lgb_train_dsp_002 = lgb.Dataset(X_train_dsp_002, label=y_train_dsp_002)\n",
    "lgb_valid_t = lgb.Dataset(X_valid_t, label=y_valid_t)\n",
    "\n",
    "# minor change in default parameters\n",
    "params = {\n",
    "    'boosting' : 'gbdt', # @'rf'\n",
    "    'objective' : 'regression_l2', # 'regression_l1'\n",
    "    'num_leaves' : 31,\n",
    "    'bagging_fraction' : 1.0,\n",
    "    'feature_fraction' : 1.0,\n",
    "    # change default\n",
    "    'metric' : 'auc',\n",
    "    'is_unbalanced': True\n",
    "}\n",
    "\n",
    "# downsampled\n",
    "gbm_best_t = lgb.train(params, lgb_train_dsp_t, num_boost_round=30, valid_sets=lgb_valid_t, early_stopping_rounds=5)\n"
   ]
  },
  {
   "cell_type": "code",
   "execution_count": 507,
   "metadata": {
    "hidden": true
   },
   "outputs": [
    {
     "data": {
      "text/plain": [
       "0.8846227801433061"
      ]
     },
     "execution_count": 507,
     "metadata": {},
     "output_type": "execute_result"
    }
   ],
   "source": [
    "# gbm result\n",
    "roc_auc_score(y_valid, gbm_best_t.predict(X_valid_t))"
   ]
  },
  {
   "cell_type": "markdown",
   "metadata": {
    "heading_collapsed": true
   },
   "source": [
    "### *optimize gbm"
   ]
  },
  {
   "cell_type": "code",
   "execution_count": null,
   "metadata": {
    "collapsed": true,
    "hidden": true
   },
   "outputs": [],
   "source": [
    "# parameters to be tuned\n",
    "params = {\n",
    "    'num_leaves': np.linspace(1, 1001, 11),\n",
    "    'is_unbalanced': [True],\n",
    "    'bagging_fraction': np.linspace(0.4, 1, 4),\n",
    "    'feature_fraction': np.linspace(0.4, 1, 4),\n",
    "    \n",
    "}"
   ]
  },
  {
   "cell_type": "markdown",
   "metadata": {
    "heading_collapsed": true
   },
   "source": [
    "### logs"
   ]
  },
  {
   "cell_type": "code",
   "execution_count": 60,
   "metadata": {
    "hidden": true,
    "scrolled": true
   },
   "outputs": [
    {
     "name": "stdout",
     "output_type": "stream",
     "text": [
      "[1]\tvalid_0's auc: 0.691105\n",
      "Training until validation scores don't improve for 5 rounds.\n",
      "[2]\tvalid_0's auc: 0.691105\n",
      "[3]\tvalid_0's auc: 0.764533\n",
      "[4]\tvalid_0's auc: 0.764541\n",
      "[5]\tvalid_0's auc: 0.76507\n",
      "[6]\tvalid_0's auc: 0.764066\n",
      "[7]\tvalid_0's auc: 0.764079\n",
      "[8]\tvalid_0's auc: 0.764097\n",
      "[9]\tvalid_0's auc: 0.764102\n",
      "[10]\tvalid_0's auc: 0.764099\n",
      "Early stopping, best iteration is:\n",
      "[5]\tvalid_0's auc: 0.76507\n",
      "CPU times: user 1min 47s, sys: 1min 1s, total: 2min 48s\n",
      "Wall time: 1min 50s\n"
     ]
    }
   ],
   "source": [
    "%%time\n",
    "gbm = lgb.train(params, lgb_train, num_boost_round=20, valid_sets=lgb_valid, early_stopping_rounds=5)"
   ]
  },
  {
   "cell_type": "code",
   "execution_count": 425,
   "metadata": {
    "collapsed": true,
    "hidden": true
   },
   "outputs": [
    {
     "name": "stdout",
     "output_type": "stream",
     "text": [
      "[1]\tvalid_0's auc: 0.801244\n",
      "Training until validation scores don't improve for 5 rounds.\n",
      "[2]\tvalid_0's auc: 0.839991\n",
      "[3]\tvalid_0's auc: 0.839994\n",
      "[4]\tvalid_0's auc: 0.840202\n",
      "[5]\tvalid_0's auc: 0.839315\n",
      "[6]\tvalid_0's auc: 0.838265\n",
      "[7]\tvalid_0's auc: 0.84228\n",
      "[8]\tvalid_0's auc: 0.842281\n",
      "[9]\tvalid_0's auc: 0.843299\n",
      "[10]\tvalid_0's auc: 0.843192\n",
      "[11]\tvalid_0's auc: 0.848129\n",
      "[12]\tvalid_0's auc: 0.847796\n",
      "[13]\tvalid_0's auc: 0.857313\n",
      "[14]\tvalid_0's auc: 0.859492\n",
      "[15]\tvalid_0's auc: 0.86315\n",
      "[16]\tvalid_0's auc: 0.868465\n",
      "[17]\tvalid_0's auc: 0.86912\n",
      "[18]\tvalid_0's auc: 0.872218\n",
      "[19]\tvalid_0's auc: 0.873436\n",
      "[20]\tvalid_0's auc: 0.873306\n",
      "[21]\tvalid_0's auc: 0.873344\n",
      "[22]\tvalid_0's auc: 0.873869\n",
      "[23]\tvalid_0's auc: 0.872457\n",
      "[24]\tvalid_0's auc: 0.877143\n",
      "[25]\tvalid_0's auc: 0.877747\n",
      "[26]\tvalid_0's auc: 0.87679\n",
      "[27]\tvalid_0's auc: 0.88004\n",
      "[28]\tvalid_0's auc: 0.88094\n",
      "[29]\tvalid_0's auc: 0.880021\n",
      "[30]\tvalid_0's auc: 0.87856\n",
      "[31]\tvalid_0's auc: 0.878645\n",
      "[32]\tvalid_0's auc: 0.878244\n",
      "[33]\tvalid_0's auc: 0.87899\n",
      "Early stopping, best iteration is:\n",
      "[28]\tvalid_0's auc: 0.88094\n",
      "CPU times: user 19.4 s, sys: 2.99 s, total: 22.3 s\n",
      "Wall time: 9.49 s\n"
     ]
    }
   ],
   "source": [
    "%%time\n",
    "# downsampled\n",
    "gbm = lgb.train(params, lgb_train_dsp_002, num_boost_round=40, valid_sets=lgb_valid, early_stopping_rounds=5)"
   ]
  },
  {
   "cell_type": "markdown",
   "metadata": {},
   "source": [
    "## 2.3 Optimize Ensemble Model (gbm + lg)"
   ]
  },
  {
   "cell_type": "markdown",
   "metadata": {},
   "source": [
    "### best model\n",
    "auc = 0.891"
   ]
  },
  {
   "cell_type": "code",
   "execution_count": 547,
   "metadata": {},
   "outputs": [
    {
     "data": {
      "text/plain": [
       "0.8905354517435328"
      ]
     },
     "execution_count": 547,
     "metadata": {},
     "output_type": "execute_result"
    }
   ],
   "source": [
    "# best ensemble prediction:\n",
    "pred_esb = ensemble_gbm_lg(gbm_best_t, lg, X_valid_t, X_valid, 0.8)\n",
    "\n",
    "# gbm + lg result\n",
    "roc_auc_score(y_valid, pred_esb)"
   ]
  },
  {
   "cell_type": "markdown",
   "metadata": {
    "heading_collapsed": true
   },
   "source": [
    "### optimization log"
   ]
  },
  {
   "cell_type": "code",
   "execution_count": 538,
   "metadata": {
    "hidden": true
   },
   "outputs": [],
   "source": [
    "gbm_pcts = np.linspace(0,1,11)\n",
    "pred_gbm = gbm_best_t.predict(X_valid_t)\n",
    "pred_lg = lg.predict_proba(X_valid)[:,1]\n",
    "\n",
    "auc_esbs = eval_ensemble_weight(gbm_pcts, pred_gbm, pred_lg, y_valid)"
   ]
  },
  {
   "cell_type": "code",
   "execution_count": 539,
   "metadata": {
    "hidden": true
   },
   "outputs": [
    {
     "data": {
      "text/plain": [
       "[0.8577306452013026,\n",
       " 0.8631789557596824,\n",
       " 0.8682949057640229,\n",
       " 0.8730597998312885,\n",
       " 0.8774997658594792,\n",
       " 0.8816441264240806,\n",
       " 0.8854954568263299,\n",
       " 0.8888369264816368,\n",
       " 0.8905354517435328,\n",
       " 0.8900617104114181,\n",
       " 0.8846227801433061]"
      ]
     },
     "execution_count": 539,
     "metadata": {},
     "output_type": "execute_result"
    }
   ],
   "source": [
    "auc_esbs"
   ]
  },
  {
   "cell_type": "markdown",
   "metadata": {},
   "source": [
    "# 3. Bidding Strategy Selection\n"
   ]
  },
  {
   "cell_type": "code",
   "execution_count": 548,
   "metadata": {},
   "outputs": [],
   "source": [
    "%run C_Bid_Strategy_Selection"
   ]
  },
  {
   "cell_type": "code",
   "execution_count": 549,
   "metadata": {
    "collapsed": true
   },
   "outputs": [],
   "source": [
    "# only payrice and click are relevant to bidding\n",
    "payprice_valid = valid.payprice.values\n",
    "click_valid = valid.click.values"
   ]
  },
  {
   "cell_type": "code",
   "execution_count": 550,
   "metadata": {},
   "outputs": [
    {
     "data": {
      "text/plain": [
       "0.0007375623256619447"
      ]
     },
     "execution_count": 550,
     "metadata": {},
     "output_type": "execute_result"
    }
   ],
   "source": [
    "# use average CTR of training dataset to estimated CTR in validation dataset\n",
    "avg_ctr = np.sum(train['click']) / train.shape[0]\n",
    "avg_ctr"
   ]
  },
  {
   "cell_type": "code",
   "execution_count": 579,
   "metadata": {},
   "outputs": [
    {
     "data": {
      "text/plain": [
       "0.8793282460376302"
      ]
     },
     "execution_count": 579,
     "metadata": {},
     "output_type": "execute_result"
    }
   ],
   "source": [
    "# use ctr prediction from zonghan\n",
    "y_pred_zh = pd.read_csv('./data/pred_dev_esm.csv')\n",
    "y_pred_zh = np.array([p[0] for p in y_pred_zh.values])\n",
    "roc_auc_score(valid['click'], y_pred_zh)"
   ]
  },
  {
   "cell_type": "code",
   "execution_count": 620,
   "metadata": {},
   "outputs": [
    {
     "data": {
      "text/plain": [
       "0.8905354517435328"
      ]
     },
     "execution_count": 620,
     "metadata": {},
     "output_type": "execute_result"
    }
   ],
   "source": [
    "# use my own ctr prediction\n",
    "y_pred = pred_esb\n",
    "roc_auc_score(valid['click'], y_pred)"
   ]
  },
  {
   "cell_type": "code",
   "execution_count": 611,
   "metadata": {
    "collapsed": true
   },
   "outputs": [],
   "source": [
    "# re-calibrate\n",
    "def re_calibrate(p , w):\n",
    "    return p / (p + (1-p)/w)"
   ]
  },
  {
   "cell_type": "code",
   "execution_count": 621,
   "metadata": {},
   "outputs": [
    {
     "data": {
      "text/plain": [
       "0.8905354517435328"
      ]
     },
     "execution_count": 621,
     "metadata": {},
     "output_type": "execute_result"
    }
   ],
   "source": [
    "# re-calibration\n",
    "y_pred = [re_calibrate(p , w) for p in y_pred]\n",
    "roc_auc_score(valid['click'], y_pred)\n"
   ]
  },
  {
   "cell_type": "code",
   "execution_count": 629,
   "metadata": {},
   "outputs": [],
   "source": [
    "y_pred = np.array(y_pred)"
   ]
  },
  {
   "cell_type": "code",
   "execution_count": 622,
   "metadata": {},
   "outputs": [
    {
     "name": "stdout",
     "output_type": "stream",
     "text": [
      "mean: 0.0007437860898635258, min: 0.00014731705009131735, max: 0.013155023785198578\n",
      "mean: 0.001076886429439099, min: 1.4272456400485166e-05, max: 0.3853249381516921\n"
     ]
    },
    {
     "data": {
      "text/plain": [
       "(None, None)"
      ]
     },
     "execution_count": 622,
     "metadata": {},
     "output_type": "execute_result"
    }
   ],
   "source": [
    "stats(y_pred), stats(y_pred_zh)"
   ]
  },
  {
   "cell_type": "markdown",
   "metadata": {},
   "source": [
    "## 3.1 linear bidding \n",
    "Best click = 163\n",
    "avg_ctr = 0.0007375623256619447\n",
    "base_bid = 66 or 67"
   ]
  },
  {
   "cell_type": "markdown",
   "metadata": {},
   "source": [
    "### 3.1.1 optimization"
   ]
  },
  {
   "cell_type": "code",
   "execution_count": 631,
   "metadata": {},
   "outputs": [
    {
     "name": "stdout",
     "output_type": "stream",
     "text": [
      "CPU times: user 72 µs, sys: 5 µs, total: 77 µs\n",
      "Wall time: 82.3 µs\n"
     ]
    }
   ],
   "source": [
    "%%time\n",
    "def interval_search_tmp(base_bids = np.linspace(0.294, 0.296, 21)):\n",
    "    # visualize interval search\n",
    "    clicks = []\n",
    "    spents = []\n",
    "    imps = []\n",
    "\n",
    "    for b in base_bids:\n",
    "        ## compute bids based on bidding strategy\n",
    "        # calculate click gained\n",
    "        bids_linear = linear_bid(b, y_pred, avg_ctr)\n",
    "        # convert df to list\n",
    "    #     bids_linear = [b[0] for b in bids_linear.values]\n",
    "        accum_click, accum_imp, budget, i = count_click_numb(bids_linear, payprice_valid, click_valid)\n",
    "\n",
    "        clicks.append(accum_click)\n",
    "        spents.append(budget)\n",
    "        imps.append(accum_imp)\n",
    "        \n",
    "    plot_interval_search(base_bids, clicks)\n",
    "#     plt.axvline(x=base_bids[6], color='r')\n"
   ]
  },
  {
   "cell_type": "code",
   "execution_count": 632,
   "metadata": {
    "scrolled": true
   },
   "outputs": [
    {
     "data": {
      "image/png": "[encoded data removed]",
      "text/plain": [
       "<matplotlib.figure.Figure at 0x12b9bb978>"
      ]
     },
     "metadata": {},
     "output_type": "display_data"
    }
   ],
   "source": [
    "interval_search_tmp(base_bids = np.linspace(0, 100, 11))"
   ]
  },
  {
   "cell_type": "code",
   "execution_count": 634,
   "metadata": {},
   "outputs": [
    {
     "data": {
      "image/png": "[encoded data removed]",
      "text/plain": [
       "<matplotlib.figure.Figure at 0x132fca4e0>"
      ]
     },
     "metadata": {},
     "output_type": "display_data"
    }
   ],
   "source": [
    "interval_search_tmp(base_bids = np.linspace(68, 78, 11))"
   ]
  },
  {
   "cell_type": "markdown",
   "metadata": {
    "heading_collapsed": true
   },
   "source": [
    "### 3.1.2 analysis"
   ]
  },
  {
   "cell_type": "code",
   "execution_count": 344,
   "metadata": {
    "hidden": true
   },
   "outputs": [
    {
     "data": {
      "text/plain": [
       "(163, 123498, 48410, 303924)"
      ]
     },
     "execution_count": 344,
     "metadata": {},
     "output_type": "execute_result"
    }
   ],
   "source": [
    "# best linear bidding\n",
    "bids_linear_best = linear_bid(67, y_pred, avg_ctr)\n",
    "# cvt to list\n",
    "bids_linear_best = [b[0] for b in bids_linear_best.values]\n",
    "\n",
    "# evaluation\n",
    "count_click_numb(bids_linear_best, payprice_valid, click_valid)"
   ]
  },
  {
   "cell_type": "code",
   "execution_count": 343,
   "metadata": {
    "hidden": true
   },
   "outputs": [
    {
     "name": "stdout",
     "output_type": "stream",
     "text": [
      "mean: 97.82412721211797, min: 1.2965068111014082, max: 35002.83292397484\n"
     ]
    }
   ],
   "source": [
    "# analyze bid portfolio:\n",
    "stats(bids_linear_best)"
   ]
  },
  {
   "cell_type": "code",
   "execution_count": 130,
   "metadata": {
    "hidden": true
   },
   "outputs": [
    {
     "data": {
      "text/plain": [
       "(0, 300)"
      ]
     },
     "execution_count": 130,
     "metadata": {},
     "output_type": "execute_result"
    }
   ],
   "source": [
    "# range of actual payprice\n",
    "np.min(train['payprice']), np.max(train['payprice'])"
   ]
  },
  {
   "cell_type": "code",
   "execution_count": 139,
   "metadata": {
    "hidden": true,
    "scrolled": true
   },
   "outputs": [
    {
     "data": {
      "image/png": "[encoded data removed]",
      "text/plain": [
       "<matplotlib.figure.Figure at 0x1ae1baac8>"
      ]
     },
     "metadata": {},
     "output_type": "display_data"
    }
   ],
   "source": [
    "plt.boxplot(bids_linear)\n",
    "plt.yscale('log', nonposy='clip')\n",
    "# plt.title('Distriubtion of bids yield by linear bidding')\n",
    "# # plt.xlabel('bidprice')\n",
    "# plt.ylabel('bidprice')\n",
    "# plt.axhline(y=300, color='r')\n",
    "# plt.text(0.43,300,'300', color='r')"
   ]
  },
  {
   "cell_type": "code",
   "execution_count": 347,
   "metadata": {
    "hidden": true
   },
   "outputs": [
    {
     "data": {
      "text/plain": [
       "Text(0,0.5,'frequence')"
      ]
     },
     "execution_count": 347,
     "metadata": {},
     "output_type": "execute_result"
    },
    {
     "data": {
      "image/png": "[encoded data removed]",
      "text/plain": [
       "<matplotlib.figure.Figure at 0x1571c95c0>"
      ]
     },
     "metadata": {},
     "output_type": "display_data"
    }
   ],
   "source": [
    "plt.hist(bids_linear_best)\n",
    "plt.yscale('log', nonposy='clip')\n",
    "# plt.title('Distriubtion of bids yield by linear bidding')\n",
    "plt.xlabel('bidprice')\n",
    "plt.ylabel('frequence')\n",
    "# plt.axhline(y=300, color='r')\n",
    "# plt.text(0.43,300,'300', color='r')"
   ]
  },
  {
   "cell_type": "markdown",
   "metadata": {
    "heading_collapsed": true
   },
   "source": [
    "## 3.2 Piecewise Bidding"
   ]
  },
  {
   "cell_type": "code",
   "execution_count": 243,
   "metadata": {
    "collapsed": true,
    "hidden": true
   },
   "outputs": [],
   "source": [
    "# best linear bidding\n",
    "bids_linear = linear_bid(61, y_pred, avg_ctr)\n",
    "# convert to list\n",
    "bids_linear = bids_linear.values\n",
    "bids_linear = [b[0] for b in bids_linear]"
   ]
  },
  {
   "cell_type": "code",
   "execution_count": 244,
   "metadata": {
    "hidden": true
   },
   "outputs": [
    {
     "data": {
      "text/plain": [
       "(163, 124083, True)"
      ]
     },
     "execution_count": 244,
     "metadata": {},
     "output_type": "execute_result"
    }
   ],
   "source": [
    "count_click_numb(bids_linear, payprice_valid, click_valid)"
   ]
  },
  {
   "cell_type": "code",
   "execution_count": 237,
   "metadata": {
    "collapsed": true,
    "hidden": true
   },
   "outputs": [],
   "source": [
    "def piecewise_bid(t, bids_linear, maxBid, maxPay):\n",
    "    \"\"\"\n",
    "    refer to report for details\n",
    "    \"\"\"\n",
    "    bids_pw = []\n",
    "    for lb in bids_linear:\n",
    "        if lb <= t:\n",
    "            bid = lb\n",
    "        else:\n",
    "            bid = (t-maxBid)/(t-maxPay)*lb -(t-maxBid)/(t-maxPay)*t + t\n",
    "        bids_pw.append(bid)\n",
    "    \n",
    "    return bids_pw"
   ]
  },
  {
   "cell_type": "code",
   "execution_count": 238,
   "metadata": {
    "collapsed": true,
    "hidden": true
   },
   "outputs": [],
   "source": [
    "# pre-setted parameters\n",
    "maxBid = 35364.9\n",
    "maxPay = 300"
   ]
  },
  {
   "cell_type": "code",
   "execution_count": 245,
   "metadata": {
    "hidden": true
   },
   "outputs": [
    {
     "data": {
      "text/plain": [
       "(163, 124050, True)"
      ]
     },
     "execution_count": 245,
     "metadata": {},
     "output_type": "execute_result"
    }
   ],
   "source": [
    "bids_pw = piecewise_bid(280, bids_linear, maxBid, maxPay)\n",
    "count_click_numb(bids_pw, payprice_valid, click_valid)"
   ]
  },
  {
   "cell_type": "code",
   "execution_count": 203,
   "metadata": {
    "hidden": true
   },
   "outputs": [
    {
     "name": "stdout",
     "output_type": "stream",
     "text": [
      "mean: 98.83591679259393, min: 1.3099165099136865, max: 35364.86530442046\n"
     ]
    }
   ],
   "source": [
    "stats(bids_pw)"
   ]
  },
  {
   "cell_type": "code",
   "execution_count": 187,
   "metadata": {
    "hidden": true
   },
   "outputs": [
    {
     "data": {
      "text/plain": [
       "[11.1467982748344,\n",
       " 6.619534565881755,\n",
       " 5.91655606996084,\n",
       " 8.112083481534908,\n",
       " 24.584088380060713]"
      ]
     },
     "execution_count": 187,
     "metadata": {},
     "output_type": "execute_result"
    }
   ],
   "source": [
    "bids_pw[:5]"
   ]
  },
  {
   "cell_type": "code",
   "execution_count": null,
   "metadata": {
    "collapsed": true,
    "hidden": true
   },
   "outputs": [],
   "source": [
    "# optimize "
   ]
  },
  {
   "cell_type": "code",
   "execution_count": 214,
   "metadata": {
    "hidden": true
   },
   "outputs": [
    {
     "data": {
      "text/plain": [
       "array([  0. ,  29.9,  59.8,  89.7, 119.6, 149.5, 179.4, 209.3, 239.2,\n",
       "       269.1, 299. ])"
      ]
     },
     "execution_count": 214,
     "metadata": {},
     "output_type": "execute_result"
    }
   ],
   "source": [
    "np.linspace(0, 299, 11)"
   ]
  },
  {
   "cell_type": "code",
   "execution_count": 235,
   "metadata": {
    "hidden": true
   },
   "outputs": [
    {
     "ename": "IndexError",
     "evalue": "invalid index to scalar variable.",
     "output_type": "error",
     "traceback": [
      "\u001b[0;31m---------------------------------------------------------------------------\u001b[0m",
      "\u001b[0;31mIndexError\u001b[0m                                Traceback (most recent call last)",
      "\u001b[0;32m<timed exec>\u001b[0m in \u001b[0;36m<module>\u001b[0;34m()\u001b[0m\n",
      "\u001b[0;32m~/AnacondaProjects/coursework/ad_bidding/C_Bid_Strategy_Selection.py\u001b[0m in \u001b[0;36mcount_click_numb\u001b[0;34m(bidprice, payprice, click, budget)\u001b[0m\n\u001b[1;32m     51\u001b[0m             \u001b[0mbudget\u001b[0m \u001b[0;34m-=\u001b[0m \u001b[0mpayprice\u001b[0m\u001b[0;34m[\u001b[0m\u001b[0mi\u001b[0m\u001b[0;34m]\u001b[0m\u001b[0;34m\u001b[0m\u001b[0m\n\u001b[1;32m     52\u001b[0m             \u001b[0maccum_imp\u001b[0m \u001b[0;34m+=\u001b[0m \u001b[0;36m1\u001b[0m\u001b[0;34m\u001b[0m\u001b[0m\n\u001b[0;32m---> 53\u001b[0;31m             \u001b[0maccum_click\u001b[0m \u001b[0;34m+=\u001b[0m \u001b[0mclick\u001b[0m\u001b[0;34m[\u001b[0m\u001b[0mi\u001b[0m\u001b[0;34m]\u001b[0m\u001b[0;34m\u001b[0m\u001b[0m\n\u001b[0m\u001b[1;32m     54\u001b[0m         \u001b[0;32mif\u001b[0m \u001b[0mbudget\u001b[0m \u001b[0;34m<=\u001b[0m \u001b[0;36m0\u001b[0m\u001b[0;34m:\u001b[0m\u001b[0;34m\u001b[0m\u001b[0m\n\u001b[1;32m     55\u001b[0m             \u001b[0;32mbreak\u001b[0m\u001b[0;34m\u001b[0m\u001b[0m\n",
      "\u001b[0;31mIndexError\u001b[0m: invalid index to scalar variable."
     ]
    }
   ],
   "source": [
    "%%time\n",
    "# visualize interval search\n",
    "ts = np.linspace(0, 299, 11)\n",
    "clicks_pw = []\n",
    "spents_pw = []\n",
    "\n",
    "for t in ts:\n",
    "    ## compute bids based on bidding strategy\n",
    "#     # linear bidding\n",
    "#     bids_linear = linear_bid(b, y_pred, avg_ctr)\n",
    "    \n",
    "    # piecewise bidding\n",
    "    bids_pw = piecewise_bid(t, bids_linear, maxBid, maxPay)\n",
    "\n",
    "    # calculate click gained\n",
    "    accum_click_pw, accum_imp_pw, spent_pw = count_click_numb(bids_pw, payprice, click)\n",
    "    clicks_pw.append(accum_click_pw)\n",
    "    spents_pw.append(accum_imp_pw)\n"
   ]
  },
  {
   "cell_type": "code",
   "execution_count": 234,
   "metadata": {
    "hidden": true
   },
   "outputs": [
    {
     "data": {
      "image/png": "[encoded data removed]",
      "text/plain": [
       "<matplotlib.figure.Figure at 0x1b5b1cfd0>"
      ]
     },
     "metadata": {},
     "output_type": "display_data"
    }
   ],
   "source": [
    "plot_interval_search(ts, clicks_pw)\n",
    "# plt.axvline(x=base_bids[6], color='r')"
   ]
  },
  {
   "cell_type": "code",
   "execution_count": 217,
   "metadata": {
    "hidden": true
   },
   "outputs": [
    {
     "data": {
      "image/png": "[encoded data removed]",
      "text/plain": [
       "<matplotlib.figure.Figure at 0x1adf086a0>"
      ]
     },
     "metadata": {},
     "output_type": "display_data"
    }
   ],
   "source": [
    "plot_interval_search(ts, clicks_pw)\n",
    "# plt.axvline(x=base_bids[6], color='r')"
   ]
  },
  {
   "cell_type": "code",
   "execution_count": 249,
   "metadata": {
    "collapsed": true,
    "hidden": true
   },
   "outputs": [],
   "source": [
    "%%time\n",
    "# visualize interval search\n",
    "ts = np.linspace(200, 299, 100)\n",
    "clicks_pw = []\n",
    "spents_pw = []\n",
    "\n",
    "for t in ts:\n",
    "    ## compute bids based on bidding strategy\n",
    "#     # linear bidding\n",
    "#     bids_linear = linear_bid(b, y_pred, avg_ctr)\n",
    "    \n",
    "    # piecewise bidding\n",
    "    bids_pw = piecewise_bid(t, bids_linear, maxBid, maxPay)\n",
    "\n",
    "    # calculate click gained\n",
    "    accum_click_pw, accum_imp_pw, spent_pw = count_click_numb(bids_pw, payprice_valid, click_valid)\n",
    "    clicks_pw.append(accum_click_pw)\n",
    "    spents_pw.append(accum_imp_pw)\n"
   ]
  },
  {
   "cell_type": "code",
   "execution_count": 222,
   "metadata": {
    "hidden": true,
    "scrolled": true
   },
   "outputs": [
    {
     "data": {
      "image/png": "[encoded data removed]",
      "text/plain": [
       "<matplotlib.figure.Figure at 0x1adffd9b0>"
      ]
     },
     "metadata": {},
     "output_type": "display_data"
    }
   ],
   "source": [
    "plot_interval_search(ts, clicks_pw)\n",
    "# plt.axvline(x=base_bids[6], color='r')"
   ]
  },
  {
   "cell_type": "code",
   "execution_count": 253,
   "metadata": {
    "hidden": true,
    "scrolled": true
   },
   "outputs": [
    {
     "name": "stdout",
     "output_type": "stream",
     "text": [
      "CPU times: user 20.5 s, sys: 77.8 ms, total: 20.6 s\n",
      "Wall time: 20.6 s\n"
     ]
    }
   ],
   "source": [
    "%%time\n",
    "# visualize interval search\n",
    "ts = np.linspace(270, 299, 30)\n",
    "clicks_pw = []\n",
    "imps_pw = []\n",
    "\n",
    "for t in ts:\n",
    "    ## compute bids based on bidding strategy\n",
    "#     # linear bidding\n",
    "#     bids_linear = linear_bid(b, y_pred, avg_ctr)\n",
    "    \n",
    "    # piecewise bidding\n",
    "    bids_pw = piecewise_bid(t, bids_linear, maxBid, maxPay)\n",
    "\n",
    "    # calculate click gained\n",
    "    accum_click_pw, accum_imp_pw, spent_pw = count_click_numb(bids_pw, payprice_valid, click_valid)\n",
    "    clicks_pw.append(accum_click_pw)\n",
    "    imps_pw.append(accum_imp_pw)\n"
   ]
  },
  {
   "cell_type": "code",
   "execution_count": 254,
   "metadata": {
    "hidden": true,
    "scrolled": true
   },
   "outputs": [
    {
     "data": {
      "image/png": "[encoded data removed]",
      "text/plain": [
       "<matplotlib.figure.Figure at 0x15817f828>"
      ]
     },
     "metadata": {},
     "output_type": "display_data"
    }
   ],
   "source": [
    "plot_interval_search(ts, clicks_pw)\n",
    "# plt.axvline(x=base_bids[6], color='r')"
   ]
  },
  {
   "cell_type": "code",
   "execution_count": 258,
   "metadata": {
    "hidden": true,
    "scrolled": true
   },
   "outputs": [
    {
     "data": {
      "image/png": "[encoded data removed]",
      "text/plain": [
       "<matplotlib.figure.Figure at 0x1577304e0>"
      ]
     },
     "metadata": {},
     "output_type": "display_data"
    }
   ],
   "source": [
    "# number of impressions gained\n",
    "plot_interval_search(ts, spents_pw)\n",
    "# plt.axvline(x=base_bids[6], color='r')"
   ]
  },
  {
   "cell_type": "markdown",
   "metadata": {
    "heading_collapsed": true
   },
   "source": [
    "## 3.3 Save-for-future bidding"
   ]
  },
  {
   "cell_type": "code",
   "execution_count": 262,
   "metadata": {
    "hidden": true
   },
   "outputs": [
    {
     "data": {
      "text/plain": [
       "(163, 124083, -84, 303608)"
      ]
     },
     "execution_count": 262,
     "metadata": {},
     "output_type": "execute_result"
    }
   ],
   "source": [
    "# drawback of linear bidding: stop too early\n",
    "count_click_numb(bids_linear, payprice_valid, click_valid)"
   ]
  },
  {
   "cell_type": "code",
   "execution_count": 263,
   "metadata": {
    "hidden": true
   },
   "outputs": [
    {
     "data": {
      "text/plain": [
       "303925"
      ]
     },
     "execution_count": 263,
     "metadata": {},
     "output_type": "execute_result"
    }
   ],
   "source": [
    "len(payprice_valid)"
   ]
  },
  {
   "cell_type": "code",
   "execution_count": null,
   "metadata": {
    "collapsed": true,
    "hidden": true
   },
   "outputs": [],
   "source": []
  },
  {
   "cell_type": "markdown",
   "metadata": {
    "heading_collapsed": true
   },
   "source": [
    "## 3.4 Negative Exponential bidding\n",
    "Avoid overly hight/low bidprice yield by linear bidding strategy"
   ]
  },
  {
   "cell_type": "code",
   "execution_count": 150,
   "metadata": {
    "collapsed": true,
    "hidden": true
   },
   "outputs": [],
   "source": [
    "# simple negatice exponential bidding\n",
    "def exp_bid(t, bids_linear):\n",
    "    theta = -1.847\n",
    "\n",
    "    bids_exp = []\n",
    "\n",
    "    for bid in bids_linear:\n",
    "        if bid <= t:\n",
    "            bids_exp.append(bid)\n",
    "        else:\n",
    "            bids_exp.append(bid**theta)\n",
    "    \n",
    "    return bids_exp"
   ]
  },
  {
   "cell_type": "code",
   "execution_count": 198,
   "metadata": {
    "hidden": true
   },
   "outputs": [
    {
     "data": {
      "text/plain": [
       "(0, 82, False)"
      ]
     },
     "execution_count": 198,
     "metadata": {},
     "output_type": "execute_result"
    }
   ],
   "source": [
    "bids_exp = exp_bid(2, bids_linear)\n",
    "count_click_numb(bids_exp, payprice, click)"
   ]
  },
  {
   "cell_type": "code",
   "execution_count": 162,
   "metadata": {
    "hidden": true
   },
   "outputs": [
    {
     "name": "stdout",
     "output_type": "stream",
     "text": [
      "mean: 78.23400509994242, min: 0, max: 300\n"
     ]
    }
   ],
   "source": [
    "stats(payprice)"
   ]
  },
  {
   "cell_type": "code",
   "execution_count": 164,
   "metadata": {
    "hidden": true
   },
   "outputs": [
    {
     "name": "stdout",
     "output_type": "stream",
     "text": [
      "mean: 98.83591679259393, min: 1.3099165099136865, max: 35364.86530442046\n"
     ]
    }
   ],
   "source": [
    "stats(bids_linear)"
   ]
  },
  {
   "cell_type": "code",
   "execution_count": 104,
   "metadata": {
    "hidden": true
   },
   "outputs": [
    {
     "data": {
      "text/plain": [
       "1.8473689918905405"
      ]
     },
     "execution_count": 104,
     "metadata": {},
     "output_type": "execute_result"
    }
   ],
   "source": [
    "math.log(37684, 300)"
   ]
  },
  {
   "cell_type": "code",
   "execution_count": 109,
   "metadata": {
    "hidden": true
   },
   "outputs": [
    {
     "data": {
      "text/plain": [
       "300.34204370127605"
      ]
     },
     "execution_count": 109,
     "metadata": {},
     "output_type": "execute_result"
    }
   ],
   "source": [
    "# find base of log\n",
    "37684**(1/1.847)"
   ]
  },
  {
   "cell_type": "code",
   "execution_count": null,
   "metadata": {
    "collapsed": true,
    "hidden": true
   },
   "outputs": [],
   "source": []
  },
  {
   "cell_type": "code",
   "execution_count": null,
   "metadata": {
    "collapsed": true,
    "hidden": true
   },
   "outputs": [],
   "source": []
  },
  {
   "cell_type": "code",
   "execution_count": 108,
   "metadata": {
    "hidden": true
   },
   "outputs": [
    {
     "data": {
      "text/plain": [
       "37604.771792098785"
      ]
     },
     "execution_count": 108,
     "metadata": {},
     "output_type": "execute_result"
    }
   ],
   "source": [
    "300 ** (1.847)"
   ]
  },
  {
   "cell_type": "code",
   "execution_count": 100,
   "metadata": {
    "collapsed": true,
    "hidden": true
   },
   "outputs": [],
   "source": [
    "# map the range of [1.4, 37683.9] to [0, 300]"
   ]
  },
  {
   "cell_type": "code",
   "execution_count": 102,
   "metadata": {
    "hidden": true
   },
   "outputs": [
    {
     "data": {
      "text/plain": [
       "1.8473685266467057"
      ]
     },
     "execution_count": 102,
     "metadata": {},
     "output_type": "execute_result"
    }
   ],
   "source": [
    "math.log(37683.9, 300)"
   ]
  },
  {
   "cell_type": "markdown",
   "metadata": {
    "heading_collapsed": true
   },
   "source": [
    "## 3.5 squared-root bidding"
   ]
  },
  {
   "cell_type": "code",
   "execution_count": 66,
   "metadata": {
    "hidden": true
   },
   "outputs": [
    {
     "name": "stdout",
     "output_type": "stream",
     "text": [
      "mean: 0    76.677703\n",
      "dtype: float64, min: 0    11.128586\n",
      "dtype: float64, max: 0    1828.538813\n",
      "dtype: float64\n"
     ]
    }
   ],
   "source": [
    "# bid square rooted\n",
    "base_bid = 80\n",
    "bids_sqrt = square_root_bid(base_bid, y_pred, avg_ctr)\n",
    "stats(bids_sqrt)"
   ]
  },
  {
   "cell_type": "markdown",
   "metadata": {},
   "source": [
    "## 3.3 save budget for future"
   ]
  },
  {
   "cell_type": "markdown",
   "metadata": {},
   "source": [
    "if expected_spent > remain_budget * 10:\n",
    "    D = 0.8\n",
    "if expected_spent < remain_budget:\n",
    "    D = 1.2\n",
    "\n",
    "\n",
    "bidprice = estimated_price * D"
   ]
  },
  {
   "cell_type": "markdown",
   "metadata": {},
   "source": [
    "# 4. Submit Result"
   ]
  },
  {
   "cell_type": "code",
   "execution_count": 367,
   "metadata": {},
   "outputs": [],
   "source": [
    "def submission_gen(test, bids, file_name):\n",
    "    result = pd.DataFrame()\n",
    "    result['bidid'] = test['bidid']\n",
    "    result['bidprice'] = bids\n",
    "    result.to_csv(file_name, index=False)\n",
    "    print('file generated: {}'.format(file_name))\n"
   ]
  },
  {
   "cell_type": "code",
   "execution_count": 637,
   "metadata": {},
   "outputs": [
    {
     "data": {
      "text/plain": [
       "array([112.13182326, 346.9308436 ,  24.91049632, ...,  55.6606359 ,\n",
       "        98.78152893,  28.98360136])"
      ]
     },
     "execution_count": 637,
     "metadata": {},
     "output_type": "execute_result"
    }
   ],
   "source": [
    "# generate bids from linear bidding strategy\n",
    "\n",
    "# use ensemble model to predict ctr\n",
    "pred_test = ensemble_gbm_lg(gbm_best_t, lg, X_test_t, X_test, 0.8)\n",
    "# re-caliration\n",
    "pred_test = [re_calibrate(p , w) for p in pred_test]\n",
    "pred_test = np.array(pred_test)\n",
    "bids_test = linear_bid(73, pred_test, avg_ctr)\n",
    "bids_test\n",
    "# pred_test = lg.predict_proba(X_test)[:, 1]\n",
    "# bids_linear_test = linear_bid(67, pred_test, avg_ctr)\n",
    "# bids_linear_test"
   ]
  },
  {
   "cell_type": "code",
   "execution_count": 639,
   "metadata": {},
   "outputs": [
    {
     "name": "stdout",
     "output_type": "stream",
     "text": [
      "file generated: ./Submission/gmb_lg_submit.csv\n"
     ]
    }
   ],
   "source": [
    "submission_gen(test, bids_test, './Submission/gmb_lg_submit.csv')"
   ]
  },
  {
   "cell_type": "markdown",
   "metadata": {},
   "source": [
    "### submit result"
   ]
  },
  {
   "cell_type": "code",
   "execution_count": null,
   "metadata": {
    "collapsed": true
   },
   "outputs": [],
   "source": [
    "curl http://deepmining.cs.ucl.ac.uk/api/upload/wining_criteria_1/BSmn1t3iGH2F -X Post -F 'file=@./Submission/gmb_lg_submit.csv'\n",
    "    \n",
    "    \n",
    "    "
   ]
  },
  {
   "cell_type": "code",
   "execution_count": null,
   "metadata": {
    "collapsed": true
   },
   "outputs": [],
   "source": [
    "# submit result example\n",
    "curl\n",
    "http://deepmining.cs.ucl.ac.uk/api/upload/wining_criteria_1/HS72B2hs -X Post -F 'file=@./example_submission.csv'"
   ]
  },
  {
   "cell_type": "markdown",
   "metadata": {},
   "source": [
    "# notes\n",
    "* add slotid when using xgboost\n",
    "* add ctr of each group as fature\n",
    "* other bidding strategy: correct the mistake made in ctr prediction"
   ]
  },
  {
   "cell_type": "code",
   "execution_count": 63,
   "metadata": {},
   "outputs": [
    {
     "data": {
      "text/plain": [
       "((303925, 25), (303375, 22))"
      ]
     },
     "execution_count": 63,
     "metadata": {},
     "output_type": "execute_result"
    }
   ],
   "source": [
    "valid.shape, test.shape"
   ]
  },
  {
   "cell_type": "code",
   "execution_count": null,
   "metadata": {
    "collapsed": true
   },
   "outputs": [],
   "source": []
  }
 ],
 "metadata": {
  "kernelspec": {
   "display_name": "Python 3",
   "language": "python",
   "name": "python3"
  },
  "language_info": {
   "codemirror_mode": {
    "name": "ipython",
    "version": 3
   },
   "file_extension": ".py",
   "mimetype": "text/x-python",
   "name": "python",
   "nbconvert_exporter": "python",
   "pygments_lexer": "ipython3",
   "version": "3.6.3"
  }
 },
 "nbformat": 4,
 "nbformat_minor": 2
}
